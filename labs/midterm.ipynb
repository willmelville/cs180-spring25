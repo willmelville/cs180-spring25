{
  "nbformat": 4,
  "nbformat_minor": 0,
  "metadata": {
    "colab": {
      "provenance": []
    },
    "kernelspec": {
      "name": "python3",
      "display_name": "Python 3"
    },
    "language_info": {
      "name": "python"
    }
  },
  "cells": [
    {
      "cell_type": "code",
      "execution_count": 1,
      "metadata": {
        "id": "i3IKnoSYUo9k"
      },
      "outputs": [],
      "source": [
        "import numpy as np\n",
        "import pandas as pd\n",
        "from matplotlib import pyplot as plt\n",
        "import seaborn as sns"
      ]
    },
    {
      "cell_type": "code",
      "source": [
        "#import data\n",
        "\n",
        "stars = pd.read_csv('https://raw.githubusercontent.com/willmelville/cs180-spring25/refs/heads/main/data/star_stats.csv')"
      ],
      "metadata": {
        "id": "SS7PonOkU2nw"
      },
      "execution_count": 2,
      "outputs": []
    },
    {
      "cell_type": "markdown",
      "source": [
        "### **Part 1**: Missing Values, Outliers, and General Data Cleaning (20 Points)\n",
        "\n",
        "Complete step 1 of the EDA checklist by dealing with missing values and outliers. Remember that just because a value is an outlier doesn't automatically mean that it should be removed from the dataset! For this dataset, since astronomers know the different properties that different star types/spectral classes tend to have, a good data scientist can and should use google to determine if an outlier value makes sense for the star type/spectral class or if it is a bad measurement that needs to be removed from the dataset. After dealing with missing values and outliers, add a text cell where you briefly explain the choices you made, but also feel free to add text cells explaining what you're doing intermittently to help the grader!\n",
        "\n",
        "This is possibly the toughest question on the midterm because it requires data science \"feel\" and because you aren't exploring the data to answer a *specific* question. You may end up spending the most time on this problem, so don't be discouraged if it takes you a while. The subsequent questions will hopefully take less time."
      ],
      "metadata": {
        "id": "bUYhIOMCWL7b"
      }
    },
    {
      "cell_type": "code",
      "source": [],
      "metadata": {
        "id": "doAnKRjAeAPj"
      },
      "execution_count": null,
      "outputs": []
    },
    {
      "cell_type": "markdown",
      "source": [
        "### **Part 2**: Single Variable Analysis (20 Points)\n",
        "\n",
        "In this part of the lab, use single variable analysis tools to answer two of Nick's questions about the star data:\n",
        "\n",
        "1. Nick recently learned about the Gamma probability distribution, and he's wondering if he could model star temperatures using a Gamma distribution. Use an appropriate matplotlib or seaborn plot to visualize the distribution of star temperatures. Do not group by or separate the plots by star type or spectral class; we want all star temperatures in one distribution plot. Do you think Nick could model the star temperature distribution using a Gamma distribution? Explain your reasoning. Please google gamma distributions if you do not know what they are, and remember that Will Melville says that Wikipedia always has great descriptions of different probability distributions!\n",
        "\n",
        "Note: you do not have to do this but it may be helpful or of interest to you; if you look up the documentation on scipy.stats.gamma, you may notice a method called fit, which takes as input data. If you run gamma.fit(x) on a list or numpy array or pandas series x, it uses maximum likelihood estimation to find the parameters of the gamma distribution (a, loc, and scale) that best fit the data x, so if you believe that you could fit a gamma distribution to the star data, or if you need help figuring out if a gamma distribution can fit the temperature data, it would be really cool if you actually did fit a gamma distribution using that maximum likelihood estimate and then plot the gamma distribution along with your temperature distribution plot. You won't necessarily be graded on this, but the grader thinks it's a cool idea, so do with that information what you will!\n"
      ],
      "metadata": {
        "id": "FBsj98lyeAnI"
      }
    },
    {
      "cell_type": "code",
      "source": [],
      "metadata": {
        "id": "BbN04rJ4euXv"
      },
      "execution_count": null,
      "outputs": []
    },
    {
      "cell_type": "markdown",
      "source": [
        "2. Nick thinks that star absolute magnitudes follow a multimodal distribution. Use an appropriate distribution plot from matplotlib or seaborn to confirm or deny Nick's belief.\n",
        "* If you find that the absolute magnitudes are multimodal answer what you think may cause the multimodality. There isn't necessarily a right answer I just want to see you put in some thought and use some data science feel!\n",
        "* If you find that the absolute magnitudes are not multimodal, answer which probability distribution do you think would fit the data best. You may need to google continuous probability distributions to answer this question, but remember some very common ones are the normal distribution, gamma distribution, and beta distribution.\n",
        "\n",
        "Only respond to one of the previous two bullet points, depending on whether or not you think the distribution is multimodal!"
      ],
      "metadata": {
        "id": "LcZDZ1NAlrJW"
      }
    },
    {
      "cell_type": "code",
      "source": [],
      "metadata": {
        "id": "9ON0qtWKlsKG"
      },
      "execution_count": null,
      "outputs": []
    },
    {
      "cell_type": "markdown",
      "source": [
        "### **Part 3**: Multivariate Analysis (50 Points)\n",
        "\n",
        "In this part of the lab, use multivariate analysis tools to answer five more of Nick's questions about the data!\n",
        "\n",
        "1. Nick loves these plots called HR diagrams, which stand for Hertzsprung-Russell diagrams. For this problem, you need to create one. To do that, you need to create a scatter plot with temperature on the x-axis and luminosity on the y-axis. You need to color the points by the star type. Finally, you need to convert the x and y axis to the log scale. For help doing that, see this reference https://www.geeksforgeeks.org/how-to-plot-logarithmic-axes-in-matplotlib/"
      ],
      "metadata": {
        "id": "CjV9iD49l_BZ"
      }
    },
    {
      "cell_type": "code",
      "source": [],
      "metadata": {
        "id": "sWpGoY9JtmIu"
      },
      "execution_count": null,
      "outputs": []
    },
    {
      "cell_type": "markdown",
      "source": [
        "2. Filter the data down to brown dwarves, red dwarves, and main sequence stars. Nick wants to know if there is a strong relationship between temperature and absolute magnitude among just those three types of stars. Use the appropriate plots/metrics to answer his question."
      ],
      "metadata": {
        "id": "nzLtY2jxowhN"
      }
    },
    {
      "cell_type": "code",
      "source": [],
      "metadata": {
        "id": "YMqFi_cCqLhQ"
      },
      "execution_count": null,
      "outputs": []
    },
    {
      "cell_type": "markdown",
      "source": [
        "3. Calculate the mean temperature, radius, luminosity, and absolute magnitude of each star type. You can leave the output in a pandas dataframe, you don't need to type anything out."
      ],
      "metadata": {
        "id": "ZE12t4PrqnPI"
      }
    },
    {
      "cell_type": "code",
      "source": [],
      "metadata": {
        "id": "YOZSChU_tkmJ"
      },
      "execution_count": null,
      "outputs": []
    },
    {
      "cell_type": "markdown",
      "source": [
        "4. **1-sample t test:** Set the true mean $\\mu$ to the mean temperature of main sequence stars that you got from the previous problem. Nick wants to know if white dwarf stars have a significantly smaller mean temperature. Perform either a t-test or a z-test to answer Nick's question. **Justify your choice of z-test or t-test.** You may reference any of the code we used in class to do t and z testing, and you may also use python's t test implementations: scipy.stats.ttest_1samp or scipy.stats.ttest_ind. Report the p value of the test and interpret the p value. In particular, would you conclude there is a statistically significant difference in the means based on the p value?"
      ],
      "metadata": {
        "id": "EqCNwQHXsGxq"
      }
    },
    {
      "cell_type": "code",
      "source": [],
      "metadata": {
        "id": "eHwbrctqruf_"
      },
      "execution_count": null,
      "outputs": []
    },
    {
      "cell_type": "markdown",
      "source": [
        "5. **2-sample t test**: In class, we covered one sample t tests, which is where you compare a sample mean to a true population mean. Another useful type of t-test is called a 2-sample t test where you compare two sample means to each other to see if they are significantly different. Use scipy.stats.ttest_ind to perform a two sample t test comparing the sample mean temperature of white dwarf stars with the sample mean temperature of main sequence stars. Just like the previous problem, interpret the p value: do you think there is a statistically significant difference in means based on the p value?"
      ],
      "metadata": {
        "id": "IQ4kB9rLtnrx"
      }
    },
    {
      "cell_type": "code",
      "source": [],
      "metadata": {
        "id": "feURx6XCyq0r"
      },
      "execution_count": null,
      "outputs": []
    },
    {
      "cell_type": "markdown",
      "source": [
        "### **Part 4**: Data Transformation/Feature Engineering (10 points)\n",
        "\n",
        "All of Nick's questions are answered! But just because I want to test your skills, for this last part of the lab I want you to standardize the numeric columns of the stars dataframe (temperature, luminosity, radius, and absolute magnitude) by z-scoring them. Then you are all done!"
      ],
      "metadata": {
        "id": "V6hr1XyJwZ0m"
      }
    },
    {
      "cell_type": "code",
      "source": [],
      "metadata": {
        "id": "wmcn42DfwxDn"
      },
      "execution_count": null,
      "outputs": []
    }
  ]
}