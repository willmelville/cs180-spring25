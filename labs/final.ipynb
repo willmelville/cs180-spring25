{
  "nbformat": 4,
  "nbformat_minor": 0,
  "metadata": {
    "colab": {
      "provenance": []
    },
    "kernelspec": {
      "name": "python3",
      "display_name": "Python 3"
    },
    "language_info": {
      "name": "python"
    }
  },
  "cells": [
    {
      "cell_type": "code",
      "execution_count": 2,
      "metadata": {
        "id": "1Iw5FJJdjU8J"
      },
      "outputs": [],
      "source": [
        "import numpy as np\n",
        "import pandas as pd\n",
        "from matplotlib import pyplot as plt\n",
        "import seaborn as sns"
      ]
    },
    {
      "cell_type": "code",
      "source": [
        "##### HR Regression problem\n",
        "\n",
        "#here is how you can load in the data\n",
        "hr_df_24 = pd.read_csv('https://raw.githubusercontent.com/willmelville/cs180-spring25/refs/heads/main/data/hr_regression_training_data.csv')\n",
        "\n",
        "#and here is the 2025 data. You need to run your final regression model on this dataset to predict the top ten home run hitters in 2025\n",
        "hr_df_25 = pd.read_csv('https://raw.githubusercontent.com/willmelville/cs180-spring25/refs/heads/main/data/hr_regression_testing_data.csv')"
      ],
      "metadata": {
        "id": "OoKFkppPjmDC"
      },
      "execution_count": 10,
      "outputs": []
    },
    {
      "cell_type": "code",
      "source": [
        "###### Strike classification problem\n",
        "\n",
        "#here is how you can load in the strike classification data\n",
        "strike_df = pd.read_csv('https://raw.githubusercontent.com/willmelville/cs180-spring25/refs/heads/main/data/strike_classification_training_data.csv')"
      ],
      "metadata": {
        "id": "jGafDy5zjtXv"
      },
      "execution_count": 11,
      "outputs": []
    },
    {
      "cell_type": "markdown",
      "source": [
        "Everything else is up to you. Good luck!"
      ],
      "metadata": {
        "id": "3rcK5jmaTQCv"
      }
    },
    {
      "cell_type": "code",
      "source": [],
      "metadata": {
        "id": "bPMqLcXkT8Yo"
      },
      "execution_count": null,
      "outputs": []
    }
  ]
}