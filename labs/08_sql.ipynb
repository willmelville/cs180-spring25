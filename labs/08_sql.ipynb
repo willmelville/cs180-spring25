{
  "nbformat": 4,
  "nbformat_minor": 0,
  "metadata": {
    "colab": {
      "provenance": []
    },
    "kernelspec": {
      "name": "python3",
      "display_name": "Python 3"
    },
    "language_info": {
      "name": "python"
    }
  },
  "cells": [
    {
      "cell_type": "code",
      "execution_count": 1,
      "metadata": {
        "id": "rYwgnXJmucCG"
      },
      "outputs": [],
      "source": [
        "import sqlite3\n",
        "import pandas as pd"
      ]
    },
    {
      "cell_type": "code",
      "source": [
        "#create an empty database file, called food.db\n",
        "\n",
        "#recall, if a db does not exist when you connect, sqlite3 creates one\n",
        "conn = sqlite3.connect('food.db')"
      ],
      "metadata": {
        "id": "1n9A1Fqmuela"
      },
      "execution_count": 2,
      "outputs": []
    },
    {
      "cell_type": "markdown",
      "source": [
        "**food.sql**\n",
        "\n",
        "The following cell does what the food.sql file is supposed to do, so you don't need to define a separate food.sql file."
      ],
      "metadata": {
        "id": "xFP22KJywkfT"
      }
    },
    {
      "cell_type": "code",
      "source": [
        "#insert tables into the food.db database. Note you don't have to define a separate food.sql file if you just run this instead.\n",
        "\n",
        "cursor = conn.cursor()\n",
        "\n",
        "#categories table\n",
        "cursor.execute(\"DROP TABLE IF EXISTS categories; --Use this before re-running the CREATE TABLE statements\")\n",
        "\n",
        "cursor.execute(\"\"\"\n",
        "CREATE TABLE categories (\n",
        " category_id INT PRIMARY KEY,\n",
        " category_name TEXT\n",
        ");\n",
        "\"\"\")\n",
        "\n",
        "cursor.execute(\"\"\"\n",
        "INSERT INTO categories VALUES\n",
        " (1, 'milk'),\n",
        " (2, 'soda'),\n",
        " (3, 'juice');\n",
        "\"\"\")\n",
        "\n",
        "#menu table\n",
        "cursor.execute(\"\"\"\n",
        "DROP TABLE IF EXISTS menu; --Use this before re-running the CREATE TABLE statements\n",
        "\"\"\")\n",
        "\n",
        "cursor.execute(\"\"\"\n",
        "CREATE TABLE menu (\n",
        " menu_id INT PRIMARY KEY,\n",
        " menu_name TEXT,\n",
        " category_id INT,\n",
        " unit_price REAL,\n",
        " FOREIGN KEY (category_id) REFERENCES categories(category_id)\n",
        ");\n",
        "\"\"\")\n",
        "\n",
        "cursor.execute(\"\"\"\n",
        "INSERT INTO menu VALUES\n",
        " (1, 'Plain Milk', '1', 50),\n",
        " (2, 'Chocolate Milk', '1', 50),\n",
        " (3, 'Strawberry Milk', '1', 50),\n",
        " (4, 'Pepsi', '2',55),\n",
        " (5, 'Dr Pepper', '2',55),\n",
        " (6, 'Sprite', '2',55),\n",
        " (7, 'Root Beer', '2',55),\n",
        " (8, 'Passion Fruit', '3',60),\n",
        " (9, 'Mango Juice', '3',60),\n",
        " (10,'Orange Juice', '3',60);\n",
        "\"\"\")\n",
        "\n",
        "#customers table\n",
        "cursor.execute(\"DROP TABLE IF EXISTS customers; --Use this before re-running the CREATE TABLE statements\")\n",
        "\n",
        "cursor.execute(\"\"\"\n",
        "CREATE TABLE customers (\n",
        " customer_id INT PRIMARY KEY,\n",
        " firstname TEXT,\n",
        " lastname TEXT,\n",
        " city TEXT\n",
        ");\n",
        "\"\"\")\n",
        "\n",
        "cursor.execute(\"\"\"\n",
        "INSERT INTO customers VALUES\n",
        "(1, 'Mark', 'Lee', 'Bangkok'),\n",
        "(2, 'Johnny', 'Suh', 'Phuket'),\n",
        "(3, 'Jennie', 'Kim', 'Chiang Mai'),\n",
        "(4, 'Jeno', 'Lee', 'Bangkok'),\n",
        "(5, 'Karina', 'Yoo', 'Chiang Mai');\n",
        "\"\"\")\n",
        "\n",
        "#employee table\n",
        "cursor.execute(\"DROP TABLE IF EXISTS employee;\")\n",
        "\n",
        "cursor.execute(\"\"\"\n",
        "CREATE TABLE employee (\n",
        " emp_id INT PRIMARY KEY,\n",
        " firstname TEXT,\n",
        " lastname TEXT,\n",
        " hiredate TEXT,\n",
        " branch TEXT\n",
        ");\n",
        "\"\"\")\n",
        "\n",
        "cursor.execute(\"\"\"\n",
        "INSERT INTO employee VALUES\n",
        "(1, 'Nicolene', 'Jones', '2020-09-01', 'Bangkok'),\n",
        "(2, 'Anna', 'Smith', '2021-12-01', 'Phuket'),\n",
        "(3, 'Jessica', 'Brown', '2020-08-01', 'Chiang Mai');\n",
        "\"\"\")\n",
        "\n",
        "#orders table\n",
        "cursor.execute(\"DROP TABLE IF EXISTS orders; --Use this before re-running the CREATE TABLE statements-- orders Table\")\n",
        "\n",
        "cursor.execute(\"\"\"\n",
        "CREATE TABLE orders(\n",
        " orderid INT,\n",
        " orderdate TEXT,\n",
        " menu_id INT,\n",
        " quantity INT DEFAULT 0,\n",
        " customer_id INT,\n",
        " delivery_platform TEXT,\n",
        " emp_id INT,\n",
        " FOREIGN KEY (menu_id) REFERENCES menu(menu_id),\n",
        " FOREIGN KEY (customer_id) REFERENCES customers(customer_id),\n",
        " FOREIGN KEY (emp_id) REFERENCES employee(emp_id)\n",
        ");\n",
        "\"\"\")\n",
        "\n",
        "cursor.execute(\"\"\"\n",
        "INSERT INTO orders VALUES\n",
        "(1, '2022-08-01', 1, 1, 4, 'Grabfood', 1),\n",
        "(2, '2022-08-01', 6, 2, 1, 'Lineman', 1),\n",
        "(3, '2022-08-02', 2, 2, 2, 'Robinhood', 2),\n",
        "(4, '2022-08-03', 3, 1, 5, 'Grabfood', 3),\n",
        "(5, '2022-08-04', 1, 1, 2, 'Robinhood', 2),\n",
        "(6, '2022-08-05', 6, 1, 4, 'Grabfood', 1),\n",
        "(7, '2022-08-05', 10, 1, 3, 'Grabfood', 3),\n",
        "(8, '2022-08-09', 3, 2, 4, 'Grabfood', 1),\n",
        "(9, '2022-08-13', 5, 3, 1, 'Lineman', 1),\n",
        "(10, '2022-08-13', 6, 1, 2, 'Robinhood', 2),\n",
        "(11, '2022-08-13', 7, 1, 5, 'Lineman', 3),\n",
        "(12, '2022-08-14', 4, 1, 5, 'Grabfood', 3),\n",
        "(13, '2022-08-15', 5, 2, 3, 'Grabfood', 3),\n",
        "(14, '2022-08-15', 10, 1, 2, 'Robinhood', 2),\n",
        "(15, '2022-08-18', 5, 2, 1, 'Lineman', 1),\n",
        "(16, '2022-08-20', 6, 1, 2, 'Robinhood', 2),\n",
        "(17, '2022-08-21', 4, 2, 1, 'Lineman', 1),\n",
        "(18, '2022-08-25', 5, 1, 5, 'Grabfood', 3),\n",
        "(19, '2022-08-26', 5, 3, 3, 'Grabfood', 3),\n",
        "(20, '2022-08-29', 6, 2, 4, 'Grabfood', 1),\n",
        "(21, '2021-08-29', 6, 2, 4, 'Grabfood', 1),\n",
        "(22, '2021-08-29', 3, 1, 4, 'Grabfood', 1),\n",
        "(23, '2022-09-01', 6, 1, 2, 'Robinhood', 2);\n",
        "\"\"\")\n",
        "\n",
        "conn.commit()"
      ],
      "metadata": {
        "id": "l6wfvkp8uvRa"
      },
      "execution_count": 3,
      "outputs": []
    },
    {
      "cell_type": "code",
      "source": [
        "#did it work?\n",
        "cursor.execute('select * from orders')\n",
        "cursor.fetchall()"
      ],
      "metadata": {
        "colab": {
          "base_uri": "https://localhost:8080/"
        },
        "id": "Cs52fn_WwZI3",
        "outputId": "3b4d449b-fbfa-486d-bad7-e6124b8752fc"
      },
      "execution_count": 4,
      "outputs": [
        {
          "output_type": "execute_result",
          "data": {
            "text/plain": [
              "[(1, '2022-08-01', 1, 1, 4, 'Grabfood', 1),\n",
              " (2, '2022-08-01', 6, 2, 1, 'Lineman', 1),\n",
              " (3, '2022-08-02', 2, 2, 2, 'Robinhood', 2),\n",
              " (4, '2022-08-03', 3, 1, 5, 'Grabfood', 3),\n",
              " (5, '2022-08-04', 1, 1, 2, 'Robinhood', 2),\n",
              " (6, '2022-08-05', 6, 1, 4, 'Grabfood', 1),\n",
              " (7, '2022-08-05', 10, 1, 3, 'Grabfood', 3),\n",
              " (8, '2022-08-09', 3, 2, 4, 'Grabfood', 1),\n",
              " (9, '2022-08-13', 5, 3, 1, 'Lineman', 1),\n",
              " (10, '2022-08-13', 6, 1, 2, 'Robinhood', 2),\n",
              " (11, '2022-08-13', 7, 1, 5, 'Lineman', 3),\n",
              " (12, '2022-08-14', 4, 1, 5, 'Grabfood', 3),\n",
              " (13, '2022-08-15', 5, 2, 3, 'Grabfood', 3),\n",
              " (14, '2022-08-15', 10, 1, 2, 'Robinhood', 2),\n",
              " (15, '2022-08-18', 5, 2, 1, 'Lineman', 1),\n",
              " (16, '2022-08-20', 6, 1, 2, 'Robinhood', 2),\n",
              " (17, '2022-08-21', 4, 2, 1, 'Lineman', 1),\n",
              " (18, '2022-08-25', 5, 1, 5, 'Grabfood', 3),\n",
              " (19, '2022-08-26', 5, 3, 3, 'Grabfood', 3),\n",
              " (20, '2022-08-29', 6, 2, 4, 'Grabfood', 1),\n",
              " (21, '2021-08-29', 6, 2, 4, 'Grabfood', 1),\n",
              " (22, '2021-08-29', 3, 1, 4, 'Grabfood', 1),\n",
              " (23, '2022-09-01', 6, 1, 2, 'Robinhood', 2)]"
            ]
          },
          "metadata": {},
          "execution_count": 4
        }
      ]
    },
    {
      "cell_type": "markdown",
      "source": [
        "**food-queries.sql**\n",
        "\n",
        "In the following cells, you define the queries to answer the questions of the lab. This is where the lab really begins! If you choose to do the lab here, you don't need to define a separate food-queries.sql file, you can just submit this colab notebook. So instead of pasting your solution, you can just run the query (with limit 5 at the end), then run cursor.fetchall() to show the output after running the cell. For example, the following cell shows the output I expect for question 0: Find all menu items (menu table)."
      ],
      "metadata": {
        "id": "Qn5k4wU8wrkp"
      }
    },
    {
      "cell_type": "code",
      "source": [
        "#question 0: find all menu items (menu table)\n",
        "\n",
        "cursor.execute(\"\"\"\n",
        "select *\n",
        "from menu\n",
        "limit 5;\n",
        "\"\"\")\n",
        "\n",
        "cursor.fetchall()"
      ],
      "metadata": {
        "colab": {
          "base_uri": "https://localhost:8080/"
        },
        "id": "LObySo5Sxp-b",
        "outputId": "4f534af4-c9a2-47e0-c661-1714798b7ff4"
      },
      "execution_count": 5,
      "outputs": [
        {
          "output_type": "execute_result",
          "data": {
            "text/plain": [
              "[(1, 'Plain Milk', 1, 50.0),\n",
              " (2, 'Chocolate Milk', 1, 50.0),\n",
              " (3, 'Strawberry Milk', 1, 50.0),\n",
              " (4, 'Pepsi', 2, 55.0),\n",
              " (5, 'Dr Pepper', 2, 55.0)]"
            ]
          },
          "metadata": {},
          "execution_count": 5
        }
      ]
    },
    {
      "cell_type": "markdown",
      "source": [
        "## Section 1: Special Operators\n",
        "\n",
        "1. Find the names of all juice items (menu table)\n",
        "2. Find all orders (order table) between August 1 and 9, 2022\n",
        "3. Find the orders (order table) where the delivery platform contains the substring 'ood'\n",
        "4. Find the **unique** delivery order companies from the order table. Get only the name, no other data.\n",
        "5. Sort the orders table by quantity, largest to smallest."
      ],
      "metadata": {
        "id": "pY2xetgKxEyH"
      }
    },
    {
      "cell_type": "code",
      "source": [
        "#section 1 question 1\n",
        "\n",
        "#This is the last example I will give to help get you started!\n",
        "\n",
        "cursor.execute(\"\"\"\n",
        "select menu_name\n",
        "from menu\n",
        "where category_id = 3\n",
        "limit 5;\n",
        "\"\"\")\n",
        "\n",
        "cursor.fetchall()"
      ],
      "metadata": {
        "colab": {
          "base_uri": "https://localhost:8080/"
        },
        "id": "h4m55KUlweSg",
        "outputId": "d103c672-e91b-4801-9ec7-df6063ab8aaf"
      },
      "execution_count": 13,
      "outputs": [
        {
          "output_type": "execute_result",
          "data": {
            "text/plain": [
              "[('Passion Fruit',), ('Mango Juice',), ('Orange Juice',)]"
            ]
          },
          "metadata": {},
          "execution_count": 13
        }
      ]
    },
    {
      "cell_type": "code",
      "source": [
        "#if you want to get real fancy with question 1, or if you didn't know that category_id = 3 is juice, then you could also solve question 1 by merging the menu table and categories table\n",
        "#on category id and filtering down to category_name = 'juice'\n",
        "\n",
        "cursor.execute(\"\"\"\n",
        "select menu.menu_name\n",
        "from menu inner join categories\n",
        "on menu.category_id = categories.category_id\n",
        "where categories.category_name = 'juice'\n",
        "\"\"\")\n",
        "\n",
        "cursor.fetchall()"
      ],
      "metadata": {
        "colab": {
          "base_uri": "https://localhost:8080/"
        },
        "id": "3P40rEt1zDVT",
        "outputId": "f05f6b03-cf92-4e1a-9b51-985cc89bf815"
      },
      "execution_count": 14,
      "outputs": [
        {
          "output_type": "execute_result",
          "data": {
            "text/plain": [
              "[('Passion Fruit',), ('Mango Juice',), ('Orange Juice',)]"
            ]
          },
          "metadata": {},
          "execution_count": 14
        }
      ]
    },
    {
      "cell_type": "code",
      "source": [
        "#section 1 question 2"
      ],
      "metadata": {
        "id": "S7vw4VuWyYYF"
      },
      "execution_count": 7,
      "outputs": []
    },
    {
      "cell_type": "code",
      "source": [
        "#section 1 question 3"
      ],
      "metadata": {
        "id": "PP3FOcuQyZgE"
      },
      "execution_count": 8,
      "outputs": []
    },
    {
      "cell_type": "code",
      "source": [
        "#section 1 question 4"
      ],
      "metadata": {
        "id": "_UOJrLA6yakq"
      },
      "execution_count": 9,
      "outputs": []
    },
    {
      "cell_type": "code",
      "source": [
        "#section 1 question 5"
      ],
      "metadata": {
        "id": "L3ICNJb7ybuj"
      },
      "execution_count": 10,
      "outputs": []
    },
    {
      "cell_type": "markdown",
      "source": [
        "## Section 2: Functions\n",
        "\n",
        "6. Find minimum, maximum, and average unit price from the menu table\n",
        "7. Select order id, date, and delivery platform, but change any occurrence of the substring \"Grab\" to \"Cougar\"\n",
        "<br>\n",
        "**Hint:** Use the REPLACE function (https://app.datacamp.com/learn/tutorials/sql-replace)\n"
      ],
      "metadata": {
        "id": "Jt1hpekVzgau"
      }
    },
    {
      "cell_type": "code",
      "source": [
        "#section 2 question 6"
      ],
      "metadata": {
        "id": "d3RBeP2_yc0j"
      },
      "execution_count": 15,
      "outputs": []
    },
    {
      "cell_type": "code",
      "source": [
        "#section 2 question 7"
      ],
      "metadata": {
        "id": "XuflYNa5z8CE"
      },
      "execution_count": 16,
      "outputs": []
    },
    {
      "cell_type": "markdown",
      "source": [
        "## Section 3: Group By\n",
        "\n",
        "8. Find the average, min, and max order quantity by delivery platform\n",
        "9. Find the number of orders by delivery platform, but filter to the delivery platform(s) with a count greater than five\n",
        "10. Find the total number of units sold by the delivery platform"
      ],
      "metadata": {
        "id": "Vr8edHs2z9tV"
      }
    },
    {
      "cell_type": "code",
      "source": [
        "#section 3 question 8"
      ],
      "metadata": {
        "id": "2aGQrOJcz9JT"
      },
      "execution_count": 17,
      "outputs": []
    },
    {
      "cell_type": "code",
      "source": [
        "#section 3 question 9"
      ],
      "metadata": {
        "id": "fQeCNGvJ0NIn"
      },
      "execution_count": 18,
      "outputs": []
    },
    {
      "cell_type": "code",
      "source": [
        "#section 3 question 10"
      ],
      "metadata": {
        "id": "7DdPYSNX0OMQ"
      },
      "execution_count": 19,
      "outputs": []
    },
    {
      "cell_type": "markdown",
      "source": [
        "## Section 4: Joins\n",
        "\n",
        "11. Get the order id, order quantity, customer id, customer first name, and customer last name for all orders\n",
        "12. Get the order id, order quantity, delivery platform, unit price, and revenue (quantity * unit price) for all orders"
      ],
      "metadata": {
        "id": "_mk2cmz-0PqO"
      }
    },
    {
      "cell_type": "code",
      "source": [
        "#section 4 question 11"
      ],
      "metadata": {
        "id": "7gpGnnDM0PKI"
      },
      "execution_count": 20,
      "outputs": []
    },
    {
      "cell_type": "code",
      "source": [
        "#section 4 question 12"
      ],
      "metadata": {
        "id": "mUUC8OAj0ey6"
      },
      "execution_count": 21,
      "outputs": []
    },
    {
      "cell_type": "code",
      "source": [
        "## Last but not least, remember to close the connection!\n",
        "conn.close()"
      ],
      "metadata": {
        "id": "_WB3r82K0fx4"
      },
      "execution_count": 22,
      "outputs": []
    },
    {
      "cell_type": "code",
      "source": [],
      "metadata": {
        "id": "r1OvG1zO0iue"
      },
      "execution_count": null,
      "outputs": []
    }
  ]
}