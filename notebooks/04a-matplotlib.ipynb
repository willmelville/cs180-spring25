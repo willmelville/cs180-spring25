{
  "cells": [
    {
      "cell_type": "markdown",
      "metadata": {
        "id": "2MGWR-3qljOM"
      },
      "source": [
        "## Introduction"
      ]
    },
    {
      "cell_type": "markdown",
      "metadata": {
        "id": "l_AIbMisljOR"
      },
      "source": [
        "Matplotlib is the \"grandfather\" library of data visualization with Python. It was created to try to replicate MatLab's (another programming language) plotting capabilities in Python.  \n",
        "\n",
        "Matplotlib was originally released in 2003!  This predates Pandas (which was originally released in 2008), so it can feel a little clunky to modern users.  Having said that, it is still a great visualization package and you really can't talk about visualization in Python without some talk about Matplotlib.  \n",
        "\n",
        "Some of the major Pros of Matplotlib are:\n",
        "\n",
        "* Generally easy to get started for simple plots\n",
        "* Support for custom labels and texts\n",
        "* Great control of every element in a figure\n",
        "* High-quality output in many formats\n",
        "* Very customizable in general\n",
        "\n",
        "For more information, explore the official Maplotlib web page: https://matplotlib.org/.  Here you can find\n",
        "[examples (with code)](https://matplotlib.org/stable/gallery/index) for almost any kind of plot you want to create, a [quick start guide](https://matplotlib.org/stable/tutorials/introductory/quick_start.html), [cheat sheets](https://matplotlib.org/cheatsheets/), detailed official [documentation](https://matplotlib.org/stable/api/index.html) to the api, and more.  \n",
        "    \n",
        "## Importing"
      ]
    },
    {
      "cell_type": "markdown",
      "metadata": {
        "id": "zMcSmh8PljOT"
      },
      "source": [
        "It is standard to import the `matplotlib.pyplot` module with the alias `plt` :"
      ]
    },
    {
      "cell_type": "code",
      "execution_count": null,
      "metadata": {
        "id": "KJVzt1c8ljOT"
      },
      "outputs": [],
      "source": [
        "import matplotlib.pyplot as plt\n",
        "import matplotlib\n",
        "import numpy as np"
      ]
    },
    {
      "cell_type": "markdown",
      "metadata": {
        "collapsed": true,
        "id": "LngKnCDeljOW"
      },
      "source": [
        "# Basic Example\n",
        "\n",
        "Let's walk through a very simple example using two numpy arrays:"
      ]
    },
    {
      "cell_type": "markdown",
      "metadata": {
        "id": "Wl-5WR9dljOW"
      },
      "source": [
        "### Example\n",
        "\n",
        "Let's walk through a very simple example using two numpy arrays. You can also use lists or pandas series.\n",
        "\n",
        "**The data we want to plot:**"
      ]
    },
    {
      "cell_type": "code",
      "execution_count": null,
      "metadata": {
        "id": "oO4BeOnPljOX"
      },
      "outputs": [],
      "source": [
        "x = np.linspace(-np.pi, np.pi, 50)\n",
        "y1 = np.cos(x)\n",
        "y2 = np.sin(x)"
      ]
    },
    {
      "cell_type": "markdown",
      "metadata": {
        "id": "VEQjhBmzljOX"
      },
      "source": [
        "## Basic Matplotlib Commands with *functions*\n",
        "\n",
        "We can create a very simple line plot using the `plt.plot()`"
      ]
    },
    {
      "cell_type": "code",
      "execution_count": null,
      "metadata": {
        "id": "BFp0m3KsljOX"
      },
      "outputs": [],
      "source": [
        "plt.plot(x, y1)"
      ]
    },
    {
      "cell_type": "code",
      "source": [
        "#if you don't want the weird bracket [<matplotlib.lines.Line2D . . .] use plt.show(). In general, it's a good idea to just always use plt.show(). If you aren't in a colab notebook, you may need to run plt.show()\n",
        "#to visualize the plot\n",
        "plt.plot(x, y1)\n",
        "plt.show()"
      ],
      "metadata": {
        "id": "jyfYPpISmC16"
      },
      "execution_count": null,
      "outputs": []
    },
    {
      "cell_type": "markdown",
      "source": [
        "In matplotlib, the lineplots just connect the points in the inputted lists, so to get smooth curves you need lots of points. In the following cell, observe the difference in smoothness when we use lots of x points to define the y curve versus when we use few x points to define the y curve."
      ],
      "metadata": {
        "id": "Grina0x9nlDU"
      }
    },
    {
      "cell_type": "code",
      "source": [
        "plt.plot(x, y1)\n",
        "plt.title('High Res x')\n",
        "plt.show()\n",
        "\n",
        "bumpy_x = np.linspace(-np.pi, np.pi, 10)  #the original x vector used 50 points, this one only uses 10\n",
        "plt.plot(bumpy_x, np.cos(bumpy_x))\n",
        "plt.title('Low Res x')\n",
        "plt.show()"
      ],
      "metadata": {
        "id": "M97enRLrn0Zy"
      },
      "execution_count": null,
      "outputs": []
    },
    {
      "cell_type": "markdown",
      "metadata": {
        "id": "kznKWnu6ljOY"
      },
      "source": [
        "We can create a very simple scatterplot using the `plt.scatter()`"
      ]
    },
    {
      "cell_type": "code",
      "execution_count": null,
      "metadata": {
        "id": "YimmGzeqljOY"
      },
      "outputs": [],
      "source": [
        "plt.scatter(x, y1)\n",
        "plt.show()"
      ]
    },
    {
      "cell_type": "markdown",
      "metadata": {
        "id": "lNDCZKm9ljOY"
      },
      "source": [
        "____\n",
        "## Labels and titles"
      ]
    },
    {
      "cell_type": "markdown",
      "metadata": {
        "id": "sw7645ksljOY"
      },
      "source": [
        "**Figure titles**\n",
        "\n",
        "A title can be added with plt.title(title_string)"
      ]
    },
    {
      "cell_type": "markdown",
      "metadata": {
        "id": "ihTGB7Q1ljOY"
      },
      "source": [
        "**Axis labels**\n",
        "\n",
        "Similarly, axis labels are added with plt.xlabel(x axis label string) and plt.ylabel(y axis label string)"
      ]
    },
    {
      "cell_type": "code",
      "execution_count": null,
      "metadata": {
        "id": "qFOZU-AfljOZ"
      },
      "outputs": [],
      "source": [
        "# Generate basic plot\n",
        "plt.plot(x, y1)\n",
        "\n",
        "# Add some attributes\n",
        "plt.xlabel('X Axis Title')\n",
        "plt.ylabel('Y Axis Title')\n",
        "plt.title('Title')\n",
        "plt.show()"
      ]
    },
    {
      "cell_type": "code",
      "execution_count": null,
      "metadata": {
        "id": "uJ93_4npljOZ"
      },
      "outputs": [],
      "source": []
    },
    {
      "cell_type": "markdown",
      "metadata": {
        "id": "H1hTm6ezljOZ"
      },
      "source": [
        "## Optional Arguments for scatteplot:\n",
        "\n",
        "**s:**          The size of the markers. It can be a single value or an array of the same length as x and y.  \n",
        "**c:**         The color of the markers. It can be a single color format string, or an array of numbers that will be mapped to colors using the cmap and norm parameters.  \n",
        "**marker:**     The style of the markers. Examples include 'o' for circles, 's' for squares, etc.  \n",
        "**cmap:**       A Colormap instance or a registered colormap name. This is used when c is an array of numbers.  \n",
        "**norm:**      A Normalize instance to scale data values to the range [0, 1].  \n",
        "**vmin:**       Minimum data value that corresponds to the colormap’s lower bound.  \n",
        "**vmax:**      Maximum data value that corresponds to the colormap’s upper bound.  \n",
        "**alpha:**      The alpha blending value, between 0 (transparent) and 1 (opaque).  \n",
        "**linewidths:** The width of the marker edges.  \n",
        "**edgecolors:** The color of the marker edges. It can be 'face', 'none', 'auto', or a color.  \n"
      ]
    },
    {
      "cell_type": "markdown",
      "metadata": {
        "id": "3exG0TWqljOZ"
      },
      "source": [
        "A list of matplotlib colors can be found [here](https://matplotlib.org/stable/gallery/color/named_colors.html).  \n",
        "Axes classes (e.g., plot, scatter, bar, etc.) can be found [here](https://matplotlib.org/stable/api/axes_api.html)."
      ]
    },
    {
      "cell_type": "code",
      "execution_count": null,
      "metadata": {
        "id": "ByBtad9yljOZ"
      },
      "outputs": [],
      "source": [
        "plt.scatter(x, y1, s = np.abs(y1 * 5), c = 'forestgreen', alpha = 0.7)\n",
        "plt.show()"
      ]
    },
    {
      "cell_type": "code",
      "execution_count": null,
      "metadata": {
        "id": "kiKjPGxWljOa"
      },
      "outputs": [],
      "source": [
        "fig, ax = plt.subplots(figsize=(12, 6))\n",
        "\n",
        "ax.plot(x, x + 1, color = \"red\", linewidth = 0.25)\n",
        "ax.plot(x, x + 2, color = \"red\", linewidth = 0.50)\n",
        "ax.plot(x, x + 3, color = \"red\", linewidth = 1.00)\n",
        "ax.plot(x, x + 4, color = \"red\", linewidth = 2.00)\n",
        "\n",
        "# possible linestype options ‘-‘, ‘–’, ‘-.’, ‘:’, ‘steps’\n",
        "ax.plot(x, x + 5, color = \"green\", lw = 3, linestyle = '-')\n",
        "ax.plot(x, x + 6, color = \"green\", lw = 3, ls = '-.')\n",
        "ax.plot(x, x + 7, color = \"green\", lw = 3, ls = ':')\n",
        "\n",
        "# custom dash\n",
        "line, = ax.plot(x, x + 8, color = \"black\", lw = 1.50)\n",
        "line.set_dashes([5, 10, 15, 10])  # format: line length, space length, ...\n",
        "\n",
        "# possible marker symbols: marker = '+', 'o', '*', 's', ',', '.', '1', '2', '3', '4', ...\n",
        "ax.plot(x, x + 9, color = \"blue\", lw = 3, ls = '-', marker = '+')\n",
        "ax.plot(x, x + 10, color = \"blue\", lw = 3, ls = '--', marker = 'o')\n",
        "ax.plot(x, x + 11, color = \"blue\", lw = 3, ls = '-', marker = 's')\n",
        "ax.plot(x, x + 12, color = \"blue\", lw = 3, ls = '--', marker = '1')\n",
        "\n",
        "# marker size and color\n",
        "ax.plot(x, x + 13, color = \"purple\", lw = 1, ls = '-', marker = 'o', markersize = 2)\n",
        "ax.plot(x, x + 14, color = \"purple\", lw = 1, ls = '-', marker = 'o', markersize = 4)\n",
        "ax.plot(x, x + 15, color = \"purple\", lw = 1, ls = '-', marker = 'o', markersize = 8, markerfacecolor = \"red\")\n",
        "ax.plot(x, x + 16, color = \"purple\", lw = 1, ls = '-', marker = 's', markersize = 8,\n",
        "        markerfacecolor = \"yellow\", markeredgewidth = 3, markeredgecolor = \"green\")\n",
        "\n",
        "ax.set_ylim(0, 20)\n",
        "\n",
        "ax.set_title('Style Points!')\n",
        "plt.show()"
      ]
    },
    {
      "cell_type": "markdown",
      "source": [
        "You can also use plt.plot to make scatter plots instead of plt.scatter. plt.plot has a third argument that takes as input a string where the first character describes the color and the second character the type of point. Some color strings are:\n",
        "\n",
        "\n",
        "\n",
        "*   'b' = blue\n",
        "*   'k' = black\n",
        "* 'g' = green\n",
        "* 'c' = cyan\n",
        "* 'r' = red\n",
        "* 'm' = magenta\n",
        "* 'y' = yellow\n",
        "\n",
        "\n",
        "And some point/linestyle strings are:\n",
        "\n",
        "* '-' = solid line (default in plt.plot())\n",
        "* '--' = dashed line\n",
        "* '-.' = dash-dot line\n",
        "* ':' = dotted line\n",
        "* 'o' = circle marker (large scatter points)\n",
        "* '.' = regular scatter point\n",
        "* ',' = small scatter point\n",
        "* 'x' = X's\n",
        "* '^' = upward pointing triangle\n",
        "* 'v' = downwarnd pointing triangle\n",
        "* 'D' = diamond\n",
        "So for example, 'b-' plots a solid blue line, 'kx' plots black X's, etc.\n",
        "\n",
        "\n",
        "\n",
        "\n",
        "\n"
      ],
      "metadata": {
        "id": "p7Z46jitpepv"
      }
    },
    {
      "cell_type": "code",
      "source": [
        "#plot the cosine curve using your favorite color and line/point style! Here's an example to get you started. Change the string in the third argument for your function\n",
        "\n",
        "plt.plot(x, y1, 'yx')\n",
        "plt.show()"
      ],
      "metadata": {
        "id": "lBzClkAkpeSs"
      },
      "execution_count": null,
      "outputs": []
    },
    {
      "cell_type": "markdown",
      "source": [
        "You can also choose to just define the color or just define the line/point style. The default line style is the solid line and the default color is blue. If you have multiple curves on the same plot (which you can do by running plt.plot multiple times before running plt.show()), then the colors will cycle from blue to orange to green and so on."
      ],
      "metadata": {
        "id": "bYUsEywYrPMT"
      }
    },
    {
      "cell_type": "code",
      "source": [
        "#just color\n",
        "plt.plot(x, y1, 'r')\n",
        "plt.show()\n",
        "\n",
        "#just line style\n",
        "plt.plot(x, y1, ':')\n",
        "plt.show()\n",
        "\n",
        "#cycle through colors\n",
        "plt.plot(x, y1, '-')\n",
        "plt.plot(x, y1, '.')\n",
        "plt.plot(x, y2, 'x')\n",
        "plt.show()"
      ],
      "metadata": {
        "id": "tM-w4tt-rTRt"
      },
      "execution_count": null,
      "outputs": []
    },
    {
      "cell_type": "markdown",
      "metadata": {
        "id": "nAEnPxQOljOa"
      },
      "source": [
        "## Multiple Plots on the Same Plot (Methods)"
      ]
    },
    {
      "cell_type": "code",
      "execution_count": null,
      "metadata": {
        "id": "pRyQMWVFljOa"
      },
      "outputs": [],
      "source": [
        "# Create Figure (empty canvas)\n",
        "fig = plt.figure()\n",
        "\n",
        "# Add set of axes to figure\n",
        "axes = fig.add_axes([0.1, 0.1, 0.5, 0.8]) # left, bottom, width, height (range 0 to 1)\n",
        "\n",
        "# Plot on that set of axes\n",
        "axes.plot(x, y1, 'b')\n",
        "\n",
        "# Add a second plot\n",
        "# axes.scatter(x, y2)\n",
        "\n",
        "\n",
        "axes.set_xlabel('Set X Label') # Notice the use of set_ to begin methods\n",
        "axes.set_ylabel('Set y Label')\n",
        "axes.set_title('Set Title')\n",
        "plt.show()"
      ]
    },
    {
      "cell_type": "code",
      "execution_count": null,
      "metadata": {
        "id": "-8Qgp2r8ljOa"
      },
      "outputs": [],
      "source": [
        "# Creates blank canvas\n",
        "fig = plt.figure()\n",
        "\n",
        "axes1 = fig.add_axes([0.1, 0.1, 0.8, 0.8]) # bottom, left, width, height\n",
        "axes2 = fig.add_axes([0.35, 0.25, 0.3, 0.2])\n",
        "\n",
        "# Larger Figure Axes 1\n",
        "axes1.plot(x, y1, 'b')\n",
        "axes1.set_xlabel('X_label_axes2')\n",
        "axes1.set_ylabel('Y_label_axes2')\n",
        "axes1.set_title('Axes 2 Title')\n",
        "\n",
        "# Insert Figure Axes 2\n",
        "axes2.scatter(x, y2, s = 5)\n",
        "axes2.set_xlabel('X_label_axes2')\n",
        "axes2.set_ylabel('Y_label_axes2')\n",
        "axes2.set_title('Axes 2 Title')\n",
        "\n",
        "plt.show()"
      ]
    },
    {
      "cell_type": "markdown",
      "metadata": {
        "id": "zzzbX6ZMljOa"
      },
      "source": [
        "## Creating Multiplots on Same Canvas"
      ]
    },
    {
      "cell_type": "markdown",
      "source": [
        "**Note from Will Melville**: defining subplots using the method from the previous cell is new to me. I've always done it using the subplot method from the following cells which creates a grid of plots."
      ],
      "metadata": {
        "id": "9_nFr8Agsi2M"
      }
    },
    {
      "cell_type": "markdown",
      "metadata": {
        "id": "ax1boVRDljOb"
      },
      "source": [
        "plt.subplot(nrows, ncols, plot_number)"
      ]
    },
    {
      "cell_type": "code",
      "execution_count": null,
      "metadata": {
        "id": "UsTmyOHfljOb"
      },
      "outputs": [],
      "source": [
        "# First Plot\n",
        "plt.subplot(1, 2, 1) # 1 row, 2 columns\n",
        "plt.plot(x, y1, color = 'r', linestyle = 'dashed') # Shortened arguments\n",
        "\n",
        "# Second Plot\n",
        "plt.subplot(1, 2, 2)\n",
        "plt.plot(x, y2, alpha = 0.25)\n",
        "\n",
        "plt.show()"
      ]
    },
    {
      "cell_type": "code",
      "source": [
        "#how will melville has always done subplots\n",
        "\n",
        "fig = plt.figure(figsize = (6,6)) #you don't have to do the figsize, but that's something you can play around with if your grid of plots ends up getting smushed together and you need more room\n",
        "\n",
        "#I'm going to put the same two plots into the figure from the previous cell\n",
        "ax1 = plt.subplot(121) #as an alternative to rows, columns, plot number, you can remove the commas, so 211 means I want 1 row of plots, 2 columns of plots, and ax1 is subplot number 1\n",
        "ax1.plot(x, y1, 'r--')  #remember you can do 'r--' for a dashed red line instead of color = 'r' and linestyle = 'dashed'\n",
        "\n",
        "\n",
        "ax2 = plt.subplot(122)  #I still want 1 row and 2 columns, but now I want the second plot\n",
        "ax2.plot(x, y2, alpha = 0.25)\n",
        "\n",
        "plt.show()"
      ],
      "metadata": {
        "id": "qh9JOWZ3tzYn"
      },
      "execution_count": null,
      "outputs": []
    },
    {
      "cell_type": "code",
      "source": [
        "#note the initial plt.figure() is not necessary unless you want to edit attributes of the figure like the size. This code does the same thing as the previous cell but without the initial plt.figure\n",
        "\n",
        "ax1 = plt.subplot(121)\n",
        "ax1.plot(x, y1, 'r--')\n",
        "\n",
        "\n",
        "ax2 = plt.subplot(122)\n",
        "ax2.plot(x, y2, alpha = 0.25)\n",
        "\n",
        "plt.show()"
      ],
      "metadata": {
        "id": "MWrhqsoZw_6O"
      },
      "execution_count": null,
      "outputs": []
    },
    {
      "cell_type": "markdown",
      "metadata": {
        "id": "IdTWdamZljOb"
      },
      "source": [
        "## subplots() for multiple plots\n",
        "\n",
        "The plt.subplots() object will act as a more automatic axis manager.\n",
        "Then you can specify the number of rows and columns when creating the subplots() object:"
      ]
    },
    {
      "cell_type": "code",
      "execution_count": null,
      "metadata": {
        "id": "48BX1ynDljOb"
      },
      "outputs": [],
      "source": [
        "# Empty canvas of 1 by 2 subplots\n",
        "fig, axes = plt.subplots(nrows = 1, ncols = 2, sharey = True, figsize = (10, 5)) # figsize: (width, height)"
      ]
    },
    {
      "cell_type": "code",
      "execution_count": null,
      "metadata": {
        "id": "R0sBFvOnljOb"
      },
      "outputs": [],
      "source": [
        "# Axes is an array of axes to plot on\n",
        "axes"
      ]
    },
    {
      "cell_type": "code",
      "execution_count": null,
      "metadata": {
        "id": "GBMbNrQiljOb"
      },
      "outputs": [],
      "source": [
        "axes[0]"
      ]
    },
    {
      "cell_type": "markdown",
      "metadata": {
        "id": "e0gUd1ZmljOc"
      },
      "source": [
        "We can iterate through this array:"
      ]
    },
    {
      "cell_type": "code",
      "execution_count": null,
      "metadata": {
        "id": "rW_CNgHWljOc"
      },
      "outputs": [],
      "source": [
        "axes[0].plot(x, y1, 'b')\n",
        "axes[0].set_xlabel('X Label 0')\n",
        "axes[0].set_ylabel('Y Label 0')\n",
        "axes[0].set_title('Title 0')\n",
        "\n",
        "\n",
        "axes[1].plot(x, y2, 'r')\n",
        "axes[1].set_xlabel('X Label 1')\n",
        "axes[1].set_ylabel('Y Label 1')\n",
        "axes[1].set_title('Title 1')\n",
        "\n",
        "\n",
        "# Display the figure object\n",
        "fig"
      ]
    },
    {
      "cell_type": "code",
      "source": [
        "#you can also still just display the figure object using plt.show() instead of fig\n",
        "\n",
        "fig, axes = plt.subplots(nrows = 1, ncols = 2, sharey = True, figsize = (10, 5))\n",
        "\n",
        "axes[0].plot(x, y1, 'b')\n",
        "axes[0].set_xlabel('X Label 0')\n",
        "axes[0].set_ylabel('Y Label 0')\n",
        "axes[0].set_title('Title 0')\n",
        "\n",
        "\n",
        "axes[1].plot(x, y2, 'r')\n",
        "axes[1].set_xlabel('X Label 1')\n",
        "axes[1].set_ylabel('Y Label 1')\n",
        "axes[1].set_title('Title 1')\n",
        "\n",
        "plt.show()"
      ],
      "metadata": {
        "id": "0JP9c7rSxw3I"
      },
      "execution_count": null,
      "outputs": []
    },
    {
      "cell_type": "markdown",
      "source": [
        "**Note**: you can observe this in the previous cell. When you want to define axis labels or titles in a subplot instead of a plot, you ned to run .set_title, .set_xlabel, and .set_ylabel instead of .title, .xlabel, or .ylabel."
      ],
      "metadata": {
        "id": "99CNk8RXxdGs"
      }
    },
    {
      "cell_type": "markdown",
      "metadata": {
        "id": "lU1aQV1HljOc"
      },
      "source": [
        "We can iterate through the axes. A common issue with matplolib is overlapping subplots or figures. We ca use **fig.tight_layout()** or **plt.tight_layout()** method, which automatically adjusts the positions of the axes on the figure canvas so that there is no overlapping content:"
      ]
    },
    {
      "cell_type": "code",
      "execution_count": null,
      "metadata": {
        "id": "CASwAg7fljOc"
      },
      "outputs": [],
      "source": [
        "fig, axes = plt.subplots(nrows = 1, ncols = 2, figsize = (10, 5))\n",
        "colors = ['firebrick', 'blue']\n",
        "\n",
        "for i, ax in enumerate(axes):\n",
        "    ax.plot(x, y1, color = colors[i])\n",
        "    ax.set_xlabel('x')\n",
        "    ax.set_ylabel('y')\n",
        "    ax.set_title(colors[i])\n",
        "\n",
        "fig\n",
        "plt.tight_layout()"
      ]
    },
    {
      "cell_type": "markdown",
      "metadata": {
        "id": "Hduf1HXgljOc"
      },
      "source": [
        "We can have a matrix of plots."
      ]
    },
    {
      "cell_type": "code",
      "execution_count": null,
      "metadata": {
        "id": "xm9Wn27oljOh"
      },
      "outputs": [],
      "source": [
        "fig, axes = plt.subplots(2, 3)\n",
        "\n",
        "axes[0, 1].scatter(x, y2)\n",
        "axes[1, 2].plot(x, y1)\n",
        "\n",
        "plt.show()"
      ]
    },
    {
      "cell_type": "markdown",
      "metadata": {
        "id": "fOgNR7rkljOh"
      },
      "source": [
        "### Looping through double axes."
      ]
    },
    {
      "cell_type": "code",
      "execution_count": null,
      "metadata": {
        "id": "LzfwKDqBljOh"
      },
      "outputs": [],
      "source": [
        "fig, axes = plt.subplots(2, 2, figsize = (12, 8))\n",
        "colors = ['blue', 'green', 'purple', 'orange']\n",
        "widths = [1, 1, 5, 10]\n",
        "\n",
        "for i, row in enumerate(axes):\n",
        "    for j, ax in enumerate(row):\n",
        "        ax.plot(x, y1, color = colors[i + j], linewidth = widths[i + j])\n",
        "        ax.set_title(f'Plot {i + j}')\n",
        "\n",
        "plt.show()"
      ]
    },
    {
      "cell_type": "code",
      "source": [
        "np.ravel(np.eye(2))"
      ],
      "metadata": {
        "id": "Kt4P6iN3yc9T"
      },
      "execution_count": null,
      "outputs": []
    },
    {
      "cell_type": "markdown",
      "metadata": {
        "id": "9MJFuBNVljOi"
      },
      "source": [
        "### Loop through axes with numpy.ravel()\n",
        "\n",
        "numpy.ravel returns a flattened (1-D) version of a 2-D array, so you can get rid of the double for loop in the previous cell and just loop over the plots using np.ravel"
      ]
    },
    {
      "cell_type": "code",
      "execution_count": null,
      "metadata": {
        "id": "4Rm6PRhdljOi"
      },
      "outputs": [],
      "source": [
        "fig, axes = plt.subplots(2, 2, figsize = (12, 8))\n",
        "colors = ['blue', 'green', 'purple', 'orange']\n",
        "widths = [1, 1, 5, 10]\n",
        "\n",
        "for i, ax in enumerate(axes.ravel()):\n",
        "    ax.plot(x, y1, x, y2 + i, c = colors[i], linewidth = widths[i])\n",
        "\n",
        "    # if i == 0:\n",
        "    #     ax.scatter(x, y2)\n",
        "\n",
        "    ax.set(title = colors[i].upper())\n",
        "\n",
        "plt.tight_layout()\n",
        "plt.show()"
      ]
    },
    {
      "cell_type": "markdown",
      "metadata": {
        "id": "n3FOMcnEljOi"
      },
      "source": [
        "### Figure size"
      ]
    },
    {
      "cell_type": "markdown",
      "metadata": {
        "id": "fEkj1pRyljOi"
      },
      "source": [
        "Matplotlib allows the aspect ratio, DPI and figure size to be specified when the Figure object is created. You can use the `figsize` keyword argument.\n",
        "* `figsize` is a tuple of the width and height of the figure in inches\n",
        "\n",
        "For example:"
      ]
    },
    {
      "cell_type": "code",
      "execution_count": null,
      "metadata": {
        "id": "7PkuDughljOi"
      },
      "outputs": [],
      "source": [
        "fig = plt.figure(figsize = (4, 4))\n",
        "\n",
        "axes = fig.add_axes([0, 0, 1, 1])\n",
        "axes.scatter(x,  y1)\n",
        "plt.show()"
      ]
    },
    {
      "cell_type": "markdown",
      "metadata": {
        "id": "Vv62UjiwljOi"
      },
      "source": [
        "The same arguments can also be passed to layout managers, such as the `subplots` function:"
      ]
    },
    {
      "cell_type": "code",
      "execution_count": null,
      "metadata": {
        "id": "zM4EbxIZljOi"
      },
      "outputs": [],
      "source": [
        "fig, axes = plt.subplots(1, 2, sharey = True, figsize = (12, 6))\n",
        "\n",
        "axes[0].plot(x, y2, color = 'darkcyan')\n",
        "axes[0].set_xlabel('x')\n",
        "axes[0].set_ylabel('y')\n",
        "axes[0].set_title('title')\n",
        "\n",
        "axes[1].scatter(y1, y2)\n",
        "plt.show()"
      ]
    },
    {
      "cell_type": "markdown",
      "metadata": {
        "id": "ABUfWMXOljOj"
      },
      "source": [
        "### Legends"
      ]
    },
    {
      "cell_type": "markdown",
      "metadata": {
        "id": "Hg87G6pWljOj"
      },
      "source": [
        "You can use the **label=\"label text\"** keyword argument when plots or other objects are added to the figure, and then using the **legend** method without arguments to add the legend to the figure:"
      ]
    },
    {
      "cell_type": "code",
      "execution_count": null,
      "metadata": {
        "id": "XkYgooNhljOj"
      },
      "outputs": [],
      "source": [
        "plt.plot(x, y1, label = \"cos\")\n",
        "plt.plot(x, y2, label = \"sin\")\n",
        "plt.legend()\n",
        "plt.show()"
      ]
    },
    {
      "cell_type": "markdown",
      "metadata": {
        "id": "oWeNJEReljOj"
      },
      "source": [
        "The **legend** function takes an optional keyword argument **loc** that can be used to specify where in the figure the legend is to be drawn. The allowed values of **loc** are numerical codes for the various places the legend can be drawn. See the [documentation page](http://matplotlib.org/users/legend_guide.html#legend-location) for details. Some of the most common **loc** values are:\n",
        "\n",
        "```\n",
        "ax.legend(loc = 0) # let matplotlib decide the optimal location\n",
        "ax.legend(loc = 1) # upper right corner\n",
        "ax.legend(loc = 2) # upper left corner\n",
        "ax.legend(loc = 3) # lower left corner\n",
        "ax.legend(loc = 4) # lower right corner\n",
        "```\n",
        "many more options are available\n",
        "\n",
        "you can also specify these using strings, such as `'best'`, `'upper right'`, `'lower right'`, etc."
      ]
    },
    {
      "cell_type": "code",
      "execution_count": null,
      "metadata": {
        "id": "kmIPXjUsljOj"
      },
      "outputs": [],
      "source": [
        "plt.plot(x, y1, label = \"cos\")\n",
        "plt.plot(x, y2, label = \"sin\")\n",
        "plt.legend(loc = 'best')\n",
        "plt.title('Legend Location = best')\n",
        "plt.show()\n",
        "\n",
        "plt.plot(x, y1, label = \"cos\")\n",
        "plt.plot(x, y2, label = \"sin\")\n",
        "plt.legend(loc = 'lower right')\n",
        "plt.title('Legend Location = lower right')\n",
        "plt.show()"
      ]
    },
    {
      "cell_type": "markdown",
      "metadata": {
        "id": "7ZNDyKG-ljOj"
      },
      "source": [
        "## Saving figures\n",
        "Matplotlib can generate high-quality output in a number formats, including PNG, JPG, EPS, SVG, PGF and PDF."
      ]
    },
    {
      "cell_type": "markdown",
      "metadata": {
        "id": "R9akc4OrljOj"
      },
      "source": [
        "To save a figure to a file we can use the `savefig` method in the `Figure` class:"
      ]
    },
    {
      "cell_type": "code",
      "execution_count": null,
      "metadata": {
        "id": "o5EClVAzljOk"
      },
      "outputs": [],
      "source": [
        "fig.savefig(\"trigonometry.pdf\")"
      ]
    },
    {
      "cell_type": "markdown",
      "metadata": {
        "id": "ekF1eqIoljOk"
      },
      "source": [
        "For a tighter layout:"
      ]
    },
    {
      "cell_type": "code",
      "execution_count": null,
      "metadata": {
        "id": "2NH1on8RljOk"
      },
      "outputs": [],
      "source": [
        "fig.savefig('trig_tight.pdf', bbox_inches = 'tight')"
      ]
    },
    {
      "cell_type": "markdown",
      "metadata": {
        "id": "ctlCAd-SljOk"
      },
      "source": [
        "Here we can also optionally specify the DPI (dots per inch, or resolution) and choose between different output formats:"
      ]
    },
    {
      "cell_type": "code",
      "execution_count": null,
      "metadata": {
        "id": "-A1BMd6OljOk"
      },
      "outputs": [],
      "source": [
        "fig.savefig(\"filename.png\", dpi = 200)"
      ]
    },
    {
      "cell_type": "markdown",
      "source": [
        "In colab/jupyter notebooks, you can also just run plt.show() and then right click to save/copy the image. That's what I usually do!"
      ],
      "metadata": {
        "id": "evCIuF5fz16K"
      }
    },
    {
      "cell_type": "markdown",
      "metadata": {
        "id": "L5U1NMBTljOk"
      },
      "source": [
        "## Setting colors, linewidths, linetypes\n",
        "\n",
        "Matplotlib gives you *a lot* of options for customizing colors, linewidths, and linetypes.\n",
        "\n",
        "There is the basic MATLAB like syntax (which I would suggest you avoid using for clarity sake:"
      ]
    },
    {
      "cell_type": "markdown",
      "metadata": {
        "id": "evOk5eGsljOl"
      },
      "source": [
        "### Colors with the color= parameter"
      ]
    },
    {
      "cell_type": "markdown",
      "metadata": {
        "id": "or2fP0IuljOl"
      },
      "source": [
        "We can also define colors by their names or RGB hex codes and optionally provide an alpha value using the `color` and `alpha` keyword arguments. Alpha indicates opacity."
      ]
    },
    {
      "cell_type": "code",
      "execution_count": null,
      "metadata": {
        "id": "KvKp9A1rljOl"
      },
      "outputs": [],
      "source": [
        "fig, ax = plt.subplots()\n",
        "\n",
        "ax.plot(x + .1, y1 + 2.1, color = \"blue\", alpha = 0.1) # alpha transparency\n",
        "ax.plot(x, y1 + 2, color = \"#8B008B\", alpha = 0.5)        # RGB hex code\n",
        "ax.plot(x, y1 + 3, color = \"#FF8C00\")        # RGB hex code\n",
        "plt.show()"
      ]
    },
    {
      "cell_type": "markdown",
      "metadata": {
        "id": "V1l0_zqrljOl"
      },
      "source": [
        "## Control over axis appearance"
      ]
    },
    {
      "cell_type": "markdown",
      "metadata": {
        "id": "2nwfY4wPljOl"
      },
      "source": [
        "In this section we will look at controlling axis sizing properties in a matplotlib figure."
      ]
    },
    {
      "cell_type": "markdown",
      "metadata": {
        "id": "5Dxl8kQqljOl"
      },
      "source": [
        "### Plot range"
      ]
    },
    {
      "cell_type": "markdown",
      "metadata": {
        "id": "K2AzGqxVljOm"
      },
      "source": [
        "We can configure the ranges of the axes using the `set_ylim` and `set_xlim` methods in the axis object, or `axis('tight')` for automatically getting \"tightly fitted\" axes ranges:"
      ]
    },
    {
      "cell_type": "code",
      "execution_count": null,
      "metadata": {
        "id": "ZMHCt-OMljOm"
      },
      "outputs": [],
      "source": [
        "fig, axes = plt.subplots(1, 2, figsize = (12, 4))\n",
        "\n",
        "axes[0].plot(x, y1, x, y2)\n",
        "axes[0].set_title(\"default axes ranges\")\n",
        "\n",
        "\n",
        "axes[1].plot(x, y1, x, y2)\n",
        "axes[1].set_ylim([-.5, .5])\n",
        "axes[1].set_xlim([-2, 0])\n",
        "axes[1].set_title(\"custom axes range\")\n",
        "\n",
        "plt.show()"
      ]
    },
    {
      "cell_type": "markdown",
      "source": [
        "Note, just like with title, xlabel, and ylabel, if you want to define the x and ylimits for plt.plot instead of axis.plot, you need to use plt.xlim and plt.ylim instead of .set_xlim and .set_ylim"
      ],
      "metadata": {
        "id": "vV-9YNI00R9F"
      }
    },
    {
      "cell_type": "markdown",
      "metadata": {
        "id": "NGmN7NMAljOm"
      },
      "source": [
        "#### Logarithmic scale"
      ]
    },
    {
      "cell_type": "markdown",
      "metadata": {
        "id": "QkDMCCczljOm"
      },
      "source": [
        "It is also possible to set a logarithmic scale for one or both axes. This functionality is in fact only one application of a more general transformation system in Matplotlib. Each of the axes' scales are set seperately using `set_xscale` and `set_yscale` methods which accept one parameter (with the value \"log\" in this case):"
      ]
    },
    {
      "cell_type": "code",
      "execution_count": null,
      "metadata": {
        "id": "tTgQTGRaljOm"
      },
      "outputs": [],
      "source": [
        "xl = np.linspace(0, 1, 100)\n",
        "\n",
        "fig, axes = plt.subplots(1, 2, figsize=(10,4))\n",
        "\n",
        "axes[0].plot(xl, xl**2, xl, np.exp(xl))\n",
        "axes[0].set_title(\"Normal scale\")\n",
        "\n",
        "axes[1].plot(xl, xl**2, xl, np.exp(xl))\n",
        "axes[1].set_yscale(\"log\")\n",
        "axes[1].set_title(\"Logarithmic scale (y)\")\n",
        "\n",
        "plt.show()"
      ]
    },
    {
      "cell_type": "markdown",
      "metadata": {
        "id": "VVLyGum7ljOm"
      },
      "source": [
        "### Axis grid"
      ]
    },
    {
      "cell_type": "markdown",
      "metadata": {
        "id": "s9flnRmUljOm"
      },
      "source": [
        "With the `grid` method in the axis object, we can turn on and off grid lines. We can also customize the appearance of the grid lines using the same keyword arguments as the `plot` function:"
      ]
    },
    {
      "cell_type": "code",
      "execution_count": null,
      "metadata": {
        "id": "nzt4ZYuYljOn"
      },
      "outputs": [],
      "source": [
        "fig, axes = plt.subplots(1, 2, figsize=(10,3))\n",
        "\n",
        "# default grid appearance\n",
        "axes[0].plot(x, x**2, x, x**3, lw=2)\n",
        "axes[0].grid(True)\n",
        "\n",
        "# custom grid appearance\n",
        "axes[1].plot(x, x**2, x, x**3, lw=2)\n",
        "axes[1].grid(color='b', alpha=0.5, linestyle='dashed', linewidth=0.9)\n",
        "\n",
        "plt.show()"
      ]
    },
    {
      "cell_type": "markdown",
      "metadata": {
        "id": "qicDzfC8ljOn"
      },
      "source": [
        "### Text annotation"
      ]
    },
    {
      "cell_type": "markdown",
      "metadata": {
        "id": "UdB6X91VljOn"
      },
      "source": [
        "Annotating text in matplotlib figures can be done using the `text` function. It supports LaTeX formatting just like axis label texts and titles:"
      ]
    },
    {
      "cell_type": "code",
      "execution_count": null,
      "metadata": {
        "id": "KSaoN9tZljOn"
      },
      "outputs": [],
      "source": [
        "fig, ax = plt.subplots()\n",
        "\n",
        "xx = np.linspace(-0.75, 1., 100)\n",
        "ax.plot(xx, xx**2, xx, xx**3)\n",
        "\n",
        "#the first two arguments in ax.text are the x and y coordinates of the text.\n",
        "#the dollar signs in the string signify that we want latex formatting.\n",
        "ax.text(0.15, 0.2, \"$y=x^2$\", fontsize=20, color=\"blue\")\n",
        "ax.text(0.65, 0.1, \"$y=x^3$\", fontsize=20, color=\"green\")\n",
        "\n",
        "plt.show()"
      ]
    },
    {
      "cell_type": "markdown",
      "metadata": {
        "id": "mI163g88ljOn"
      },
      "source": [
        "# Additional Plot Types\n",
        "\n",
        "There are many specialized plots we can create, such as barplots, histograms, scatter plots, and much more. Most of these type of plots we will create using seaborn, a statistical plotting library for Python. But here are a few examples of these type of plots:"
      ]
    },
    {
      "cell_type": "code",
      "execution_count": null,
      "metadata": {
        "id": "X1U9Rpt0ljOn"
      },
      "outputs": [],
      "source": [
        "from random import sample\n",
        "data = sample(range(1, 1000), 100)\n",
        "plt.hist(data)\n",
        "plt.show()"
      ]
    },
    {
      "cell_type": "code",
      "source": [
        "#you can make your histograms density histograms if you want to mimic a probability density function. you can also change the number of bins\n",
        "plt.hist(data, density = True, bins = 20)\n",
        "plt.show()"
      ],
      "metadata": {
        "id": "HiQkz7Pn1Iau"
      },
      "execution_count": null,
      "outputs": []
    },
    {
      "cell_type": "code",
      "execution_count": null,
      "metadata": {
        "id": "YG1arfBhljOo"
      },
      "outputs": [],
      "source": [
        "data = [np.random.normal(0, std, 100) for std in range(1, 4)]\n",
        "\n",
        "# rectangular box plot\n",
        "plt.boxplot(data, vert = True)\n",
        "plt.show()"
      ]
    },
    {
      "cell_type": "code",
      "execution_count": null,
      "metadata": {
        "id": "qHN0ZSQBljOo"
      },
      "outputs": [],
      "source": [
        "# Violin Plot\n",
        "plt.violinplot(data, showmeans=True, showmedians=True)\n",
        "plt.show()"
      ]
    },
    {
      "cell_type": "code",
      "execution_count": null,
      "metadata": {
        "id": "uBX3zAmRljOo"
      },
      "outputs": [],
      "source": [
        "# Heatmap data\n",
        "data = np.random.rand(10, 10)\n",
        "\n",
        "# Create the heatmap\n",
        "fig, ax = plt.subplots()\n",
        "cax = ax.imshow(data, cmap='viridis')\n",
        "\n",
        "# Add colorbar\n",
        "fig.colorbar(cax)\n",
        "\n",
        "# Add labels\n",
        "ax.set_title('Heatmap Example')\n",
        "ax.set_xlabel('X Axis')\n",
        "ax.set_ylabel('Y Axis')\n",
        "\n",
        "plt.show()"
      ]
    },
    {
      "cell_type": "markdown",
      "metadata": {
        "id": "8Ys8gS5oljOo"
      },
      "source": [
        "## Further reading"
      ]
    },
    {
      "cell_type": "markdown",
      "metadata": {
        "id": "mc2F7VQ7ljOo"
      },
      "source": [
        "* http://www.matplotlib.org - The project web page for matplotlib.\n",
        "* https://github.com/matplotlib/matplotlib - The source code for matplotlib.\n",
        "* http://matplotlib.org/gallery.html - A large gallery showcaseing various types of plots matplotlib can create. Highly recommended!\n",
        "* http://www.loria.fr/~rougier/teaching/matplotlib - A good matplotlib tutorial.\n",
        "* http://scipy-lectures.github.io/matplotlib/matplotlib.html - Another good matplotlib reference.\n"
      ]
    }
  ],
  "metadata": {
    "kernelspec": {
      "display_name": "base",
      "language": "python",
      "name": "python3"
    },
    "language_info": {
      "codemirror_mode": {
        "name": "ipython",
        "version": 3
      },
      "file_extension": ".py",
      "mimetype": "text/x-python",
      "name": "python",
      "nbconvert_exporter": "python",
      "pygments_lexer": "ipython3",
      "version": "3.11.4"
    },
    "colab": {
      "provenance": []
    }
  },
  "nbformat": 4,
  "nbformat_minor": 0
}