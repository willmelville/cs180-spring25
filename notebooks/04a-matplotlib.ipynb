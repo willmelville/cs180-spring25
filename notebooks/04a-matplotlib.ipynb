{
 "cells": [
  {
   "cell_type": "markdown",
   "metadata": {},
   "source": [
    "## Introduction"
   ]
  },
  {
   "cell_type": "markdown",
   "metadata": {},
   "source": [
    "Matplotlib is the \"grandfather\" library of data visualization with Python. It was created to try to replicate MatLab's (another programming language) plotting capabilities in Python.  \n",
    "\n",
    "Matplotlib was originally released in 2003!  This predates Pandas (which was originally released in 2008), so it can feel a little clunky to modern users.  Having said that, it is still a great visualization package and you really can't talk about visualization in Python without some talk about Matplotlib.  \n",
    "\n",
    "Some of the major Pros of Matplotlib are:\n",
    "\n",
    "* Generally easy to get started for simple plots\n",
    "* Support for custom labels and texts\n",
    "* Great control of every element in a figure\n",
    "* High-quality output in many formats\n",
    "* Very customizable in general\n",
    "\n",
    "For more information, explore the official Maplotlib web page: https://matplotlib.org/.  Here you can find \n",
    "[examples (with code)](https://matplotlib.org/stable/gallery/index) for almost any kind of plot you want to create, a [quick start guide](https://matplotlib.org/stable/tutorials/introductory/quick_start.html), [cheat sheets](https://matplotlib.org/cheatsheets/), detailed official [documentation](https://matplotlib.org/stable/api/index.html) to the api, and more.  \n",
    "    \n",
    "## Importing"
   ]
  },
  {
   "cell_type": "markdown",
   "metadata": {},
   "source": [
    "It is standard to import the `matplotlib.pyplot` module with the alias `plt` :"
   ]
  },
  {
   "cell_type": "code",
   "execution_count": null,
   "metadata": {},
   "outputs": [],
   "source": [
    "import matplotlib.pyplot as plt\n",
    "import matplotlib\n",
    "import numpy as np"
   ]
  },
  {
   "cell_type": "markdown",
   "metadata": {},
   "source": [
    "You'll also need to use this line to see plots in the notebook (athough it appears that in newer versions of jupyter you might not need it):"
   ]
  },
  {
   "cell_type": "code",
   "execution_count": 3,
   "metadata": {},
   "outputs": [],
   "source": [
    "#Historical Note\n",
    "%matplotlib inline"
   ]
  },
  {
   "cell_type": "markdown",
   "metadata": {},
   "source": [
    "That line is only for jupyter notebooks, if you are using another editor, you'll use: **plt.show()** at the end of all your plotting commands to have the figure pop up in another window."
   ]
  },
  {
   "cell_type": "markdown",
   "metadata": {
    "collapsed": true
   },
   "source": [
    "# Basic Example\n",
    "\n",
    "Let's walk through a very simple example using two numpy arrays:"
   ]
  },
  {
   "cell_type": "markdown",
   "metadata": {},
   "source": [
    "### Example\n",
    "\n",
    "Let's walk through a very simple example using two numpy arrays. You can also use lists or pandas columns.\n",
    "\n",
    "**The data we want to plot:**"
   ]
  },
  {
   "cell_type": "code",
   "execution_count": 4,
   "metadata": {},
   "outputs": [],
   "source": [
    "x = np.linspace(-np.pi, np.pi, 50)\n",
    "y1 = np.cos(x)\n",
    "y2 = np.sin(x)"
   ]
  },
  {
   "cell_type": "markdown",
   "metadata": {},
   "source": [
    "## Basic Matplotlib Commands with *functions*\n",
    "\n",
    "We can create a very simple line plot using the `plt.plot()`"
   ]
  },
  {
   "cell_type": "code",
   "execution_count": null,
   "metadata": {},
   "outputs": [],
   "source": [
    "plt.plot(x, y1)"
   ]
  },
  {
   "cell_type": "markdown",
   "metadata": {},
   "source": [
    "We can create a very simple scatterplot using the `plt.scatter()`"
   ]
  },
  {
   "cell_type": "code",
   "execution_count": null,
   "metadata": {},
   "outputs": [],
   "source": [
    "plt.scatter(x, y1)"
   ]
  },
  {
   "cell_type": "markdown",
   "metadata": {},
   "source": [
    "____\n",
    "## Labels and titles"
   ]
  },
  {
   "cell_type": "markdown",
   "metadata": {},
   "source": [
    "Now that we have covered the basics of how to create a figure canvas and add axes instances to the canvas, let's look at how decorate a figure with titles, and axis labels."
   ]
  },
  {
   "cell_type": "markdown",
   "metadata": {},
   "source": [
    "**Figure titles**\n",
    "\n",
    "A title can be added to each axis instance in a figure. To set the title, use the `set_title` method in the axes instance:"
   ]
  },
  {
   "cell_type": "markdown",
   "metadata": {},
   "source": [
    "**Axis labels**\n",
    "\n",
    "Similarly, with the methods `set_xlabel` and `set_ylabel`, we can set the labels of the X and Y axes:"
   ]
  },
  {
   "cell_type": "code",
   "execution_count": null,
   "metadata": {},
   "outputs": [],
   "source": [
    "# Generate basic plot\n",
    "plt.plot(x, y1)\n",
    "\n",
    "# Add some attributes\n",
    "plt.xlabel('X Axis Title')\n",
    "plt.ylabel('Y Axis Title')\n",
    "plt.title('Title')"
   ]
  },
  {
   "cell_type": "code",
   "execution_count": null,
   "metadata": {},
   "outputs": [],
   "source": []
  },
  {
   "cell_type": "markdown",
   "metadata": {},
   "source": [
    "## Optional Arguments for scatteplot:\n",
    "\n",
    "**s:**          The size of the markers. It can be a single value or an array of the same length as x and y.  \n",
    "**c:**         The color of the markers. It can be a single color format string, or an array of numbers that will be mapped to colors using the cmap and norm parameters.  \n",
    "**marker:**     The style of the markers. Examples include 'o' for circles, 's' for squares, etc.  \n",
    "**cmap:**       A Colormap instance or a registered colormap name. This is used when c is an array of numbers.  \n",
    "**norm:**      A Normalize instance to scale data values to the range [0, 1].  \n",
    "**vmin:**       Minimum data value that corresponds to the colormap’s lower bound.  \n",
    "**vmax:**      Maximum data value that corresponds to the colormap’s upper bound.  \n",
    "**alpha:**      The alpha blending value, between 0 (transparent) and 1 (opaque).  \n",
    "**linewidths:** The width of the marker edges.  \n",
    "**edgecolors:** The color of the marker edges. It can be 'face', 'none', 'auto', or a color.  \n"
   ]
  },
  {
   "cell_type": "markdown",
   "metadata": {},
   "source": [
    "A list of matplotlib colors can be found [here](https://matplotlib.org/stable/gallery/color/named_colors.html).  \n",
    "Axes classes (e.g., plot, scatter, bar, etc.) can be found [here](https://matplotlib.org/stable/api/axes_api.html)."
   ]
  },
  {
   "cell_type": "code",
   "execution_count": null,
   "metadata": {},
   "outputs": [],
   "source": [
    "plt.scatter(x, y1, s = np.abs(y1 * 5), c = 'forestgreen', alpha = 0.7)"
   ]
  },
  {
   "cell_type": "code",
   "execution_count": null,
   "metadata": {},
   "outputs": [],
   "source": [
    "fig, ax = plt.subplots(figsize=(12, 6))\n",
    "\n",
    "ax.plot(x, x + 1, color = \"red\", linewidth = 0.25)\n",
    "ax.plot(x, x + 2, color = \"red\", linewidth = 0.50)\n",
    "ax.plot(x, x + 3, color = \"red\", linewidth = 1.00)\n",
    "ax.plot(x, x + 4, color = \"red\", linewidth = 2.00)\n",
    "\n",
    "# possible linestype options ‘-‘, ‘–’, ‘-.’, ‘:’, ‘steps’\n",
    "ax.plot(x, x + 5, color = \"green\", lw = 3, linestyle = '-')\n",
    "ax.plot(x, x + 6, color = \"green\", lw = 3, ls = '-.')\n",
    "ax.plot(x, x + 7, color = \"green\", lw = 3, ls = ':')\n",
    "\n",
    "# custom dash\n",
    "line, = ax.plot(x, x + 8, color = \"black\", lw = 1.50)\n",
    "line.set_dashes([5, 10, 15, 10])  # format: line length, space length, ...\n",
    "\n",
    "# possible marker symbols: marker = '+', 'o', '*', 's', ',', '.', '1', '2', '3', '4', ...\n",
    "ax.plot(x, x + 9, color = \"blue\", lw = 3, ls = '-', marker = '+')\n",
    "ax.plot(x, x + 10, color = \"blue\", lw = 3, ls = '--', marker = 'o')\n",
    "ax.plot(x, x + 11, color = \"blue\", lw = 3, ls = '-', marker = 's')\n",
    "ax.plot(x, x + 12, color = \"blue\", lw = 3, ls = '--', marker = '1')\n",
    "\n",
    "# marker size and color\n",
    "ax.plot(x, x + 13, color = \"purple\", lw = 1, ls = '-', marker = 'o', markersize = 2)\n",
    "ax.plot(x, x + 14, color = \"purple\", lw = 1, ls = '-', marker = 'o', markersize = 4)\n",
    "ax.plot(x, x + 15, color = \"purple\", lw = 1, ls = '-', marker = 'o', markersize = 8, markerfacecolor = \"red\")\n",
    "ax.plot(x, x + 16, color = \"purple\", lw = 1, ls = '-', marker = 's', markersize = 8,\n",
    "        markerfacecolor = \"yellow\", markeredgewidth = 3, markeredgecolor = \"green\")\n",
    "\n",
    "ax.set_ylim(0, 20)\n",
    "\n",
    "ax.set_title('Style Points!')"
   ]
  },
  {
   "cell_type": "markdown",
   "metadata": {},
   "source": [
    "## Multiple Plots on the Same Plot (Methods)"
   ]
  },
  {
   "cell_type": "code",
   "execution_count": null,
   "metadata": {},
   "outputs": [],
   "source": [
    "# Create Figure (empty canvas)\n",
    "fig = plt.figure()\n",
    "\n",
    "# Add set of axes to figure\n",
    "axes = fig.add_axes([0.1, 0.1, 0.5, 0.8]) # left, bottom, width, height (range 0 to 1)\n",
    "\n",
    "# Plot on that set of axes\n",
    "axes.plot(x, y1, 'b')\n",
    "\n",
    "# Add a second plot\n",
    "# axes.scatter(x, y2)\n",
    "\n",
    "\n",
    "axes.set_xlabel('Set X Label') # Notice the use of set_ to begin methods\n",
    "axes.set_ylabel('Set y Label')\n",
    "axes.set_title('Set Title')"
   ]
  },
  {
   "cell_type": "code",
   "execution_count": null,
   "metadata": {},
   "outputs": [],
   "source": [
    "# Creates blank canvas\n",
    "fig = plt.figure()\n",
    "\n",
    "axes1 = fig.add_axes([0.1, 0.1, 0.8, 0.8]) # bottom, left, width, height\n",
    "axes2 = fig.add_axes([0.35, 0.25, 0.3, 0.2])\n",
    "\n",
    "# Larger Figure Axes 1\n",
    "axes1.plot(x, y1, 'b')\n",
    "axes1.set_xlabel('X_label_axes2')\n",
    "axes1.set_ylabel('Y_label_axes2')\n",
    "axes1.set_title('Axes 2 Title')\n",
    "\n",
    "# Insert Figure Axes 2\n",
    "axes2.scatter(x, y2, s = 5)\n",
    "axes2.set_xlabel('X_label_axes2')\n",
    "axes2.set_ylabel('Y_label_axes2')\n",
    "axes2.set_title('Axes 2 Title')"
   ]
  },
  {
   "cell_type": "markdown",
   "metadata": {},
   "source": [
    "## Creating Multiplots on Same Canvas"
   ]
  },
  {
   "cell_type": "markdown",
   "metadata": {},
   "source": [
    "plt.subplot(nrows, ncols, plot_number)"
   ]
  },
  {
   "cell_type": "code",
   "execution_count": null,
   "metadata": {},
   "outputs": [],
   "source": [
    "# First Plot\n",
    "plt.subplot(1, 2, 1) # 1 row, 2 columns\n",
    "plt.plot(x, y1, color = 'r', linestyle = 'dashed') # Shortened arguments\n",
    "\n",
    "# Second Plot\n",
    "plt.subplot(1, 2, 2)\n",
    "plt.plot(x, y2, alpha = 0.25)"
   ]
  },
  {
   "cell_type": "markdown",
   "metadata": {},
   "source": [
    "## subplots() for multiple plots\n",
    "\n",
    "The plt.subplots() object will act as a more automatic axis manager.\n",
    "Then you can specify the number of rows and columns when creating the subplots() object:"
   ]
  },
  {
   "cell_type": "code",
   "execution_count": null,
   "metadata": {},
   "outputs": [],
   "source": [
    "# Empty canvas of 1 by 2 subplots\n",
    "fig, axes = plt.subplots(nrows = 1, ncols = 2, sharey = True, figsize = (10, 5)) # figsize: (width, height)"
   ]
  },
  {
   "cell_type": "code",
   "execution_count": null,
   "metadata": {},
   "outputs": [],
   "source": [
    "# Axes is an array of axes to plot on\n",
    "axes"
   ]
  },
  {
   "cell_type": "code",
   "execution_count": null,
   "metadata": {},
   "outputs": [],
   "source": [
    "axes[0]"
   ]
  },
  {
   "cell_type": "markdown",
   "metadata": {},
   "source": [
    "We can iterate through this array:"
   ]
  },
  {
   "cell_type": "code",
   "execution_count": null,
   "metadata": {},
   "outputs": [],
   "source": [
    "axes[0].plot(x, y1, 'b')\n",
    "axes[0].set_xlabel('X Label 0')\n",
    "axes[0].set_ylabel('Y Label 0')\n",
    "axes[0].set_title('Title 0')\n",
    "\n",
    "\n",
    "axes[1].plot(x, y2, 'r')\n",
    "axes[1].set_xlabel('X Label 1')\n",
    "axes[1].set_ylabel('Y Label 1')\n",
    "axes[1].set_title('Title 1')\n",
    "\n",
    "\n",
    "# Display the figure object    \n",
    "fig"
   ]
  },
  {
   "cell_type": "markdown",
   "metadata": {},
   "source": [
    "We can iterate through the axes. A common issue with matplolib is overlapping subplots or figures. We ca use **fig.tight_layout()** or **plt.tight_layout()** method, which automatically adjusts the positions of the axes on the figure canvas so that there is no overlapping content:"
   ]
  },
  {
   "cell_type": "code",
   "execution_count": null,
   "metadata": {},
   "outputs": [],
   "source": [
    "fig, axes = plt.subplots(nrows = 1, ncols = 2, figsize = (10, 5))\n",
    "colors = ['firebrick', 'blue']\n",
    "\n",
    "for i, ax in enumerate(axes):\n",
    "    ax.plot(x, y1, color = colors[i])\n",
    "    ax.set_xlabel('x')\n",
    "    ax.set_ylabel('y')\n",
    "    ax.set_title(colors[i])\n",
    "\n",
    "fig    \n",
    "plt.tight_layout()"
   ]
  },
  {
   "cell_type": "markdown",
   "metadata": {},
   "source": [
    "We can have a matrix of plots."
   ]
  },
  {
   "cell_type": "code",
   "execution_count": null,
   "metadata": {},
   "outputs": [],
   "source": [
    "fig, axes = plt.subplots(2, 3)\n",
    "\n",
    "axes[0, 1].scatter(x, y2)\n",
    "axes[1, 2].plot(x, y1)"
   ]
  },
  {
   "cell_type": "markdown",
   "metadata": {},
   "source": [
    "### Looping through double axes."
   ]
  },
  {
   "cell_type": "code",
   "execution_count": null,
   "metadata": {},
   "outputs": [],
   "source": [
    "fig, axes = plt.subplots(2, 2, figsize = (12, 8))\n",
    "colors = ['blue', 'green', 'purple', 'orange']\n",
    "widths = [1, 1, 5, 10]\n",
    "\n",
    "for i, row in enumerate(axes):\n",
    "    for j, ax in enumerate(row):\n",
    "        ax.plot(x, y1, color = colors[i + j], linewidth = widths[i + j])\n",
    "        ax.set_title(f'Plot {i + j}')"
   ]
  },
  {
   "cell_type": "markdown",
   "metadata": {},
   "source": [
    "### Loop through axes with numpy.ravel()"
   ]
  },
  {
   "cell_type": "code",
   "execution_count": null,
   "metadata": {},
   "outputs": [],
   "source": [
    "fig, axes = plt.subplots(2, 2, figsize = (12, 8))\n",
    "colors = ['blue', 'green', 'purple', 'orange']\n",
    "widths = [1, 1, 5, 10]\n",
    "\n",
    "for i, ax in enumerate(axes.ravel()):\n",
    "    ax.plot(x, y1, x, y2 + i, c = colors[i], linewidth = widths[i])\n",
    "\n",
    "    # if i == 0:\n",
    "    #     ax.scatter(x, y2)\n",
    "        \n",
    "    ax.set(title = colors[i].upper())\n",
    "\n",
    "plt.tight_layout()"
   ]
  },
  {
   "cell_type": "markdown",
   "metadata": {},
   "source": [
    "### Figure size"
   ]
  },
  {
   "cell_type": "markdown",
   "metadata": {},
   "source": [
    "Matplotlib allows the aspect ratio, DPI and figure size to be specified when the Figure object is created. You can use the `figsize` keyword argument. \n",
    "* `figsize` is a tuple of the width and height of the figure in inches\n",
    "\n",
    "For example:"
   ]
  },
  {
   "cell_type": "code",
   "execution_count": null,
   "metadata": {},
   "outputs": [],
   "source": [
    "fig = plt.figure(figsize = (4, 4))\n",
    "\n",
    "axes = fig.add_axes([0, 0, 1, 1])\n",
    "axes.scatter(x,  y1)"
   ]
  },
  {
   "cell_type": "markdown",
   "metadata": {},
   "source": [
    "The same arguments can also be passed to layout managers, such as the `subplots` function:"
   ]
  },
  {
   "cell_type": "code",
   "execution_count": null,
   "metadata": {},
   "outputs": [],
   "source": [
    "fig, axes = plt.subplots(1, 2, sharey = True, figsize = (12, 6))\n",
    "\n",
    "axes[0].plot(x, y2, color = 'darkcyan')\n",
    "axes[0].set_xlabel('x')\n",
    "axes[0].set_ylabel('y')\n",
    "axes[0].set_title('title')\n",
    "\n",
    "axes[1].scatter(y1, y2)"
   ]
  },
  {
   "cell_type": "markdown",
   "metadata": {},
   "source": [
    "### Legends"
   ]
  },
  {
   "cell_type": "markdown",
   "metadata": {},
   "source": [
    "You can use the **label=\"label text\"** keyword argument when plots or other objects are added to the figure, and then using the **legend** method without arguments to add the legend to the figure: "
   ]
  },
  {
   "cell_type": "code",
   "execution_count": null,
   "metadata": {},
   "outputs": [],
   "source": [
    "fig = plt.figure()\n",
    "\n",
    "ax = fig.add_axes([0, 0, 1, 1])\n",
    "\n",
    "ax.plot(x, y1, label = \"cos\")\n",
    "ax.plot(x, y2, label = \"sin\")\n",
    "ax.legend(loc = 0)"
   ]
  },
  {
   "cell_type": "markdown",
   "metadata": {},
   "source": [
    "The **legend** function takes an optional keyword argument **loc** that can be used to specify where in the figure the legend is to be drawn. The allowed values of **loc** are numerical codes for the various places the legend can be drawn. See the [documentation page](http://matplotlib.org/users/legend_guide.html#legend-location) for details. Some of the most common **loc** values are:\n",
    "\n",
    "```\n",
    "ax.legend(loc = 0) # let matplotlib decide the optimal location\n",
    "ax.legend(loc = 1) # upper right corner \n",
    "ax.legend(loc = 2) # upper left corner\n",
    "ax.legend(loc = 3) # lower left corner\n",
    "ax.legend(loc = 4) # lower right corner\n",
    "```\n",
    "many more options are available\n",
    "\n",
    "you can also specify these using strings, such as `'best'`, `'upper right'`, `'lower right'`, etc."
   ]
  },
  {
   "cell_type": "code",
   "execution_count": null,
   "metadata": {},
   "outputs": [],
   "source": []
  },
  {
   "cell_type": "markdown",
   "metadata": {},
   "source": [
    "## Saving figures\n",
    "Matplotlib can generate high-quality output in a number formats, including PNG, JPG, EPS, SVG, PGF and PDF. "
   ]
  },
  {
   "cell_type": "markdown",
   "metadata": {},
   "source": [
    "To save a figure to a file we can use the `savefig` method in the `Figure` class:"
   ]
  },
  {
   "cell_type": "code",
   "execution_count": 24,
   "metadata": {},
   "outputs": [],
   "source": [
    "fig.savefig(\"trigonometry.pdf\")"
   ]
  },
  {
   "cell_type": "markdown",
   "metadata": {},
   "source": [
    "For a tighter layout:"
   ]
  },
  {
   "cell_type": "code",
   "execution_count": 25,
   "metadata": {},
   "outputs": [],
   "source": [
    "fig.savefig('trig_tight.pdf', bbox_inches = 'tight')"
   ]
  },
  {
   "cell_type": "markdown",
   "metadata": {},
   "source": [
    "Here we can also optionally specify the DPI and choose between different output formats:"
   ]
  },
  {
   "cell_type": "code",
   "execution_count": 26,
   "metadata": {},
   "outputs": [],
   "source": [
    "fig.savefig(\"filename.png\", dpi = 200)"
   ]
  },
  {
   "cell_type": "markdown",
   "metadata": {},
   "source": [
    "## Setting colors, linewidths, linetypes\n",
    "\n",
    "Matplotlib gives you *a lot* of options for customizing colors, linewidths, and linetypes. \n",
    "\n",
    "There is the basic MATLAB like syntax (which I would suggest you avoid using for clarity sake:"
   ]
  },
  {
   "cell_type": "markdown",
   "metadata": {},
   "source": [
    "### Colors with the color= parameter"
   ]
  },
  {
   "cell_type": "markdown",
   "metadata": {},
   "source": [
    "We can also define colors by their names or RGB hex codes and optionally provide an alpha value using the `color` and `alpha` keyword arguments. Alpha indicates opacity."
   ]
  },
  {
   "cell_type": "code",
   "execution_count": null,
   "metadata": {},
   "outputs": [],
   "source": [
    "fig, ax = plt.subplots()\n",
    "\n",
    "ax.plot(x + .1, y1 + 2.1, color = \"blue\", alpha = 0.1) # alpha transparency\n",
    "ax.plot(x, y1 + 2, color = \"#8B008B\", alpha = 0.5)        # RGB hex code\n",
    "ax.plot(x, y1 + 3, color = \"#FF8C00\")        # RGB hex code "
   ]
  },
  {
   "cell_type": "markdown",
   "metadata": {},
   "source": [
    "### Control over axis appearance"
   ]
  },
  {
   "cell_type": "markdown",
   "metadata": {},
   "source": [
    "In this section we will look at controlling axis sizing properties in a matplotlib figure."
   ]
  },
  {
   "cell_type": "markdown",
   "metadata": {},
   "source": [
    "# Other options"
   ]
  },
  {
   "cell_type": "markdown",
   "metadata": {},
   "source": [
    "## Plot range"
   ]
  },
  {
   "cell_type": "markdown",
   "metadata": {},
   "source": [
    "We can configure the ranges of the axes using the `set_ylim` and `set_xlim` methods in the axis object, or `axis('tight')` for automatically getting \"tightly fitted\" axes ranges:"
   ]
  },
  {
   "cell_type": "code",
   "execution_count": null,
   "metadata": {},
   "outputs": [],
   "source": [
    "fig, axes = plt.subplots(1, 2, figsize = (12, 4))\n",
    "\n",
    "axes[0].plot(x, y1, x, y2)\n",
    "axes[0].set_title(\"default axes ranges\")\n",
    "\n",
    "\n",
    "axes[1].plot(x, y1, x, y2)\n",
    "axes[1].set_ylim([-.5, .5])\n",
    "axes[1].set_xlim([-2, 0])\n",
    "axes[1].set_title(\"custom axes range\")"
   ]
  },
  {
   "cell_type": "markdown",
   "metadata": {},
   "source": [
    "#### Logarithmic scale"
   ]
  },
  {
   "cell_type": "markdown",
   "metadata": {},
   "source": [
    "It is also possible to set a logarithmic scale for one or both axes. This functionality is in fact only one application of a more general transformation system in Matplotlib. Each of the axes' scales are set seperately using `set_xscale` and `set_yscale` methods which accept one parameter (with the value \"log\" in this case):"
   ]
  },
  {
   "cell_type": "code",
   "execution_count": null,
   "metadata": {},
   "outputs": [],
   "source": [
    "xl = np.linspace(0, 1, 100)\n",
    "\n",
    "fig, axes = plt.subplots(1, 2, figsize=(10,4))\n",
    "      \n",
    "axes[0].plot(xl, xl**2, xl, np.exp(xl))\n",
    "axes[0].set_title(\"Normal scale\")\n",
    "\n",
    "axes[1].plot(xl, xl**2, xl, np.exp(xl))\n",
    "axes[1].set_yscale(\"log\")\n",
    "axes[1].set_title(\"Logarithmic scale (y)\");"
   ]
  },
  {
   "cell_type": "markdown",
   "metadata": {},
   "source": [
    "### Axis grid"
   ]
  },
  {
   "cell_type": "markdown",
   "metadata": {},
   "source": [
    "With the `grid` method in the axis object, we can turn on and off grid lines. We can also customize the appearance of the grid lines using the same keyword arguments as the `plot` function:"
   ]
  },
  {
   "cell_type": "code",
   "execution_count": null,
   "metadata": {},
   "outputs": [],
   "source": [
    "fig, axes = plt.subplots(1, 2, figsize=(10,3))\n",
    "\n",
    "# default grid appearance\n",
    "axes[0].plot(x, x**2, x, x**3, lw=2)\n",
    "axes[0].grid(True)\n",
    "\n",
    "# custom grid appearance\n",
    "axes[1].plot(x, x**2, x, x**3, lw=2)\n",
    "axes[1].grid(color='b', alpha=0.5, linestyle='dashed', linewidth=0.9)"
   ]
  },
  {
   "cell_type": "markdown",
   "metadata": {},
   "source": [
    "### Text annotation"
   ]
  },
  {
   "cell_type": "markdown",
   "metadata": {},
   "source": [
    "Annotating text in matplotlib figures can be done using the `text` function. It supports LaTeX formatting just like axis label texts and titles:"
   ]
  },
  {
   "cell_type": "code",
   "execution_count": null,
   "metadata": {},
   "outputs": [],
   "source": [
    "fig, ax = plt.subplots()\n",
    "\n",
    "xx = np.linspace(-0.75, 1., 100)\n",
    "ax.plot(xx, xx**2, xx, xx**3)\n",
    "\n",
    "ax.text(0.15, 0.2, r\"$y=x^2$\", fontsize=20, color=\"blue\")\n",
    "ax.text(0.65, 0.1, r\"$y=x^3$\", fontsize=20, color=\"green\")"
   ]
  },
  {
   "cell_type": "markdown",
   "metadata": {},
   "source": [
    "# Additional Plot Types\n",
    "\n",
    "There are many specialized plots we can create, such as barplots, histograms, scatter plots, and much more. Most of these type of plots we will create using seaborn, a statistical plotting library for Python. But here are a few examples of these type of plots:"
   ]
  },
  {
   "cell_type": "code",
   "execution_count": null,
   "metadata": {},
   "outputs": [],
   "source": [
    "from random import sample\n",
    "data = sample(range(1, 1000), 100)\n",
    "plt.hist(data)"
   ]
  },
  {
   "cell_type": "code",
   "execution_count": null,
   "metadata": {},
   "outputs": [],
   "source": [
    "data = [np.random.normal(0, std, 100) for std in range(1, 4)]\n",
    "\n",
    "# rectangular box plot\n",
    "plt.boxplot(data, vert = True);"
   ]
  },
  {
   "cell_type": "code",
   "execution_count": null,
   "metadata": {},
   "outputs": [],
   "source": [
    "# Violin Plot\n",
    "fig, ax = plt.subplots()\n",
    "ax.violinplot(data, showmeans=True, showmedians=True);"
   ]
  },
  {
   "cell_type": "code",
   "execution_count": null,
   "metadata": {},
   "outputs": [],
   "source": [
    "# Heatmap data\n",
    "data = np.random.rand(10, 10)\n",
    "\n",
    "# Create the heatmap\n",
    "fig, ax = plt.subplots()\n",
    "cax = ax.imshow(data, cmap='viridis')\n",
    "\n",
    "# Add colorbar\n",
    "fig.colorbar(cax)\n",
    "\n",
    "# Add labels\n",
    "ax.set_title('Heatmap Example')\n",
    "ax.set_xlabel('X Axis')\n",
    "ax.set_ylabel('Y Axis')\n",
    "\n",
    "plt.show()"
   ]
  },
  {
   "cell_type": "markdown",
   "metadata": {},
   "source": [
    "## Further reading"
   ]
  },
  {
   "cell_type": "markdown",
   "metadata": {},
   "source": [
    "* http://www.matplotlib.org - The project web page for matplotlib.\n",
    "* https://github.com/matplotlib/matplotlib - The source code for matplotlib.\n",
    "* http://matplotlib.org/gallery.html - A large gallery showcaseing various types of plots matplotlib can create. Highly recommended! \n",
    "* http://www.loria.fr/~rougier/teaching/matplotlib - A good matplotlib tutorial.\n",
    "* http://scipy-lectures.github.io/matplotlib/matplotlib.html - Another good matplotlib reference.\n"
   ]
  }
 ],
 "metadata": {
  "kernelspec": {
   "display_name": "base",
   "language": "python",
   "name": "python3"
  },
  "language_info": {
   "codemirror_mode": {
    "name": "ipython",
    "version": 3
   },
   "file_extension": ".py",
   "mimetype": "text/x-python",
   "name": "python",
   "nbconvert_exporter": "python",
   "pygments_lexer": "ipython3",
   "version": "3.11.4"
  }
 },
 "nbformat": 4,
 "nbformat_minor": 1
}
