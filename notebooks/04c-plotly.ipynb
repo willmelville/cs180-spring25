{
 "cells": [
  {
   "cell_type": "code",
   "execution_count": 1,
   "metadata": {},
   "outputs": [],
   "source": [
    "# If you haven't installed Plotly yet, you can install it using pip\n",
    "# !pip install plotly"
   ]
  },
  {
   "cell_type": "code",
   "execution_count": null,
   "metadata": {},
   "outputs": [],
   "source": [
    "import plotly.express as px\n",
    "import pandas as pd"
   ]
  },
  {
   "cell_type": "code",
   "execution_count": null,
   "metadata": {},
   "outputs": [],
   "source": [
    "# Sample datasets: gapminder\n",
    "df = px.data.gapminder()\n",
    "df.head()"
   ]
  },
  {
   "cell_type": "code",
   "execution_count": null,
   "metadata": {},
   "outputs": [],
   "source": [
    "# Creating a scatter plot of GDP per Capita vs Life Expectancy\n",
    "fig = px.scatter(df[df['year'] == 2007], x='gdpPercap', y='lifeExp', \n",
    "                 color='continent', size='pop', \n",
    "                 hover_name='country', \n",
    "                 log_x=True, size_max=60, \n",
    "                 title='GDP per Capita vs Life Expectancy',\n",
    "                 height = 1000)\n",
    "\n",
    "\n",
    "fig.show()"
   ]
  },
  {
   "cell_type": "code",
   "execution_count": null,
   "metadata": {},
   "outputs": [],
   "source": [
    "# Creating a line plot of Life Expectancy over the years for each continent\n",
    "fig = px.line(df[df['continent'] == 'Europe'], x='year', y='lifeExp', \n",
    "              color='country', \n",
    "              line_group='country', \n",
    "              hover_name='country', \n",
    "              title='Life Expectancy over Years',\n",
    "              height = 800, width = 1000)\n",
    "\n",
    "\n",
    "fig.show()"
   ]
  },
  {
   "cell_type": "code",
   "execution_count": null,
   "metadata": {},
   "outputs": [],
   "source": [
    "# Creating a box plot of life expectancy per continent\n",
    "fig = px.box(df, x='continent', y='lifeExp', \n",
    "             title='Life Expectancy per Continent',\n",
    "             height = 600, width = 1000)\n",
    "fig.show()"
   ]
  },
  {
   "cell_type": "code",
   "execution_count": null,
   "metadata": {},
   "outputs": [],
   "source": [
    "# Creating a scatter matrix plot for a few selected columns\n",
    "fig = px.scatter_matrix(df, dimensions=['gdpPercap', 'lifeExp', 'pop'], \n",
    "                        color='continent', \n",
    "                        title='Scatter Matrix of GDP, Life Expectancy, and Population',\n",
    "                        height = 600,\n",
    "                        width = 800)\n",
    "fig.show()"
   ]
  },
  {
   "cell_type": "code",
   "execution_count": null,
   "metadata": {},
   "outputs": [],
   "source": [
    "# Creating a density heatmap of life expectancy and GDP per capita\n",
    "fig = px.density_heatmap(df, x='gdpPercap', y='lifeExp', \n",
    "                         marginal_x='histogram', marginal_y='histogram', \n",
    "                         title='Density Heatmap of GDP per Capita and Life Expectancy',\n",
    "                         height = 800, width = 800)\n",
    "fig.show()"
   ]
  },
  {
   "cell_type": "code",
   "execution_count": null,
   "metadata": {},
   "outputs": [],
   "source": [
    "# Creating a 3D scatter plot of life expectancy, GDP per capita, and population\n",
    "fig = px.scatter_3d(df, x='gdpPercap', y='lifeExp', z='pop', \n",
    "                    color='continent', size='pop', \n",
    "                    hover_name='country', log_x=True, \n",
    "                    title='3D Scatter Plot of GDP per Capita, Life Expectancy, and Population',\n",
    "                    height = 800,\n",
    "                    width  = 800)\n",
    "fig.show()\n"
   ]
  },
  {
   "cell_type": "code",
   "execution_count": null,
   "metadata": {},
   "outputs": [],
   "source": [
    "df_2007 = df[df['year'] == 2007]    \n",
    "\n",
    "# Creating a choropleth map showing life expectancy in 2007\n",
    "fig = px.choropleth(df_2007, locations='iso_alpha', color='lifeExp', \n",
    "                    hover_name='country', \n",
    "                    color_continuous_scale=px.colors.sequential.Plasma, \n",
    "                    title='Choropleth Map of Life Expectancy in 2007',\n",
    "                    height = 600,\n",
    "                    width = 1000)\n",
    "\n",
    "fig.show()"
   ]
  },
  {
   "cell_type": "code",
   "execution_count": null,
   "metadata": {},
   "outputs": [],
   "source": [
    "# Creating a scatter geo plot showing life expectancy in 2007\n",
    "fig = px.scatter_geo(df_2007, locations='iso_alpha', color='continent', \n",
    "                     hover_name='country', size='pop', \n",
    "                     projection='natural earth', \n",
    "                     title='Scatter Geo Plot of Life Expectancy in 2007',\n",
    "                     height = 600,\n",
    "                     width = 1000)\n",
    "\n",
    "fig.show()"
   ]
  },
  {
   "cell_type": "code",
   "execution_count": null,
   "metadata": {},
   "outputs": [],
   "source": [
    "# Creating an animated scatter plot showing life expectancy over the years\n",
    "fig = px.scatter(df, x='gdpPercap', y='lifeExp', \n",
    "                 color='continent', size='pop', \n",
    "                 hover_name='country', \n",
    "                 log_x=True, size_max=60, \n",
    "                 animation_frame='year', animation_group='country', \n",
    "                 title='Animated GDP per Capita vs Life Expectancy over Years',\n",
    "                 height = 800,\n",
    "                 width = 800)\n",
    "fig.show()\n"
   ]
  }
 ],
 "metadata": {
  "kernelspec": {
   "display_name": "base",
   "language": "python",
   "name": "python3"
  },
  "language_info": {
   "codemirror_mode": {
    "name": "ipython",
    "version": 3
   },
   "file_extension": ".py",
   "mimetype": "text/x-python",
   "name": "python",
   "nbconvert_exporter": "python",
   "pygments_lexer": "ipython3",
   "version": "3.11.4"
  }
 },
 "nbformat": 4,
 "nbformat_minor": 2
}
