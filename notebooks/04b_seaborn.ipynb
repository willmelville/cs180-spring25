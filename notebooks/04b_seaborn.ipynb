{
  "cells": [
    {
      "cell_type": "markdown",
      "metadata": {
        "id": "I6c_A_8i_B0-"
      },
      "source": [
        "# Seaborn\n",
        "\n",
        "Seaborn is a nice library for make easy statistical plots  \n",
        "Seaborn works great with Pandas Dataframes\n",
        "\n",
        "**Note** you still want/need to do plt.show() if you don't want the weird bracket stuff showing up"
      ]
    },
    {
      "cell_type": "code",
      "execution_count": null,
      "metadata": {
        "id": "ZG1sxzO3_B1A"
      },
      "outputs": [],
      "source": [
        "import seaborn as sns\n",
        "import matplotlib.pyplot as plt"
      ]
    },
    {
      "cell_type": "markdown",
      "metadata": {
        "id": "AeJ0LbbV_B1B"
      },
      "source": [
        "#### Seaborn Data\n",
        "\n",
        "Seaborn can easily load some classic/toy datasets to illustrate plotting features.  An internet connection is required to load the data.  "
      ]
    },
    {
      "cell_type": "code",
      "execution_count": null,
      "metadata": {
        "id": "xgYCTR8b_B1B"
      },
      "outputs": [],
      "source": [
        "iris = sns.load_dataset('iris')\n",
        "tips = sns.load_dataset('tips')\n",
        "flights = sns.load_dataset('flights')"
      ]
    },
    {
      "cell_type": "code",
      "execution_count": null,
      "metadata": {
        "id": "I93hgkP5_B1B"
      },
      "outputs": [],
      "source": [
        "iris.head()"
      ]
    },
    {
      "cell_type": "code",
      "execution_count": null,
      "metadata": {
        "id": "78upmpt9_B1B"
      },
      "outputs": [],
      "source": [
        "tips.head()"
      ]
    },
    {
      "cell_type": "code",
      "execution_count": null,
      "metadata": {
        "id": "HMx5A_dz_B1C"
      },
      "outputs": [],
      "source": [
        "flights.head()"
      ]
    },
    {
      "cell_type": "markdown",
      "metadata": {
        "id": "gCnHtCf-7oIo"
      },
      "source": [
        "## Line Plot"
      ]
    },
    {
      "cell_type": "markdown",
      "source": [
        "lineplot will plot a line with a 95% confidence interval."
      ],
      "metadata": {
        "id": "K9Nd-DbcoJkt"
      }
    },
    {
      "cell_type": "code",
      "execution_count": null,
      "metadata": {
        "id": "YJHiGX6i7oIo"
      },
      "outputs": [],
      "source": [
        "sns.lineplot(data = flights, x = 'year', y = 'passengers')\n",
        "plt.show()"
      ]
    },
    {
      "cell_type": "code",
      "source": [
        "#you can also do bars instead of bands\n",
        "sns.lineplot(data = flights, x = 'year', y = 'passengers', err_style = 'bars')\n",
        "plt.show()"
      ],
      "metadata": {
        "id": "BKWdYAGcoR8s"
      },
      "execution_count": null,
      "outputs": []
    },
    {
      "cell_type": "code",
      "source": [
        "#you can plot standard dev or other 'error' metrics rather than the default confidence interval. Other error metrics you can use:\n",
        "#prediction interval, standard deviation, and standard error\n",
        "sns.lineplot(data = flights, x = 'year', y = 'passengers', errorbar = 'sd')\n",
        "plt.show()\n",
        "\n",
        "#you can change the width of the error bars using a tuple. For example, I can remove them all together by setting the width to 0\n",
        "sns.lineplot(data = flights, x = 'year', y = 'passengers', errorbar = ('ci', 0))\n",
        "plt.show()\n"
      ],
      "metadata": {
        "id": "LR80vqZYolu2"
      },
      "execution_count": null,
      "outputs": []
    },
    {
      "cell_type": "markdown",
      "metadata": {
        "id": "CxTgwyB4_B1C"
      },
      "source": [
        "# Distribution Plots\n",
        "\n",
        "Let's discuss some plots that allow us to visualize the distribution of a data set. These plots are:\n",
        "\n",
        "* histplot\n",
        "* displot\n",
        "* jointplot\n",
        "* pairplot\n",
        "* rugplot"
      ]
    },
    {
      "cell_type": "markdown",
      "metadata": {
        "id": "wjfmF23c_B1C"
      },
      "source": [
        "You can use the dataset and call variables by name, or specifically designate a series as input."
      ]
    },
    {
      "cell_type": "code",
      "execution_count": null,
      "metadata": {
        "id": "tfjo4xKa_B1C"
      },
      "outputs": [],
      "source": [
        "# Pass in full dataset\n",
        "sns.histplot(data = iris, x = 'sepal_length', bins = 30)\n",
        "plt.show()"
      ]
    },
    {
      "cell_type": "code",
      "execution_count": null,
      "metadata": {
        "id": "tsPRtUpU_B1C"
      },
      "outputs": [],
      "source": [
        "# Pass in a series\n",
        "sns.histplot(x = iris['sepal_length'])\n",
        "plt.show()"
      ]
    },
    {
      "cell_type": "markdown",
      "source": [
        "Although the seaborn histogram may look prettier than matplotlib's, I always do it in matplotlib. One advantage of matplotlib is you can set density = True, which is nice if you want to compare the histogram to an actual probability density function. Although there may be some way to do something similar in seaborn, it wasn't immediately obvious to me how just looking at the documentation."
      ],
      "metadata": {
        "id": "cf7ZU1k8qH8y"
      }
    },
    {
      "cell_type": "code",
      "source": [
        "plt.hist(iris.sepal_length.values, density = True)\n",
        "plt.show()"
      ],
      "metadata": {
        "id": "udpSoSNtqI3N"
      },
      "execution_count": null,
      "outputs": []
    },
    {
      "cell_type": "markdown",
      "source": [
        "displot sorta combines histograms and kde's into one function. You can change the kind using the kind argument. By default, displot will plot a histogram, but with kind = 'kde' it plots a kde. But overall it's displot is kind of silly becaues you can also just do sns.kdeplot or sns.histplot. I guess the advantage is you only have to remember one function."
      ],
      "metadata": {
        "id": "c6ip5cQRqy4t"
      }
    },
    {
      "cell_type": "code",
      "execution_count": null,
      "metadata": {
        "id": "E64N2yzt_B1C"
      },
      "outputs": [],
      "source": [
        "sns.displot(data=iris, x='petal_length')\n",
        "plt.title('Hist with distplot')\n",
        "plt.show()\n",
        "\n",
        "sns.displot(data=iris, x='petal_length', kind = 'kde')\n",
        "plt.title('KDE with distplot')\n",
        "plt.show()\n",
        "\n",
        "sns.kdeplot(data=iris, x='petal_length')\n",
        "plt.title('KDE with kdeplot')\n",
        "plt.show()"
      ]
    },
    {
      "cell_type": "code",
      "execution_count": null,
      "metadata": {
        "id": "4r63z9CT_B1C"
      },
      "outputs": [],
      "source": [
        "#displot also let's you plot the \"rug\", which kdeplot doesn't allow\n",
        "sns.displot(data = iris, x = 'petal_length', kind = 'kde', rug = True)\n",
        "plt.show()"
      ]
    },
    {
      "cell_type": "code",
      "execution_count": null,
      "metadata": {
        "id": "0g8Uwcai_B1D"
      },
      "outputs": [],
      "source": [
        "#you can also combine a histogram, kde, and rug plot by setting kind = 'hist' and then kde=True and rug = True\n",
        "sns.displot(data = iris, x = 'petal_length', kind = 'hist', rug = True, kde = True)\n",
        "plt.show()"
      ]
    },
    {
      "cell_type": "markdown",
      "metadata": {
        "id": "ARlpg9jM_B1D"
      },
      "source": [
        "More on displot can be found here: [Displot](https://seaborn.pydata.org/generated/seaborn.displot.html)"
      ]
    },
    {
      "cell_type": "markdown",
      "metadata": {
        "id": "XHLAJljZ_B1D"
      },
      "source": [
        "## jointplot\n",
        "\n",
        "jointplot() allows you to basically match up two distplots for **bivariate** data (two variables). With your choice of what **kind** parameter to compare with:\n",
        "* “scatter”\n",
        "* “reg”\n",
        "* “resid”\n",
        "* “kde”\n",
        "* “hex”"
      ]
    },
    {
      "cell_type": "markdown",
      "metadata": {
        "id": "Z-0Uf3Ly_B1D"
      },
      "source": [
        "`sns.jointplot(x='',y='',data=,kind='')`"
      ]
    },
    {
      "cell_type": "code",
      "execution_count": null,
      "metadata": {
        "id": "6e4e8l7H_B1D"
      },
      "outputs": [],
      "source": [
        "sns.jointplot(data = iris, x = 'petal_length', y = 'petal_width', hue = 'species')\n",
        "plt.show()"
      ]
    },
    {
      "cell_type": "code",
      "execution_count": null,
      "metadata": {
        "id": "118kuolm_B1D"
      },
      "outputs": [],
      "source": [
        "sns.jointplot(data = iris, x = 'petal_length', y = 'petal_width', hue = 'species', kind = 'kde')\n",
        "plt.show()"
      ]
    },
    {
      "cell_type": "code",
      "execution_count": null,
      "metadata": {
        "id": "TFNY7CoG_B1D"
      },
      "outputs": [],
      "source": [
        "#kind = 'reg' fits a linear regression line between the two variables\n",
        "sns.jointplot(data = tips, x = 'total_bill', y = 'tip', kind = 'reg')\n",
        "plt.show()"
      ]
    },
    {
      "cell_type": "code",
      "execution_count": null,
      "metadata": {
        "id": "ZCx-oEf__B1D"
      },
      "outputs": [],
      "source": [
        "sns.jointplot(data = tips, x = 'total_bill', y = 'tip', kind = 'hex')\n",
        "plt.show()"
      ]
    },
    {
      "cell_type": "code",
      "source": [
        "#when you plot resid, you do the linear regression model using x to predict y, then you plot the residuals.\n",
        "#so this is useful for checking the constant variance assumption of linear regression.\n",
        "sns.jointplot(data = tips, x = 'total_bill', y = 'tip', kind = 'resid')\n",
        "plt.show()"
      ],
      "metadata": {
        "id": "a_FQYZMEsjKJ"
      },
      "execution_count": null,
      "outputs": []
    },
    {
      "cell_type": "markdown",
      "metadata": {
        "id": "cIRBz6af_B1D"
      },
      "source": [
        "## Updating figure attributes\n",
        "\n",
        "seaborn is built on matplotlib, so you can define titles and axis labels using the same functions as in matplotlib."
      ]
    },
    {
      "cell_type": "code",
      "execution_count": null,
      "metadata": {
        "id": "KvlHjg23_B1D"
      },
      "outputs": [],
      "source": [
        "g = sns.jointplot(data=iris, x='petal_length', y='petal_width', hue='species')\n",
        "plt.xlabel('Petal Length (cm)')\n",
        "plt.ylabel('Petal Width (cm)')\n",
        "plt.suptitle('Scatterplot of Petal Length and Petal Width', y = 1) #y = 1 I believe raises the height of the table. If you don't do that it'll intersect with the blue kde.\n",
        "plt.show()"
      ]
    },
    {
      "cell_type": "markdown",
      "metadata": {
        "id": "ZUGk_mA9_B1D"
      },
      "source": [
        "## pairplot\n",
        "\n",
        "pairplot will plot pairwise relationships across an entire dataframe (for the numerical columns) and supports a color hue argument (for categorical columns).\n",
        "\n",
        "``sns.pairplot(data)``  \n",
        "``sns.pairplot(data, hue= , palette=\"\")``\n",
        "\n",
        "useful if you want to check for linear relationships between variables or multicollinearity before performing linear regression."
      ]
    },
    {
      "cell_type": "code",
      "execution_count": null,
      "metadata": {
        "id": "d96VlmxT_B1D"
      },
      "outputs": [],
      "source": [
        "sns.pairplot(data = iris, hue = 'species')\n",
        "plt.show()"
      ]
    },
    {
      "cell_type": "markdown",
      "source": [
        "Note that the default option gives a symmetrical matrix of plots. I can customize things to be more efficient with how I use the plots"
      ],
      "metadata": {
        "id": "QDIZ_0MQubj-"
      }
    },
    {
      "cell_type": "code",
      "execution_count": null,
      "metadata": {
        "id": "osxJth2u_B1D"
      },
      "outputs": [],
      "source": [
        "# Customize the variables and mapped functions:\n",
        "g = sns.PairGrid(data = iris, hue = 'species', vars = ['petal_length', 'sepal_length', 'petal_width'])\n",
        "g.map_diag(sns.histplot)\n",
        "g.map_upper(sns.scatterplot)\n",
        "g.map_lower(sns.kdeplot)\n",
        "plt.show()"
      ]
    },
    {
      "cell_type": "markdown",
      "metadata": {
        "id": "dHN27MBb_B1E"
      },
      "source": [
        "## boxplot and violinplot\n",
        "\n",
        "#### boxplot\n",
        "A box plot (or box-and-whisker plot) shows the distribution of quantitative data in a way that facilitates comparisons between variables or across levels of a categorical variable. The box shows the quartiles of the dataset while the whiskers extend to show the rest of the distribution, except for points that are determined to be “outliers” using a method that is a function of the inter-quartile range."
      ]
    },
    {
      "cell_type": "markdown",
      "metadata": {
        "id": "E-GN60uV_B1E"
      },
      "source": [
        "``sns.boxplot(x=\"\", y=\"\", data= ,palette=\"\")``\n",
        "\n",
        "``sns.boxplot(data= ,palette=' ',orient=' ')``\n",
        "\n",
        "``sns.boxplot(x=\" \", y=\" \", hue=\" \", data= , palette=\" \")``"
      ]
    },
    {
      "cell_type": "markdown",
      "metadata": {
        "id": "FbAWUU9w_B1E"
      },
      "source": [
        "#### violinplot\n",
        "A violin plot plays a similar role as a box and whisker plot. It shows the distribution of quantitative data across several levels of one (or more) categorical variables such that those distributions can be compared. Unlike a box plot, in which all of the plot components correspond to actual datapoints, the violin plot features a kernel density estimation of the underlying distribution."
      ]
    },
    {
      "cell_type": "markdown",
      "metadata": {
        "id": "sfvPV4oX_B1E"
      },
      "source": [
        "`sns.violinplot(x=\"<cat>\", y=\"<num>\", data= , palette=' ')`\n",
        "\n",
        "`sns.violinplot(x=\"<cat>\", y=\"<num>\", data= , hue=' ', palette=' ')`\n",
        "\n",
        "`sns.violinplot(x=\"<cat>\", y=\"<num>\", data= , hue=' ', split=(boolean), palette=' ')`"
      ]
    },
    {
      "cell_type": "markdown",
      "source": [
        "**Aren't violinplots way cooler than boxplots??**\n",
        "\n",
        "One advantage of a boxplot is very clearly seeing where the median and interquartile range is as well as where the outliers begin. So they do server their purpose."
      ],
      "metadata": {
        "id": "XcAObDfAuvaU"
      }
    },
    {
      "cell_type": "code",
      "execution_count": null,
      "metadata": {
        "id": "wcMRqv-t_B1E"
      },
      "outputs": [],
      "source": [
        "sns.boxplot(data = tips, y = 'sex', x = 'tip', orient = 'horizontal')\n",
        "plt.show()"
      ]
    },
    {
      "cell_type": "code",
      "execution_count": null,
      "metadata": {
        "id": "C_S3vmyI_B1E"
      },
      "outputs": [],
      "source": [
        "tips['tip_pct'] = tips['tip'] / tips['total_bill']"
      ]
    },
    {
      "cell_type": "code",
      "execution_count": null,
      "metadata": {
        "id": "_ZqCOMXm_B1E"
      },
      "outputs": [],
      "source": [
        "sns.boxplot(data = tips, x = 'sex', y = 'tip_pct')\n",
        "plt.show()"
      ]
    },
    {
      "cell_type": "code",
      "execution_count": null,
      "metadata": {
        "id": "tAeMhxA0_B1E"
      },
      "outputs": [],
      "source": [
        "sns.violinplot(data = tips, x = 'sex', y = 'tip_pct',  hue = 'sex', palette = 'Dark2')\n",
        "plt.show()"
      ]
    },
    {
      "cell_type": "markdown",
      "metadata": {
        "id": "rqGKb-rv_B1E"
      },
      "source": [
        "## stripplot\n",
        "The stripplot will draw a scatterplot where one variable is categorical. A strip plot can be drawn on its own, but it is also a good complement to a box or violin plot in cases where you want to show all observations along with some representation of the underlying distribution.\n"
      ]
    },
    {
      "cell_type": "markdown",
      "metadata": {
        "id": "YTiX5GPX_B1E"
      },
      "source": [
        "``sns.stripplot(x=\"<cat>\", y=\"<num>\", data= , jitter=<bool>)``\n",
        "\n",
        "``sns.stripplot(x=\"<cat>\", y=\"<num>\", data= ,jitter=<bool>,hue='<cat>',palette=' ',split=<bool>)``"
      ]
    },
    {
      "cell_type": "code",
      "execution_count": null,
      "metadata": {
        "id": "0McYmpag_B1E"
      },
      "outputs": [],
      "source": [
        "sns.stripplot(data = tips, x = 'day', y = 'total_bill', hue = 'tip_pct')\n",
        "plt.show()"
      ]
    },
    {
      "cell_type": "code",
      "execution_count": null,
      "metadata": {
        "id": "uTmWt0Cm_B1H"
      },
      "outputs": [],
      "source": [
        "sns.stripplot(data = tips, x = 'day', y = 'total_bill', jitter = False)\n",
        "plt.show()"
      ]
    },
    {
      "cell_type": "markdown",
      "source": [
        "**Note from Will Melville**: stripplot's seem dumb to me. There's nothing that they do that histograms or kde plots don't do better."
      ],
      "metadata": {
        "id": "lnFvvEy8vWLx"
      }
    },
    {
      "cell_type": "markdown",
      "metadata": {
        "id": "TVbKTPnP_B1I"
      },
      "source": [
        "# Categorical Data Plots\n",
        "\n",
        "Now let's discuss using seaborn to plot categorical data!\n",
        "\n",
        "* barplot\n",
        "* countplot"
      ]
    },
    {
      "cell_type": "markdown",
      "metadata": {
        "id": "IVFFNGza_B1I"
      },
      "source": [
        "``sns.barplot(x='<cat>',y='<num>',data= , estimator= <default is mean>)``\n",
        "\n",
        "``sns.countplot(x='<cat>',data=tips)``"
      ]
    },
    {
      "cell_type": "code",
      "execution_count": null,
      "metadata": {
        "id": "-01_wZhx_B1I"
      },
      "outputs": [],
      "source": [
        "sns.barplot(data = tips, x = 'sex', y = 'tip')\n",
        "plt.show()"
      ]
    },
    {
      "cell_type": "code",
      "execution_count": null,
      "metadata": {
        "id": "dwQm1RDd_B1I"
      },
      "outputs": [],
      "source": [
        "sns.countplot(data = tips, x = 'sex', hue = 'sex')\n",
        "plt.show()"
      ]
    },
    {
      "cell_type": "markdown",
      "metadata": {
        "id": "yt1NijqK_B1I"
      },
      "source": [
        "# 2-D Plots: Heatmaps/clustermaps\n",
        "\n",
        "Heatmaps allow you to plot 2-d data as color-encoded matrices."
      ]
    },
    {
      "cell_type": "markdown",
      "metadata": {
        "id": "svfe3byq_B1I"
      },
      "source": [
        "`sns.heatmap(matrix)`\n",
        "\n",
        "`sns.heatmap(matrix, cmap=' ', annot=<bool>)`"
      ]
    },
    {
      "cell_type": "code",
      "execution_count": null,
      "metadata": {
        "id": "rjrYvW3q_B1I"
      },
      "outputs": [],
      "source": [
        "from scipy.spatial.distance import pdist, squareform"
      ]
    },
    {
      "cell_type": "code",
      "execution_count": null,
      "metadata": {
        "id": "TdSG8092_B1I"
      },
      "outputs": [],
      "source": [
        "iris_dists = squareform(pdist(iris.loc[:, iris.columns != 'species']))"
      ]
    },
    {
      "cell_type": "code",
      "execution_count": null,
      "metadata": {
        "id": "L1_NxPfY_B1I"
      },
      "outputs": [],
      "source": [
        "sns.heatmap(iris_dists, cmap = 'cubehelix')\n",
        "plt.show()"
      ]
    },
    {
      "cell_type": "code",
      "source": [
        "sns.heatmap(iris_dists, cmap = 'coolwarm')\n",
        "plt.show()"
      ],
      "metadata": {
        "id": "x-_IoF30wN5i"
      },
      "execution_count": null,
      "outputs": []
    },
    {
      "cell_type": "markdown",
      "source": [
        "**Note to Will Melville** Show them the wOBA Cube!!"
      ],
      "metadata": {
        "id": "Q1DhgKrrw0DH"
      }
    },
    {
      "cell_type": "markdown",
      "metadata": {
        "id": "Ccka5Izk_B1I"
      },
      "source": [
        "Seaborn colormaps: [colormaps](https://seaborn.pydata.org/tutorial/color_palettes.html)"
      ]
    },
    {
      "cell_type": "code",
      "source": [
        "#matplotlib can also do heatmaps using imshow\n",
        "plt.imshow(iris_dists, cmap = 'coolwarm')\n",
        "plt.show()"
      ],
      "metadata": {
        "id": "cUnMuRjnw_fz"
      },
      "execution_count": null,
      "outputs": []
    },
    {
      "cell_type": "markdown",
      "metadata": {
        "id": "HsZ10yWO_B1I"
      },
      "source": [
        "## Facet Grid\n",
        "\n",
        "FacetGrid is the general way to create grids of plots based off of a feature, so it's the general version of pair plot"
      ]
    },
    {
      "cell_type": "code",
      "execution_count": null,
      "metadata": {
        "id": "cbiRifQm_B1I"
      },
      "outputs": [],
      "source": [
        "g = sns.FacetGrid(tips, col = \"time\",  row = \"smoker\")\n",
        "g = g.map(sns.histplot, \"total_bill\")\n",
        "plt.show()"
      ]
    },
    {
      "cell_type": "code",
      "execution_count": null,
      "metadata": {
        "id": "YAuTcXiN_B1I"
      },
      "outputs": [],
      "source": [
        "# Can also use matplotlib plots!\n",
        "g = sns.FacetGrid(tips, col = \"time\",  row = \"smoker\")\n",
        "g = g.map(plt.hist, \"total_bill\")\n",
        "plt.show()"
      ]
    },
    {
      "cell_type": "code",
      "execution_count": null,
      "metadata": {
        "id": "5H2Z70HX_B1I"
      },
      "outputs": [],
      "source": [
        "g = sns.FacetGrid(tips, col = \"time\",  row = \"smoker\", hue = 'sex')\n",
        "# Notice how the arguments come after plt.scatter call: x, y\n",
        "g = g.map(plt.scatter, \"total_bill\", \"tip\").add_legend()\n",
        "plt.show()"
      ]
    },
    {
      "cell_type": "code",
      "execution_count": null,
      "metadata": {
        "id": "ZHSbPsGx_B1I"
      },
      "outputs": [],
      "source": []
    },
    {
      "cell_type": "markdown",
      "metadata": {
        "id": "rTvSj9ZU_B1I"
      },
      "source": [
        "# Regression Plots\n",
        "\n",
        "Seaborn has many built-in capabilities for regression plots.\n",
        "\n",
        "**lmplot** allows you to display linear models, but it also conveniently allows you to split up those plots based off of features, as well as coloring the hue based off of features.\n",
        "\n",
        "Let's explore how this works:"
      ]
    },
    {
      "cell_type": "markdown",
      "metadata": {
        "id": "9At8g_Dj_B1J"
      },
      "source": [
        "`sns.lmplot(x='<num>',y='<num>', data= )`\n",
        "\n",
        "`sns.lmplot(x='<num>',y='<nujm>',data= , hue='<cat>', palette=\" \")`\n",
        "\n"
      ]
    },
    {
      "cell_type": "code",
      "execution_count": null,
      "metadata": {
        "id": "baX8VKIb_B1J"
      },
      "outputs": [],
      "source": [
        "sns.lmplot(data = tips, x = 'total_bill', y = 'tip')\n",
        "plt.show()"
      ]
    },
    {
      "cell_type": "code",
      "execution_count": null,
      "metadata": {
        "id": "Nvgmt6GW_B1J"
      },
      "outputs": [],
      "source": [
        "sns.lmplot(data = iris, x = 'petal_width', y = 'petal_length', hue = 'species')\n",
        "plt.show()"
      ]
    },
    {
      "cell_type": "code",
      "source": [
        "sns.lmplot(data = iris, x = 'petal_width', y = 'petal_length', hue = 'species', palette = 'coolwarm')\n",
        "plt.show()"
      ],
      "metadata": {
        "id": "VvqRo14gzwT-"
      },
      "execution_count": null,
      "outputs": []
    },
    {
      "cell_type": "markdown",
      "metadata": {
        "id": "pt7ZjI17_B1J"
      },
      "source": [
        "## Using a Grid\n",
        "\n",
        "`lmplot` can easily create facets. Just indicate this with the col or row arguments. **Note from Will Melville**: I kind of prefer the idea of using colors though in one plot"
      ]
    },
    {
      "cell_type": "code",
      "execution_count": null,
      "metadata": {
        "id": "Tx8eiCEF_B1J"
      },
      "outputs": [],
      "source": [
        "sns.lmplot(x = \"total_bill\", y = \"tip\", row = \"sex\", col = \"time\", data = tips)\n",
        "plt.show()"
      ]
    },
    {
      "cell_type": "code",
      "execution_count": null,
      "metadata": {
        "id": "S22olHKK_B1J"
      },
      "outputs": [],
      "source": [
        "sns.lmplot(x = \"total_bill\", y = \"tip\", hue = 'sex', row = 'time', data = tips)\n",
        "plt.show()"
      ]
    },
    {
      "cell_type": "markdown",
      "metadata": {
        "id": "iRTgD8Vp_B1J"
      },
      "source": [
        "## Selecting a palette (color scheme)\n",
        "We can review the available palettes by calling sns.color_palette().\n",
        "\n",
        "Seaborn color palettes [here.](https://seaborn.pydata.org/tutorial/color_palettes.html)\n",
        "\n",
        "Color advice can be found here: [ColorBrewer2](https://colorbrewer2.org/)"
      ]
    },
    {
      "cell_type": "code",
      "execution_count": null,
      "metadata": {
        "id": "pPeF0xHp_B1J"
      },
      "outputs": [],
      "source": [
        "# Example of using hue\n",
        "sns.scatterplot(data=iris, x='petal_length', y='petal_width', hue='species', palette='Dark2')\n",
        "plt.show()"
      ]
    },
    {
      "cell_type": "markdown",
      "metadata": {
        "id": "6V7cTmdG_B1J"
      },
      "source": [
        "You can also generate your own color palette using hex codes:"
      ]
    },
    {
      "cell_type": "code",
      "execution_count": null,
      "metadata": {
        "id": "20srEMDv_B1J"
      },
      "outputs": [],
      "source": [
        "custom_palette = sns.color_palette([\"#A39382\", \"#002E5D\", \"#0047BA\"]) # Go BYU!\n",
        "# sns.set_palette(custom_palette) # Set globally\n",
        "\n",
        "# Example usage with a scatter plot\n",
        "sns.scatterplot(data=iris, x='petal_length', y='petal_width', hue='species', palette = custom_palette)\n",
        "plt.show()"
      ]
    },
    {
      "cell_type": "markdown",
      "metadata": {
        "id": "YAOlvAhN_B1J"
      },
      "source": [
        "Colormaps (cmap) can be set for continuous variables."
      ]
    },
    {
      "cell_type": "code",
      "execution_count": null,
      "metadata": {
        "id": "6XjUoGqS_B1J"
      },
      "outputs": [],
      "source": [
        "# Example using colormaps for continuous variables\n",
        "sns.scatterplot(data=iris, x='petal_length', y='petal_width', hue='sepal_length', palette='viridis')\n",
        "plt.show()"
      ]
    },
    {
      "cell_type": "markdown",
      "metadata": {
        "id": "NxM9PYgL_B1J"
      },
      "source": [
        "# Style and Context\n",
        "\n",
        "`sns.set_style('whitegride')` can take the following styles:  darkgrid, whitegrid, dark, white, or ticks.  Advanced users can customize further.\n",
        "\n",
        "`sns.set_context('notebook', font_scale = 1)` can take take the following contexts: notebook (default), paper, talk, poster.  The font can also be adjusted.  Advanced users can customize further."
      ]
    },
    {
      "cell_type": "code",
      "execution_count": null,
      "metadata": {
        "id": "S3Yfgg-o_B1J"
      },
      "outputs": [],
      "source": [
        "sns.set_style('whitegrid')\n",
        "#sns.set_style('darkgrid')"
      ]
    },
    {
      "cell_type": "code",
      "execution_count": null,
      "metadata": {
        "id": "KchKsVYI_B1J"
      },
      "outputs": [],
      "source": [
        "fig, axes = plt.subplots(1, 2, figsize = (12, 6))\n",
        "\n",
        "sns.scatterplot(iris, x = 'petal_length', y = 'petal_width', hue = 'species', ax = axes[0])\n",
        "sns.scatterplot(iris, x = 'petal_length', y = 'petal_width', hue = 'sepal_length', ax = axes[1])\n",
        "plt.show()"
      ]
    },
    {
      "cell_type": "code",
      "execution_count": null,
      "metadata": {
        "id": "0VSHwFKx_B1J"
      },
      "outputs": [],
      "source": [
        "sns.histplot(iris, x = 'petal_length', hue = 'species')\n",
        "plt.show()"
      ]
    },
    {
      "cell_type": "markdown",
      "metadata": {
        "id": "XZkZfEZg_B1J",
        "vscode": {
          "languageId": "markdown"
        }
      },
      "source": [
        "`# Your turn!\n",
        "\n",
        "In this exercise, you will work with the `tips` dataset to explore various aspects of the data using Seaborn.\n",
        "\n",
        "## Questions:\n",
        "\n",
        "1. **Distribution of Total Bill:**\n",
        "    - Plot the distribution of the `total_bill` column using a histogram. Include a rug plot.\n",
        "    - What is the most common range of total bills?\n",
        "\n",
        "2. **Tip Percentage by Day:**\n",
        "    - Create a boxplot (or violinplot) to visualize the distribution of `tip_pct` for each day of the week.\n",
        "    - Which day has the highest median tip percentage?\n",
        "\n",
        "3. **Total Bill vs Tip:**\n",
        "    - Create a scatter plot to visualize the relationship between `total_bill` and `tip`.\n",
        "    - Add a regression line to the scatter plot.\n",
        "    - Is there a correlation between total bill and tip?\n",
        "\n",
        "4. **Tip Percentage by Gender and Smoker Status:**\n",
        "    - Create a violin plot to visualize the distribution of `tip_pct` smoker status.\n",
        "    - Are there any noticeable differences in tip percentages between smokers and non-smokers?\n",
        "\n",
        "5. **Facet Grid of Total Bill by Time and Day:**\n",
        "    - Create a FacetGrid to plot the distribution of `total_bill` for each combination of `time` (Lunch/Dinner) and `day`.\n",
        "    - Which combination of time and day has the highest total bills?\n"
      ]
    },
    {
      "cell_type": "markdown",
      "metadata": {
        "vscode": {
          "languageId": "markdown"
        },
        "id": "ohv-d4rB7oJM"
      },
      "source": [
        "# Your turn!\n",
        "## Practice Questions for the Flights Dataset:\n",
        "\n",
        "Start by getting familiar with the data. Then answer the below questions.\n",
        "\n",
        "1. **Monthly Passengers Over Time:**\n",
        "    - Plot the number of passengers for each month over the years.\n",
        "    - Which month has the highest number of passengers on average?\n",
        "\n",
        "2. **Yearly Trend:**\n",
        "    - Create a line plot to show the trend of passengers over the years.\n",
        "    - Is there a noticeable trend in the number of passengers over the years?\n",
        "\n",
        "3. **Heatmap of Passengers:**\n",
        "    - Create a heatmap to visualize the number of passengers for each month and year.\n",
        "    - Which year and month combination had the highest number of passengers?\n",
        "\n",
        "4. **Monthly Distribution:**\n",
        "    - Create a boxplot to visualize the distribution of passengers for each month.\n",
        "    - Which month shows the most variation in the number of passengers?\n",
        "\n",
        "5. **Seasonal Trend:**\n",
        "    - Create a FacetGrid to plot the distribution of passengers for each season (Winter, Spring, Summer, Fall). (Hint: You will need to create a season variable!)\n",
        "    - Which season has the highest average number of passengers?\n",
        "\n",
        "6. **Additional Question:**\n",
        "    - Come up with one additional question and a plot to answer it."
      ]
    },
    {
      "cell_type": "code",
      "execution_count": null,
      "metadata": {
        "vscode": {
          "languageId": "markdown"
        },
        "id": "6FYauIjM7oJM"
      },
      "outputs": [],
      "source": [
        "flights.head()"
      ]
    },
    {
      "cell_type": "code",
      "source": [],
      "metadata": {
        "id": "9x1iDxAn1Vvz"
      },
      "execution_count": null,
      "outputs": []
    }
  ],
  "metadata": {
    "colab": {
      "provenance": []
    },
    "kernelspec": {
      "display_name": "base",
      "language": "python",
      "name": "python3"
    },
    "language_info": {
      "codemirror_mode": {
        "name": "ipython",
        "version": 3
      },
      "file_extension": ".py",
      "mimetype": "text/x-python",
      "name": "python",
      "nbconvert_exporter": "python",
      "pygments_lexer": "ipython3",
      "version": "3.11.4"
    }
  },
  "nbformat": 4,
  "nbformat_minor": 0
}