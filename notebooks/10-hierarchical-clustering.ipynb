{
 "cells": [
  {
   "cell_type": "markdown",
   "id": "207c2657",
   "metadata": {},
   "source": [
    "<a href=\"https://colab.research.google.com/github/rhodes-byu/cs180-winter25/blob/main/notebooks/10-hierarchical-clustering.ipynb\" target=\"_parent\"><img src=\"https://colab.research.google.com/assets/colab-badge.svg\" alt=\"Open In Colab\"/></a><p><b>After clicking the \"Open in Colab\" link, copy the notebook to your own Google Drive before getting started, or it will not save your work</b></p>"
   ]
  },
  {
   "cell_type": "markdown",
   "id": "648b3460",
   "metadata": {},
   "source": [
    "# Hierarchical Clustering"
   ]
  },
  {
   "cell_type": "code",
   "execution_count": null,
   "id": "cab86dd5",
   "metadata": {},
   "outputs": [],
   "source": [
    "import numpy as np\n",
    "import pandas as pd\n",
    "import scipy.cluster.hierarchy as sch\n",
    "import matplotlib.pyplot as plt\n",
    "from sklearn.datasets import make_blobs, make_classification, make_moons\n",
    "from sklearn.cluster import AgglomerativeClustering\n",
    "import seaborn as sns\n"
   ]
  },
  {
   "cell_type": "markdown",
   "id": "63759d65",
   "metadata": {},
   "source": [
    "## Blobs Data"
   ]
  },
  {
   "cell_type": "code",
   "execution_count": null,
   "id": "28ec208c",
   "metadata": {},
   "outputs": [],
   "source": [
    "# Generate synthetic data\n",
    "X, _ = make_blobs(n_samples=100, centers=3, random_state=42, cluster_std=1.5)\n",
    "\n",
    "# Convert to DataFrame\n",
    "df = pd.DataFrame(X, columns=['X1', 'X2'])\n",
    "df.head()"
   ]
  },
  {
   "cell_type": "code",
   "execution_count": null,
   "id": "74659671",
   "metadata": {},
   "outputs": [],
   "source": [
    "plt.scatter(X[:, 0], X[:, 1], c = labels)"
   ]
  },
  {
   "cell_type": "markdown",
   "id": "2771456e",
   "metadata": {},
   "source": [
    "## Visualizing the Data\n",
    "Let's plot the generated data to see its structure."
   ]
  },
  {
   "cell_type": "code",
   "execution_count": null,
   "id": "fb2a6cc4",
   "metadata": {},
   "outputs": [],
   "source": [
    "plt.figure(figsize=(8,6))\n",
    "plt.scatter(df['X1'], df['X2'], c='blue', edgecolors='k')\n",
    "plt.xlabel('X1')\n",
    "plt.ylabel('X2')\n",
    "plt.title('Scatter Plot of Data')\n",
    "plt.show()"
   ]
  },
  {
   "cell_type": "markdown",
   "id": "6622cda1",
   "metadata": {},
   "source": [
    "## Creating a Dendrogram\n",
    "A dendrogram helps visualize the hierarchical clustering process."
   ]
  },
  {
   "cell_type": "code",
   "execution_count": null,
   "id": "de729d98",
   "metadata": {},
   "outputs": [],
   "source": [
    "# Creat Linkage:\n",
    "linkage = sch.linkage(df, method='ward')"
   ]
  },
  {
   "cell_type": "code",
   "execution_count": null,
   "id": "0e6cf90d",
   "metadata": {},
   "outputs": [],
   "source": [
    "plt.figure(figsize=(10, 6))\n",
    "dendrogram = sch.dendrogram(linkage)\n",
    "plt.title('Dendrogram for Hierarchical Clustering on Blobs')\n",
    "plt.xlabel('Data Points')\n",
    "plt.ylabel('Euclidean Distance')\n",
    "plt.show()"
   ]
  },
  {
   "cell_type": "markdown",
   "id": "9b5982d0",
   "metadata": {},
   "source": [
    "## Performing Hierarchical Clustering\n",
    "Now, we'll apply Agglomerative Clustering to form clusters."
   ]
  },
  {
   "cell_type": "code",
   "execution_count": null,
   "id": "cdbc8e57",
   "metadata": {},
   "outputs": [],
   "source": [
    "hc = AgglomerativeClustering(n_clusters = 3, metric = 'euclidean', linkage = 'ward')\n",
    "y_clusters = hc.fit_predict(X)"
   ]
  },
  {
   "cell_type": "code",
   "execution_count": null,
   "id": "f74e3087",
   "metadata": {},
   "outputs": [],
   "source": [
    "# Plot with cluster labels\n",
    "plt.figure(figsize=(8, 6))\n",
    "plt.scatter(df['X1'], df['X2'], c = y_clusters, cmap = 'Dark2', edgecolors = 'k')\n",
    "plt.xlabel('Feature 1')\n",
    "plt.ylabel('Feature 2')\n",
    "plt.title('Clusters from Hierarchical Clustering')\n",
    "plt.show()"
   ]
  },
  {
   "cell_type": "markdown",
   "id": "b13270c7",
   "metadata": {},
   "source": [
    "## Classification Data"
   ]
  },
  {
   "cell_type": "code",
   "execution_count": null,
   "id": "27e45d66",
   "metadata": {},
   "outputs": [],
   "source": [
    "# Generate synthetic classification data\n",
    "X, y = make_classification(n_samples = 500, n_features = 4,\n",
    "                           n_informative = 2, n_redundant = 0, random_state = 42)\n",
    "\n",
    "df_class = pd.DataFrame(X, columns=[f'X{i}' for i in range(1, X.shape[1] + 1)])\n",
    "df_class['Target'] = y\n",
    "df_class.head()"
   ]
  },
  {
   "cell_type": "code",
   "execution_count": null,
   "id": "788a532d",
   "metadata": {},
   "outputs": [],
   "source": [
    "sns.pairplot(df_class, hue='Target', diag_kind='kde')"
   ]
  },
  {
   "cell_type": "markdown",
   "id": "2a66563a",
   "metadata": {},
   "source": [
    "Descriptions of linkage algorithms available here: https://docs.scipy.org/doc/scipy/reference/generated/scipy.cluster.hierarchy.linkage.html"
   ]
  },
  {
   "cell_type": "code",
   "execution_count": null,
   "id": "86ac1544",
   "metadata": {},
   "outputs": [],
   "source": [
    "fig, axes = plt.subplots(1, 3, figsize=(20, 6))\n",
    "\n",
    "# Ward linkage\n",
    "axes[0].set_title('Dendrogram (Ward)')\n",
    "sch.dendrogram(sch.linkage(X, method='ward'), ax=axes[0])\n",
    "axes[0].set_xlabel('Data Points')\n",
    "axes[0].set_ylabel('Euclidean Distance')\n",
    "\n",
    "# Complete linkage\n",
    "axes[1].set_title('Dendrogram (Farthest Point)')\n",
    "sch.dendrogram(sch.linkage(X, method='complete'), ax=axes[1])\n",
    "axes[1].set_xlabel('Data Points')\n",
    "axes[1].set_ylabel('Euclidean Distance')\n",
    "\n",
    "# Single linkage\n",
    "axes[2].set_title('Dendrogram (Average)')\n",
    "sch.dendrogram(sch.linkage(X, method='average'), ax=axes[2])\n",
    "axes[2].set_xlabel('Data Points')\n",
    "axes[2].set_ylabel('Euclidean Distance')\n",
    "\n",
    "plt.tight_layout()\n",
    "plt.show()"
   ]
  },
  {
   "cell_type": "code",
   "execution_count": null,
   "id": "80f61f6d",
   "metadata": {},
   "outputs": [],
   "source": [
    "# Fit HC\n",
    "hc = AgglomerativeClustering(n_clusters = 3, metric = 'euclidean', linkage = 'ward')\n",
    "y_clusters = hc.fit_predict(X)"
   ]
  },
  {
   "cell_type": "code",
   "execution_count": null,
   "id": "b9abe0b4",
   "metadata": {},
   "outputs": [],
   "source": [
    "sns.scatterplot(x = 'X3', y = 'X4', hue = y_clusters, data = df_class, palette = 'Dark2')"
   ]
  },
  {
   "cell_type": "markdown",
   "id": "c6532d40",
   "metadata": {},
   "source": [
    "## Moons data"
   ]
  },
  {
   "cell_type": "code",
   "execution_count": null,
   "id": "416d2efe",
   "metadata": {},
   "outputs": [],
   "source": [
    "X, y = make_moons(n_samples = 500, noise=0.1, random_state=42)\n",
    "df_moons = pd.DataFrame(X, columns=['X1', 'X2'])\n",
    "df_moons['Target'] = y\n"
   ]
  },
  {
   "cell_type": "code",
   "execution_count": null,
   "id": "5b9dac7d",
   "metadata": {},
   "outputs": [],
   "source": [
    "dendrogram = sch.dendrogram(sch.linkage(X, method = 'ward'))"
   ]
  },
  {
   "cell_type": "code",
   "execution_count": null,
   "id": "32ed4ed1",
   "metadata": {},
   "outputs": [],
   "source": [
    "hc = AgglomerativeClustering(n_clusters = 2, metric = 'euclidean', linkage='ward')\n",
    "y_clusters = hc.fit_predict(X)"
   ]
  },
  {
   "cell_type": "code",
   "execution_count": null,
   "id": "66dd3799",
   "metadata": {},
   "outputs": [],
   "source": [
    "fig, ax = plt.subplots(1, 2, figsize=(20, 6))\n",
    "\n",
    "sns.scatterplot(data = df_moons, x = 'X1', y = 'X2', hue = y_clusters, palette = 'rainbow', ax = ax[0])\n",
    "sns.scatterplot(data = df_moons, x = 'X1', y = 'X2', hue = 'Target', palette = 'rainbow', ax = ax[1])"
   ]
  },
  {
   "cell_type": "code",
   "execution_count": null,
   "id": "8d1fad37",
   "metadata": {},
   "outputs": [],
   "source": []
  }
 ],
 "metadata": {
  "kernelspec": {
   "display_name": "base",
   "language": "python",
   "name": "python3"
  },
  "language_info": {
   "codemirror_mode": {
    "name": "ipython",
    "version": 3
   },
   "file_extension": ".py",
   "mimetype": "text/x-python",
   "name": "python",
   "nbconvert_exporter": "python",
   "pygments_lexer": "ipython3",
   "version": "3.11.4"
  }
 },
 "nbformat": 4,
 "nbformat_minor": 5
}
