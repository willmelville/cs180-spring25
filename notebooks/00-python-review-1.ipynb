{
  "cells": [
    {
      "cell_type": "markdown",
      "metadata": {
        "id": "fmJkVOIALbFZ"
      },
      "source": [
        "# Basic Python Review: Scalar Types & Control Flow\n",
        "\n",
        "Reading:  *Python for Data Analysis*, Section 2.3 from Chapter 2.\n",
        "\n",
        "Things to remember about Python:\n",
        "* Python uses indentation (spaces and tabs) to structure code instead of braces\n",
        "* In Python, everything is an object\n",
        "* The hash mark (#) is used to make comments\n",
        "* When assigning variables in Python, you are creating a reference to the object\n",
        "* Objects in Python typically have atrributes and methods accessed with the syntax ``obj.attribute`` or ``obj.method()``\n",
        "    * Attributes are other Python objects stored \"inside\" an object\n",
        "    * Methods are functions associated with an object\n",
        "* In Python, indexes start at 0"
      ]
    },
    {
      "cell_type": "markdown",
      "metadata": {
        "id": "utXimxEhLbFf"
      },
      "source": [
        "## Variable Assignments\n",
        "**It is considered best practice that names for variables and functions are lowercase with underscores** (see [PEP8](https://www.python.org/dev/peps/pep-0008/#function-and-variable-names)).  For example ``x = 7`` or ``this_is_a_variable = 'string'``.\n",
        "\n",
        "###  Rules for variable names\n",
        "\n",
        "* names can not start with a number\n",
        "* names can not contain spaces\n",
        "* names can not contain any of these symbols:\n",
        "\n",
        "      :'\",<>/?|\\!@#%^&*~-+\n",
        "       \n",
        "* avoid using Python built-in keywords like `list` and `str`\n",
        "* avoid using the single characters `l` (lowercase letter el), `O` (uppercase letter oh) and `I` (uppercase letter eye) as they can be confused with `1` and `0`"
      ]
    },
    {
      "cell_type": "markdown",
      "metadata": {
        "id": "A7oDbBfeLbFf"
      },
      "source": [
        "## Scalar Types\n",
        "\n",
        "Python has some built-in types for handling \"Single-value\" or scalar types.  Some of the most common are shown in the table below.\n",
        "\n",
        "Type | Description\n",
        "--- | ---\n",
        "``None`` | The Python \"null\" value\n",
        "``str`` | String type\n",
        "``float`` | Floating-point number\n",
        "``int`` | integer\n",
        "``bool`` | boolean (True or False value)"
      ]
    },
    {
      "cell_type": "markdown",
      "metadata": {
        "id": "wdsbKWS1LbFg"
      },
      "source": [
        "### Numeric Types\n",
        "\n",
        "The primary Python types for numbers are ``int`` and ``float``.  \n",
        "\n",
        "**Question:** What's the difference?"
      ]
    },
    {
      "cell_type": "markdown",
      "metadata": {
        "id": "OTY7a4MBLbFg"
      },
      "source": [
        "#### Python as a calculator\n",
        "\n",
        "The Python interpreter can act as a simple calculator.   Expression syntax works just like in most other languages\n",
        "\n",
        "Operator | Operation\n",
        "--- | ---\n",
        "\\+ | addition\n",
        "\\- | subtraction\n",
        "\\* | multiplication\n",
        "/ | classic division\n",
        "// | floor division\n",
        "% | modulo\n",
        "** | powers\n",
        "\n",
        "Note that classic division (/) always returns a float."
      ]
    },
    {
      "cell_type": "code",
      "execution_count": null,
      "metadata": {
        "id": "Zjrx7GXvLbFh"
      },
      "outputs": [],
      "source": [
        "# Addition\n",
        "print(2 + 3)"
      ]
    },
    {
      "cell_type": "code",
      "execution_count": null,
      "metadata": {
        "id": "ao67X3RSLbFj"
      },
      "outputs": [],
      "source": [
        "# Subtraction\n",
        "print(2 - 3)\n"
      ]
    },
    {
      "cell_type": "code",
      "execution_count": null,
      "metadata": {
        "id": "mzI-MgRnLbFk"
      },
      "outputs": [],
      "source": [
        "# Multiplication\n",
        "print(2 * 3)\n"
      ]
    },
    {
      "cell_type": "code",
      "execution_count": null,
      "metadata": {
        "id": "q0B2ZlXCLbFk"
      },
      "outputs": [],
      "source": [
        "# Division\n",
        "print(2 / 3)"
      ]
    },
    {
      "cell_type": "code",
      "execution_count": null,
      "metadata": {
        "id": "ym1IBkJkLbFl"
      },
      "outputs": [],
      "source": [
        "# Floor division---returns the integer part of the results.  Note that the result is an integer and not a float\n",
        "print(2 // 3)"
      ]
    },
    {
      "cell_type": "code",
      "execution_count": null,
      "metadata": {
        "id": "TDzcygX1LbFl"
      },
      "outputs": [],
      "source": [
        "# Modulo---returns the remainder after division\n",
        "print(2 % 3)\n"
      ]
    },
    {
      "cell_type": "code",
      "source": [
        "#Baseball batting order\n",
        "first_batter_index = 0\n",
        "on_deck_batter = (0 + 1) % 9\n",
        "print(on_deck_batter)"
      ],
      "metadata": {
        "id": "3TB8bXx8Mehu"
      },
      "execution_count": null,
      "outputs": []
    },
    {
      "cell_type": "code",
      "source": [
        "last_batter_index = 8\n",
        "on_deck_batter = (last_batter_index + 1) % 9\n",
        "print(on_deck_batter)"
      ],
      "metadata": {
        "id": "1x78iHUYMtb3"
      },
      "execution_count": null,
      "outputs": []
    },
    {
      "cell_type": "code",
      "source": [
        "#less efficient\n",
        "batter_index = 8\n",
        "if batter_index == 8:\n",
        "  on_deck_batter = 0\n",
        "else:\n",
        "  on_deck_batter = batter_index + 1\n",
        "print(on_deck_batter)"
      ],
      "metadata": {
        "id": "k2KGiHfLMvr9"
      },
      "execution_count": null,
      "outputs": []
    },
    {
      "cell_type": "code",
      "execution_count": null,
      "metadata": {
        "id": "ScGoVxyPLbFm"
      },
      "outputs": [],
      "source": [
        "# Powers\n",
        "print(2 ** 3)"
      ]
    },
    {
      "cell_type": "code",
      "execution_count": null,
      "metadata": {
        "id": "Y61VUap8LbFm"
      },
      "outputs": [],
      "source": [
        "# Roots can also be done with powers\n",
        "print(2 ** 0.5)\n"
      ]
    },
    {
      "cell_type": "markdown",
      "source": [
        "**Warning**: 3^2 != 9 in python. 3**2 = 9"
      ],
      "metadata": {
        "id": "BCdcj71OMZrB"
      }
    },
    {
      "cell_type": "markdown",
      "metadata": {
        "id": "ECGQRBW4LbFm"
      },
      "source": [
        "### Strings\n",
        "String literals can be written using either single or double quotes.  Some fun facts to remember about strings:\n",
        "* Strings can be indexed and sliced\n",
        "* Strings are immutable, meaning, they can't be changed (such as with indexing) after they are created\n",
        "* Strings are iterable"
      ]
    },
    {
      "cell_type": "code",
      "execution_count": null,
      "metadata": {
        "id": "17VJ6W5zLbFn"
      },
      "outputs": [],
      "source": [
        "a = 'this is a string'\n",
        "b = \"this is also a string\""
      ]
    },
    {
      "cell_type": "code",
      "execution_count": null,
      "metadata": {
        "id": "FR2Lk1EoLbFn"
      },
      "outputs": [],
      "source": [
        "a[-1]"
      ]
    },
    {
      "cell_type": "code",
      "execution_count": null,
      "metadata": {
        "id": "PZVu84VxLbFn"
      },
      "outputs": [],
      "source": [
        "a[::-1]"
      ]
    },
    {
      "cell_type": "code",
      "execution_count": null,
      "metadata": {
        "id": "vyhtrAsSLbFn"
      },
      "outputs": [],
      "source": [
        "b[0] = \"T\""
      ]
    },
    {
      "cell_type": "code",
      "execution_count": null,
      "metadata": {
        "id": "EVbw0w1iLbFn"
      },
      "outputs": [],
      "source": [
        "for letter in a:\n",
        "    print(letter)\n"
      ]
    },
    {
      "cell_type": "code",
      "execution_count": null,
      "metadata": {
        "id": "uRUG1k0tLbFo"
      },
      "outputs": [],
      "source": [
        "print(a + b)"
      ]
    },
    {
      "cell_type": "code",
      "source": [
        "print(a + ' ' + b)"
      ],
      "metadata": {
        "id": "cOvYPZV2Nr16"
      },
      "execution_count": null,
      "outputs": []
    },
    {
      "cell_type": "code",
      "execution_count": null,
      "metadata": {
        "id": "y90nJMqTLbFo"
      },
      "outputs": [],
      "source": [
        "print('this' in a)"
      ]
    },
    {
      "cell_type": "markdown",
      "source": [
        "A python object is **mutable** if you can **mutate** it, i.e. you can change it and any variable that references that object will reference the changes. An object is **immutable** if you cannot change it.\n",
        "\n",
        "Immutable data types:\n",
        "*   int\n",
        "* float\n",
        "* string\n",
        "* bool\n",
        "* tuple\n",
        "\n",
        "\n",
        "Mutable data types:\n",
        "*  list\n",
        "* dictionary\n",
        "* set\n",
        "* custom classes (usually)\n",
        "\n",
        "\n",
        "\n"
      ],
      "metadata": {
        "id": "ojiSwvRAORDc"
      }
    },
    {
      "cell_type": "code",
      "source": [
        "#immutable strings\n",
        "\n",
        "a = 'immutable strings'\n",
        "b = a       # a and b are two variables that represent the same object, an immutable string\n",
        "a += '!!!'  # since `a` references a string, which is immutable, this operation is a reassignment. The variable `a` now represents a different string from `b`\n",
        "print(a)\n",
        "print(b)"
      ],
      "metadata": {
        "id": "NXesDyEINx0e"
      },
      "execution_count": null,
      "outputs": []
    },
    {
      "cell_type": "code",
      "source": [
        "#mutable lists\n",
        "\n",
        "a = ['mutable', 'list']\n",
        "b = a           # a and b are two variables that represent the same object, a mutable list\n",
        "a.append('!!')  # since lists are mutable, this operation changes the object that `a` and `b` represent, rather than reassigning `a` to a new list, so when we print `b`, it will also have '!!' appended to the list.\n",
        "print(a)\n",
        "print(b)"
      ],
      "metadata": {
        "id": "sPzL5L6pOCPU"
      },
      "execution_count": null,
      "outputs": []
    },
    {
      "cell_type": "markdown",
      "source": [
        "If you lose all references to an object in python, the object is automatically garbage collected, which frees up the memory it previously used. For example, if I redefine `a` and `b` to new objects, then the list from the previous cell gets garbage collected because all its references are gone, but if I only assign `a` to a new object, then the list is not garbage collected because `b` still refers to it."
      ],
      "metadata": {
        "id": "sPxNR7BfQcY-"
      }
    },
    {
      "cell_type": "markdown",
      "metadata": {
        "id": "oCdsaqXwLbFo"
      },
      "source": [
        "#### Common string methods\n",
        "\n",
        "``s = \"The quick RED fox jumped over the lazy BROWN dog\"``\n",
        "\n",
        "``s.upper()``\n",
        "\n",
        "``s.lower()``\n",
        "\n",
        "``s.replace('e','i')``\n",
        "\n",
        "``s.count('x')``\n",
        "\n",
        "``s.split()``\n",
        "\n",
        "``s.strip()``\n",
        "\n",
        "Recall that you can type ``s.``+ tab (in Jupyter Notebook) to see addition methods"
      ]
    },
    {
      "cell_type": "code",
      "execution_count": null,
      "metadata": {
        "id": "TZER58ATLbFo"
      },
      "outputs": [],
      "source": [
        "s = \"The quick RED fox jumped over the lazy BROWN dog\""
      ]
    },
    {
      "cell_type": "code",
      "execution_count": null,
      "metadata": {
        "id": "9po21fGuLbFo"
      },
      "outputs": [],
      "source": [
        "# make entire string upper case\n"
      ]
    },
    {
      "cell_type": "code",
      "execution_count": null,
      "metadata": {
        "id": "7YlTz6xLLbFo"
      },
      "outputs": [],
      "source": [
        "# make entire string lower case"
      ]
    },
    {
      "cell_type": "code",
      "execution_count": null,
      "metadata": {
        "id": "t5doHCr6LbFo"
      },
      "outputs": [],
      "source": [
        "# Replace all of the o's with zero zero (\"00\")\n"
      ]
    },
    {
      "cell_type": "code",
      "execution_count": null,
      "metadata": {
        "id": "4u9T90MRLbFp"
      },
      "outputs": [],
      "source": [
        "# Count the number of \"e\"s\n"
      ]
    },
    {
      "cell_type": "code",
      "execution_count": null,
      "metadata": {
        "id": "5AL8owWaLbFp"
      },
      "outputs": [],
      "source": [
        "# Count the number of \"the\"s in the string.  Notice that it is case sensitive"
      ]
    },
    {
      "cell_type": "code",
      "execution_count": null,
      "metadata": {
        "id": "IQQZWtD7LbFp"
      },
      "outputs": [],
      "source": [
        "# How can we count all the \"the\"s, no matter the casing?\n"
      ]
    },
    {
      "cell_type": "code",
      "execution_count": null,
      "metadata": {
        "id": "VlBYYKwULbFp"
      },
      "outputs": [],
      "source": [
        "# Convert string into a list split up by spaces\n"
      ]
    },
    {
      "cell_type": "code",
      "execution_count": null,
      "metadata": {
        "id": "641S5nDYLbFp"
      },
      "outputs": [],
      "source": [
        "# take out all leading and trailing whitespace\n",
        "s2 = '    My name is 007   Bond    '\n"
      ]
    },
    {
      "cell_type": "code",
      "execution_count": null,
      "metadata": {
        "id": "AJUN5nuWLbFp"
      },
      "outputs": [],
      "source": [
        "# How can we remove all the extra whitespaces? (Try using .join)\n"
      ]
    },
    {
      "cell_type": "code",
      "execution_count": null,
      "metadata": {
        "id": "ooSInhclLbFp"
      },
      "outputs": [],
      "source": [
        "# Return a string using formatting (f strings)\n",
        "name = \"James\"\n",
        "age = 30\n",
        "print(f\"My name is {name} and I am {age} years old\")"
      ]
    },
    {
      "cell_type": "code",
      "execution_count": null,
      "metadata": {
        "id": "1Hg_1WKKLbFq"
      },
      "outputs": [],
      "source": [
        "# Using .format\n",
        "print(\"My name is {} and I am {} years old\".format(name, age))"
      ]
    },
    {
      "cell_type": "markdown",
      "metadata": {
        "id": "b3FeIP-4LbFq"
      },
      "source": [
        "### Booleans\n",
        "\n",
        "Booleans in Python are written as ``True`` and ``False``.  The key words ``and``, ``or``, ``not`` can be used to combine booleans.  "
      ]
    },
    {
      "cell_type": "code",
      "execution_count": null,
      "metadata": {
        "id": "z49CyM2dLbFq"
      },
      "outputs": [],
      "source": [
        "True and True"
      ]
    },
    {
      "cell_type": "code",
      "execution_count": null,
      "metadata": {
        "id": "s0MMY1cXLbFq"
      },
      "outputs": [],
      "source": [
        "True and False"
      ]
    },
    {
      "cell_type": "code",
      "execution_count": null,
      "metadata": {
        "id": "YTW-z7FJLbFq"
      },
      "outputs": [],
      "source": [
        "True or False"
      ]
    },
    {
      "cell_type": "code",
      "execution_count": null,
      "metadata": {
        "id": "ulo9DYZwLbFq"
      },
      "outputs": [],
      "source": [
        "not False"
      ]
    },
    {
      "cell_type": "code",
      "source": [],
      "metadata": {
        "id": "RWhZ4qmFSlWZ"
      },
      "execution_count": null,
      "outputs": []
    },
    {
      "cell_type": "markdown",
      "metadata": {
        "id": "wLpw7YTCLbFw"
      },
      "source": [
        "## Control Flow\n",
        "\n",
        "### if, elif, else\n",
        "\n",
        "An ``if`` statement checks a condition and evaluates code if the condition is true.  ``elif`` and ``else`` are ways to specify other conditions."
      ]
    },
    {
      "cell_type": "code",
      "execution_count": null,
      "metadata": {
        "id": "i5NWO6BZLbFx"
      },
      "outputs": [],
      "source": [
        "x = -1\n",
        "if x < 0:\n",
        "    print('negative')"
      ]
    },
    {
      "cell_type": "code",
      "execution_count": null,
      "metadata": {
        "id": "juvNUBJwLbFx"
      },
      "outputs": [],
      "source": [
        "# use if, elif, and else to print \"negative\" if x is negative, \"zero\" if x is 0, and \"positive\" if x is positive\n",
        "\n",
        "x = -1\n",
        "if x > 0:\n",
        "    print('positive')\n",
        "elif x == 0:\n",
        "    print('zero')\n",
        "else:\n",
        "    print('negative')\n"
      ]
    },
    {
      "cell_type": "markdown",
      "metadata": {
        "id": "zmxtHenKLbFx"
      },
      "source": [
        "### For loops\n",
        "\n",
        "``for`` loops are for iterating over an iterable item (lists, tuples, strings, even dictionaries are some examples of iterable items).   In iterable item is an object which one can iterate over."
      ]
    },
    {
      "cell_type": "code",
      "execution_count": null,
      "metadata": {
        "id": "1qnGC711LbFx"
      },
      "outputs": [],
      "source": [
        "my_list = [1, 2, None, 4, None, 5]\n",
        "total = 0\n",
        "for value in my_list:\n",
        "    if value is None:\n",
        "        continue\n",
        "    total += value\n"
      ]
    },
    {
      "cell_type": "code",
      "execution_count": null,
      "metadata": {
        "id": "920m0EjTLbFy"
      },
      "outputs": [],
      "source": [
        "print(total)"
      ]
    },
    {
      "cell_type": "markdown",
      "metadata": {
        "id": "YIAScufWLbFy"
      },
      "source": [
        "An iterator is an object with a ``__next__`` method.  [This stackOverflow post](https://stackoverflow.com/questions/9884132/what-exactly-are-iterator-iterable-and-iteration) discusses the difference between iterables, iterators, and iteration.  \n",
        "\n",
        "The ``range`` and ``enumerate`` functions are helpful iterator functions.  \n",
        "* ``range`` returns an object that produces a sequence of integers from start (inclusive) to stop (exclusive) by step\n",
        "* `` enumerate`` yields pairs containing a count (from start, which defaults to 0) and an iterable value"
      ]
    },
    {
      "cell_type": "code",
      "execution_count": null,
      "metadata": {
        "id": "fYKQV_bVLbFy"
      },
      "outputs": [],
      "source": [
        "range(0,10)"
      ]
    },
    {
      "cell_type": "code",
      "execution_count": null,
      "metadata": {
        "id": "UGtj6vxlLbFz"
      },
      "outputs": [],
      "source": [
        "type(range(0,10))"
      ]
    },
    {
      "cell_type": "code",
      "execution_count": null,
      "metadata": {
        "id": "XK3UURE2LbFz"
      },
      "outputs": [],
      "source": [
        "list(range(0,10))"
      ]
    },
    {
      "cell_type": "code",
      "execution_count": null,
      "metadata": {
        "id": "iZdg2SaPLbFz"
      },
      "outputs": [],
      "source": [
        "## sum even numbers from 0 to 20.\n",
        "sum = 0\n",
        "for i in range(22):\n",
        "    if i % 2 == 0:\n",
        "        sum += i\n",
        "print(sum)"
      ]
    },
    {
      "cell_type": "code",
      "execution_count": null,
      "metadata": {
        "id": "LNmSESJuLbFz"
      },
      "outputs": [],
      "source": [
        "list_of_names = ['Alison','Izzy', 'Evvy', 'Megan', 'Kristin']"
      ]
    },
    {
      "cell_type": "code",
      "execution_count": null,
      "metadata": {
        "id": "J695XipPLbF0"
      },
      "outputs": [],
      "source": [
        "enumerate(list_of_names)"
      ]
    },
    {
      "cell_type": "code",
      "execution_count": null,
      "metadata": {
        "id": "DAtcmboqLbF0"
      },
      "outputs": [],
      "source": [
        "list(enumerate(list_of_names))"
      ]
    },
    {
      "cell_type": "code",
      "execution_count": null,
      "metadata": {
        "id": "S4_hLTIfLbF0"
      },
      "outputs": [],
      "source": [
        "for i, word in enumerate(list_of_names):\n",
        "    print(\"{a}, you are number {b} on the list\".format(a=word, b=i))"
      ]
    },
    {
      "cell_type": "code",
      "execution_count": null,
      "metadata": {
        "id": "ce_y9-FtLbF0"
      },
      "outputs": [],
      "source": [
        "for i, word in enumerate(list_of_names, start=1):\n",
        "    print(\"{a}, you are number {b} on the list\".format(a=word, b=i))\n"
      ]
    },
    {
      "cell_type": "markdown",
      "source": [
        "**Logic Game Using Bools**\n",
        "\n",
        "You are lost in a castle maze. You enter a corridor at the end of which stands two guards, two doors, and a sign with a riddle. The riddle reads:\n",
        "\n",
        "*Behind one of these two doors you will meet certain, painful death. Behind the other, you will unlock all the riches of the castle. One of these guards always tells the truth, one always lies. You may ask one question to one guard. Your question must be a bool and the guard will respond with a bool. For example, the lying guard will return False if you input a bool that is True and True if you input a bool that is False. The honest guard will simply return the value of the bool that you inputted. The variables of interest are `door1` and `door2`. Their values are either 'death' or 'riches'. To ask the guard a question, you simply input your bool into the function guard1 or guard2, so for example you could type `guard1(door1 == 'death')`, which is equivalent to asking gurad1 if door1 leads to death, or you could type `guard2(door1 == 'riches')`, which is the same as asking guard2 if door1 leads to riches. Choose carefully!*"
      ],
      "metadata": {
        "id": "6dJ5NPOeUE2N"
      }
    },
    {
      "cell_type": "code",
      "execution_count": null,
      "metadata": {
        "id": "1sepGGQgLbF0"
      },
      "outputs": [],
      "source": [
        "import random\n",
        "\n",
        "def lying_guard(statement):\n",
        "  return not statement\n",
        "\n",
        "def honest_guard(statement):\n",
        "  return statement\n",
        "\n",
        "#randomly assign the truth telling guard and lying guard to guards 1 and 2\n",
        "guards = [lying_guard, honest_guard]\n",
        "random.shuffle(guards)\n",
        "guard1, guard2 = guards\n",
        "\n",
        "#define the doors\n",
        "death_door = 'death'\n",
        "riches_door = 'riches'\n",
        "\n",
        "#randomly assign the doors\n",
        "doors = [death_door, riches_door]\n",
        "random.shuffle(doors)\n",
        "door1, door2 = doors"
      ]
    },
    {
      "cell_type": "code",
      "source": [
        "#ask your question\n"
      ],
      "metadata": {
        "id": "b4TVG0nva7FY"
      },
      "execution_count": null,
      "outputs": []
    },
    {
      "cell_type": "code",
      "source": [
        "#choose your door\n"
      ],
      "metadata": {
        "id": "KuItaae-YcG0"
      },
      "execution_count": null,
      "outputs": []
    },
    {
      "cell_type": "code",
      "source": [],
      "metadata": {
        "id": "dfLpEQo0ZIRP"
      },
      "execution_count": null,
      "outputs": []
    }
  ],
  "metadata": {
    "kernelspec": {
      "display_name": "Python 3 (ipykernel)",
      "language": "python",
      "name": "python3"
    },
    "language_info": {
      "codemirror_mode": {
        "name": "ipython",
        "version": 3
      },
      "file_extension": ".py",
      "mimetype": "text/x-python",
      "name": "python",
      "nbconvert_exporter": "python",
      "pygments_lexer": "ipython3",
      "version": "3.11.4"
    },
    "colab": {
      "provenance": []
    }
  },
  "nbformat": 4,
  "nbformat_minor": 0
}