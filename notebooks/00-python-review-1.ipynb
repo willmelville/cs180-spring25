{
 "cells": [
  {
   "cell_type": "markdown",
   "metadata": {},
   "source": [
    "# Basic Python Review: Scalar Types & Control Flow\n",
    "\n",
    "Reading:  *Python for Data Analysis*, Section 2.3 from Chapter 2. \n",
    "\n",
    "Things to remember about Python:\n",
    "* Python uses indentation (spaces and tabs) to structure code instead of braces\n",
    "* In Python, everything is an object\n",
    "* The hash mark (#) is used to make comments\n",
    "* When assigning variables in Python, you are creating a reference to the object\n",
    "* Objects in Python typically have atrributes and methods accessed with the syntax ``obj.attribute`` or ``obj.method()``\n",
    "    * Attributes are other Python objects stored \"inside\" an object\n",
    "    * Methods are functions associated with an object\n",
    "* In Python, indexes start at 0"
   ]
  },
  {
   "cell_type": "markdown",
   "metadata": {},
   "source": [
    "## Variable Assignments\n",
    "**It is considered best practice that names for variables and functions are lowercase with underscores** (see [PEP8](https://www.python.org/dev/peps/pep-0008/#function-and-variable-names)).  For example ``x = 7`` or ``this_is_a_variable = 'string'``.\n",
    "\n",
    "###  Rules for variable names\n",
    "\n",
    "* names can not start with a number\n",
    "* names can not contain spaces\n",
    "* names can not contain any of these symbols:\n",
    "\n",
    "      :'\",<>/?|\\!@#%^&*~-+\n",
    "       \n",
    "* avoid using Python built-in keywords like `list` and `str`\n",
    "* avoid using the single characters `l` (lowercase letter el), `O` (uppercase letter oh) and `I` (uppercase letter eye) as they can be confused with `1` and `0`"
   ]
  },
  {
   "cell_type": "markdown",
   "metadata": {},
   "source": [
    "## Scalar Types\n",
    "\n",
    "Python has some built-in types for handling \"Single-value\" or scalar types.  Some of the most common are shown in the table below.\n",
    "\n",
    "Type | Description\n",
    "--- | --- \n",
    "``None`` | The Python \"null\" value\n",
    "``str`` | String type\n",
    "``float`` | Floating-point number\n",
    "``int`` | integer\n",
    "``bool`` | boolean (True or False value)"
   ]
  },
  {
   "cell_type": "markdown",
   "metadata": {},
   "source": [
    "### Numeric Types\n",
    "\n",
    "The primary Python types for numbers are ``int`` and ``float``.  "
   ]
  },
  {
   "cell_type": "markdown",
   "metadata": {},
   "source": [
    "#### Python as a calculator\n",
    "\n",
    "The Python interpreter can act as a simple calculator.   Expression syntax works just like in most other languages\n",
    "\n",
    "Operator | Operation \n",
    "--- | --- \n",
    "\\+ | addition \n",
    "\\- | subtraction \n",
    "\\* | multiplication \n",
    "/ | classic division \n",
    "// | floor division \n",
    "% | modulo \n",
    "** | powers \n",
    "\n",
    "Note that classic division (/) always returns a float. "
   ]
  },
  {
   "cell_type": "code",
   "execution_count": null,
   "metadata": {},
   "outputs": [],
   "source": [
    "# Addition\n",
    "print(2 + 3)"
   ]
  },
  {
   "cell_type": "code",
   "execution_count": null,
   "metadata": {},
   "outputs": [],
   "source": [
    "# Subtraction \n",
    "print(2 - 3)\n"
   ]
  },
  {
   "cell_type": "code",
   "execution_count": null,
   "metadata": {},
   "outputs": [],
   "source": [
    "# Multiplication\n",
    "print(2 * 3)\n"
   ]
  },
  {
   "cell_type": "code",
   "execution_count": null,
   "metadata": {},
   "outputs": [],
   "source": [
    "# Division\n",
    "print(2 / 3)"
   ]
  },
  {
   "cell_type": "code",
   "execution_count": null,
   "metadata": {},
   "outputs": [],
   "source": [
    "# Floor division---returns the integer part of the results.  Note that the result is an integer and not a float\n",
    "print(2 // 3)"
   ]
  },
  {
   "cell_type": "code",
   "execution_count": null,
   "metadata": {},
   "outputs": [],
   "source": [
    "# Modulo---returns the remainder after division\n",
    "print(2 % 3)\n"
   ]
  },
  {
   "cell_type": "code",
   "execution_count": null,
   "metadata": {},
   "outputs": [],
   "source": [
    "# Powers\n",
    "print(2 ** 3)"
   ]
  },
  {
   "cell_type": "code",
   "execution_count": null,
   "metadata": {},
   "outputs": [],
   "source": [
    "# Roots can also be done with powers\n",
    "print(2 ** 0.5)\n"
   ]
  },
  {
   "cell_type": "markdown",
   "metadata": {},
   "source": [
    "### Strings\n",
    "String literals can be written using either single or double quotes.  Some fun facts to remember about strings:\n",
    "* Strings can be indexed and sliced\n",
    "* Strings are immutable, meaning, they can't be changed (such as with indexing) after they are created\n",
    "* Strings are iterable"
   ]
  },
  {
   "cell_type": "code",
   "execution_count": null,
   "metadata": {},
   "outputs": [],
   "source": [
    "a = 'this is a string'\n",
    "b = \"this is also a string\""
   ]
  },
  {
   "cell_type": "code",
   "execution_count": null,
   "metadata": {},
   "outputs": [],
   "source": [
    "a[-1]"
   ]
  },
  {
   "cell_type": "code",
   "execution_count": null,
   "metadata": {},
   "outputs": [],
   "source": [
    "a[::-1]"
   ]
  },
  {
   "cell_type": "code",
   "execution_count": null,
   "metadata": {},
   "outputs": [],
   "source": [
    "b[0] = \"T\""
   ]
  },
  {
   "cell_type": "code",
   "execution_count": null,
   "metadata": {},
   "outputs": [],
   "source": [
    "for letter in a:\n",
    "    print(letter)\n"
   ]
  },
  {
   "cell_type": "code",
   "execution_count": null,
   "metadata": {},
   "outputs": [],
   "source": [
    "print(a + b)"
   ]
  },
  {
   "cell_type": "code",
   "execution_count": null,
   "metadata": {},
   "outputs": [],
   "source": [
    "print('this' in a)"
   ]
  },
  {
   "cell_type": "markdown",
   "metadata": {},
   "source": [
    "#### Common string methods\n",
    "\n",
    "``s = \"The quick RED fox jumped over the lazy BROWN dog\"``\n",
    "\n",
    "``s.upper()``\n",
    "\n",
    "``s.lower()``\n",
    "\n",
    "``s.replace('e','i')``\n",
    "\n",
    "``s.count('x')``\n",
    "\n",
    "``s.split()``\n",
    "\n",
    "``s.strip()``\n",
    "\n",
    "Recall that you can type ``s.``+ tab (in Jupyter Notebook) to see addition methods"
   ]
  },
  {
   "cell_type": "code",
   "execution_count": null,
   "metadata": {},
   "outputs": [],
   "source": [
    "s = \"The quick RED fox jumped over the lazy BROWN dog\""
   ]
  },
  {
   "cell_type": "code",
   "execution_count": null,
   "metadata": {},
   "outputs": [],
   "source": [
    "# make entire string upper case\n"
   ]
  },
  {
   "cell_type": "code",
   "execution_count": null,
   "metadata": {},
   "outputs": [],
   "source": [
    "# make entire string lower case"
   ]
  },
  {
   "cell_type": "code",
   "execution_count": null,
   "metadata": {},
   "outputs": [],
   "source": [
    "# Replace all of the o's with zero zero (\"00\")\n"
   ]
  },
  {
   "cell_type": "code",
   "execution_count": null,
   "metadata": {},
   "outputs": [],
   "source": [
    "# Count the number of \"e\"s\n"
   ]
  },
  {
   "cell_type": "code",
   "execution_count": null,
   "metadata": {},
   "outputs": [],
   "source": [
    "# Count the number of \"the\"s in the string.  Notice that it is case sensitive"
   ]
  },
  {
   "cell_type": "code",
   "execution_count": null,
   "metadata": {},
   "outputs": [],
   "source": [
    "# How can we count all the \"the\"s, no matter the casing?\n"
   ]
  },
  {
   "cell_type": "code",
   "execution_count": null,
   "metadata": {},
   "outputs": [],
   "source": [
    "# Convert string into a list split up by spaces\n"
   ]
  },
  {
   "cell_type": "code",
   "execution_count": null,
   "metadata": {},
   "outputs": [],
   "source": [
    "# take out all leading and trailing whitespace\n",
    "s2 = '    My name is 007   Bond    '\n"
   ]
  },
  {
   "cell_type": "code",
   "execution_count": null,
   "metadata": {},
   "outputs": [],
   "source": [
    "# How can we remove all the extra whitespaces? (Try using .join)\n"
   ]
  },
  {
   "cell_type": "code",
   "execution_count": null,
   "metadata": {},
   "outputs": [],
   "source": [
    "# Return a string using formatting\n",
    "name = \"James\"\n",
    "age = 30\n",
    "print(f\"My name is {name} and I am {age} years old\")"
   ]
  },
  {
   "cell_type": "code",
   "execution_count": null,
   "metadata": {},
   "outputs": [],
   "source": [
    "# Using .format\n",
    "print(\"My name is {} and I am {} years old\".format(name, age))"
   ]
  },
  {
   "cell_type": "markdown",
   "metadata": {},
   "source": [
    "### Booleans\n",
    "\n",
    "Booleans in Python are written as ``True`` and ``False``.  The key words ``and``, ``or``, ``not`` can be used to combine booleans.  "
   ]
  },
  {
   "cell_type": "code",
   "execution_count": null,
   "metadata": {},
   "outputs": [],
   "source": [
    "True and True"
   ]
  },
  {
   "cell_type": "code",
   "execution_count": null,
   "metadata": {},
   "outputs": [],
   "source": [
    "True and False"
   ]
  },
  {
   "cell_type": "code",
   "execution_count": null,
   "metadata": {},
   "outputs": [],
   "source": [
    "True or False"
   ]
  },
  {
   "cell_type": "code",
   "execution_count": null,
   "metadata": {},
   "outputs": [],
   "source": [
    "not False"
   ]
  },
  {
   "cell_type": "markdown",
   "metadata": {},
   "source": [
    "## Control Flow\n",
    "\n",
    "### if, elif, else\n",
    "\n",
    "An ``if`` statement checks a condition and evaluates code if the condition is true.  ``elif`` and ``else`` are ways to specify other conditions."
   ]
  },
  {
   "cell_type": "code",
   "execution_count": null,
   "metadata": {},
   "outputs": [],
   "source": [
    "x = -1\n",
    "if x < 0:\n",
    "    print('negative')"
   ]
  },
  {
   "cell_type": "code",
   "execution_count": null,
   "metadata": {},
   "outputs": [],
   "source": [
    "# use if, elif, and else to print \"negative\" if x is negative, \"zero\" if x is 0, and \"positive\" if x is positive\n",
    "\n",
    "x = -1\n",
    "if x > 0:\n",
    "    print('positive')\n",
    "elif x == 0:\n",
    "    print('zero')\n",
    "else:\n",
    "    print('negative')\n"
   ]
  },
  {
   "cell_type": "markdown",
   "metadata": {},
   "source": [
    "### For loops\n",
    "\n",
    "``for`` loops are for iterating over an iterable item (lists, tuples, strings, even dictionaries are some examples of iterable items).   In iterable item is an object which one can iterate over."
   ]
  },
  {
   "cell_type": "code",
   "execution_count": null,
   "metadata": {},
   "outputs": [],
   "source": [
    "my_list = [1, 2, None, 4, None, 5]\n",
    "total = 0\n",
    "for value in my_list:\n",
    "    if value is None:\n",
    "        continue\n",
    "    total += value\n"
   ]
  },
  {
   "cell_type": "code",
   "execution_count": null,
   "metadata": {},
   "outputs": [],
   "source": [
    "print(total)"
   ]
  },
  {
   "cell_type": "markdown",
   "metadata": {},
   "source": [
    "An iterator is an object with a ``__next__`` method.  [This stackOverflow post](https://stackoverflow.com/questions/9884132/what-exactly-are-iterator-iterable-and-iteration) discusses the difference between iterables, iterators, and iteration.  \n",
    "\n",
    "The ``range`` and ``enumerate`` functions are helpful iterator functions.  \n",
    "* ``range`` returns an object that produces a sequence of integers from start (inclusive) to stop (exclusive) by step\n",
    "* `` enumerate`` yields pairs containing a count (from start, which defaults to 0) and an iterable value"
   ]
  },
  {
   "cell_type": "code",
   "execution_count": null,
   "metadata": {},
   "outputs": [],
   "source": [
    "range(0,10)"
   ]
  },
  {
   "cell_type": "code",
   "execution_count": null,
   "metadata": {},
   "outputs": [],
   "source": [
    "type(range(0,10))"
   ]
  },
  {
   "cell_type": "code",
   "execution_count": null,
   "metadata": {},
   "outputs": [],
   "source": [
    "list(range(0,10))"
   ]
  },
  {
   "cell_type": "code",
   "execution_count": null,
   "metadata": {},
   "outputs": [],
   "source": [
    "## sum even numbers from 0 to 20.\n",
    "sum = 0\n",
    "for i in range(22):\n",
    "    if i % 2 == 0:\n",
    "        sum += i\n",
    "print(sum)"
   ]
  },
  {
   "cell_type": "code",
   "execution_count": null,
   "metadata": {},
   "outputs": [],
   "source": [
    "list_of_names = ['Alison','Izzy', 'Evvy', 'Megan', 'Kristin']"
   ]
  },
  {
   "cell_type": "code",
   "execution_count": null,
   "metadata": {},
   "outputs": [],
   "source": [
    "enumerate(list_of_names)"
   ]
  },
  {
   "cell_type": "code",
   "execution_count": null,
   "metadata": {},
   "outputs": [],
   "source": [
    "list(enumerate(list_of_names))"
   ]
  },
  {
   "cell_type": "code",
   "execution_count": null,
   "metadata": {},
   "outputs": [],
   "source": [
    "for i, word in enumerate(list_of_names):\n",
    "    print(\"{a}, you are number {b} on the list\".format(a=word, b=i))"
   ]
  },
  {
   "cell_type": "code",
   "execution_count": null,
   "metadata": {},
   "outputs": [],
   "source": [
    "for i, word in enumerate(list_of_names, start=1):\n",
    "    print(\"{a}, you are number {b} on the list\".format(a=word, b=i))\n"
   ]
  },
  {
   "cell_type": "code",
   "execution_count": null,
   "metadata": {},
   "outputs": [],
   "source": []
  },
  {
   "cell_type": "code",
   "execution_count": null,
   "metadata": {},
   "outputs": [],
   "source": []
  }
 ],
 "metadata": {
  "kernelspec": {
   "display_name": "Python 3 (ipykernel)",
   "language": "python",
   "name": "python3"
  },
  "language_info": {
   "codemirror_mode": {
    "name": "ipython",
    "version": 3
   },
   "file_extension": ".py",
   "mimetype": "text/x-python",
   "name": "python",
   "nbconvert_exporter": "python",
   "pygments_lexer": "ipython3",
   "version": "3.11.4"
  }
 },
 "nbformat": 4,
 "nbformat_minor": 2
}
