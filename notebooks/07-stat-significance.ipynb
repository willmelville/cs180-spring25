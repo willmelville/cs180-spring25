{
  "cells": [
    {
      "cell_type": "markdown",
      "metadata": {},
      "source": [
        "<a href=\"https://colab.research.google.com/github/rhodes-byu/cs180-winter25/blob/main/notebooks/07-stat-significance.ipynb\" target=\"_parent\"><img src=\"https://colab.research.google.com/assets/colab-badge.svg\" alt=\"Open In Colab\"/></a><p><b>After clicking the \"Open in Colab\" link, copy the notebook to your own Google Drive before getting started, or it will not save your work</b></p>"
      ]
    },
    {
      "cell_type": "markdown",
      "metadata": {},
      "source": [
        "# Statistical Significance"
      ]
    },
    {
      "cell_type": "markdown",
      "metadata": {
        "id": "fytQJYcLvs0t"
      },
      "source": [
        "Test whether a **sample** drawn from a population is statistically significant (i.e., if the sample mean is different from the population mean), we can:\n",
        "\n",
        "1. **Simulate a population** from which a sample is drawn.\n",
        "2. **Compare the sample mean to the population mean** using a one-sample t-test.\n",
        "3. **Visualize** both the population and the sample distributions to help visualize statistical significance."
      ]
    },
    {
      "cell_type": "code",
      "execution_count": null,
      "metadata": {},
      "outputs": [],
      "source": [
        "import numpy as np\n",
        "import matplotlib.pyplot as plt\n",
        "import seaborn as sns\n",
        "from scipy import stats"
      ]
    },
    {
      "cell_type": "code",
      "execution_count": 2,
      "metadata": {
        "id": "asW5VHttvF04"
      },
      "outputs": [],
      "source": [
        "# Set random seed for reproducibility\n",
        "np.random.seed(42)\n",
        "\n",
        "# Step 1: Simulate a population with known mean and standard deviation\n",
        "# Assume the population has a mean of 50 and standard deviation of 10\n",
        "population = np.random.normal(loc = 50, scale = 10, size = 10000)  # Large population size of 10,000"
      ]
    },
    {
      "cell_type": "code",
      "execution_count": 3,
      "metadata": {
        "id": "04Ld71zEwquU"
      },
      "outputs": [],
      "source": [
        "# Step 2: Draw a sample from the population (e.g., 100 data points)\n",
        "sample = np.random.choice(population, size=100, replace=False)"
      ]
    },
    {
      "cell_type": "code",
      "execution_count": null,
      "metadata": {},
      "outputs": [],
      "source": [
        "# Sample Mean\n",
        "print(np.mean(sample))"
      ]
    },
    {
      "cell_type": "markdown",
      "metadata": {},
      "source": [
        "- **T-statistic**: Measures how many standard deviations the sample mean is from the population mean.\n",
        "- **P-value**: Tells us the probability of observing a difference as extreme as the one between the sample and the population if the null hypothesis is true."
      ]
    },
    {
      "cell_type": "code",
      "execution_count": null,
      "metadata": {
        "colab": {
          "base_uri": "https://localhost:8080/"
        },
        "id": "7jmvm-ZgwtBu",
        "outputId": "eac4396a-4d86-45e9-e231-9b0757360460"
      },
      "outputs": [],
      "source": [
        "# Step 3: Perform a one-sample t-test\n",
        "\n",
        "# Null Hypothesis: The sample mean is equal to the population mean (50)\n",
        "# Alternative Hypothesis: The sample mean is not equal to the population mean\n",
        "\n",
        "population_mean = 50  # Known population mean\n",
        "t_stat, p_value = stats.ttest_1samp(sample, population_mean)\n",
        "\n",
        "# Print t-statistic and p-value\n",
        "print(f\"T-statistic: {t_stat}\")\n",
        "print(f\"P-value: {p_value}\")"
      ]
    },
    {
      "cell_type": "code",
      "execution_count": null,
      "metadata": {
        "colab": {
          "base_uri": "https://localhost:8080/"
        },
        "id": "1CAvHTjwwGaQ",
        "outputId": "78d42e06-89bb-4794-ce73-a55719b908ca"
      },
      "outputs": [],
      "source": [
        "# Step 4: Determine if the p-value is statistically significant at alpha = 0.05\n",
        "alpha = 0.05\n",
        "if p_value < alpha:\n",
        "    print(\"The result is statistically significant (reject the null hypothesis).\")\n",
        "else:\n",
        "    print(\"The result is not statistically significant (fail to reject the null hypothesis).\")"
      ]
    },
    {
      "cell_type": "code",
      "execution_count": null,
      "metadata": {
        "colab": {
          "base_uri": "https://localhost:8080/",
          "height": 585
        },
        "id": "7LvJW90ywQMu",
        "outputId": "8480b2b7-5b7c-4dfd-a718-ea053db179d8"
      },
      "outputs": [],
      "source": [
        "# Step 5: Visualization\n",
        "plt.figure(figsize=(10, 6))\n",
        "\n",
        "# Plot population distribution\n",
        "sns.histplot(population, color=\"orange\", label=\"Population\", kde=True, stat=\"density\", bins=30)\n",
        "\n",
        "# Plot sample distribution\n",
        "sns.histplot(sample, color=\"slateblue\", label=\"Sample\", kde=True, stat=\"density\", bins=30)\n",
        "\n",
        "# Plot mean lines\n",
        "plt.axvline(np.mean(population), color='orange', linestyle='dashed', linewidth=2, label='Population Mean')\n",
        "plt.axvline(np.mean(sample), color='slateblue', linestyle='dashed', linewidth=2, label='Sample Mean')\n",
        "\n",
        "# Add titles and labels\n",
        "plt.title(f'Population vs Sample Distribution\\nT-statistic: {t_stat:.2f}, P-value: {p_value:.4f}')\n",
        "plt.xlabel('Value')\n",
        "plt.ylabel('Density')\n",
        "plt.legend()\n",
        "\n",
        "# Show plot\n",
        "plt.show()"
      ]
    },
    {
      "cell_type": "markdown",
      "metadata": {
        "id": "6bkRQm0OwcwW"
      },
      "source": [
        "- **Conclusion**: If the p-value is greater than 0.05, the null hypothesis is true and the sample is not significantly different than the population.\n"
      ]
    }
  ],
  "metadata": {
    "colab": {
      "provenance": []
    },
    "kernelspec": {
      "display_name": "base",
      "language": "python",
      "name": "python3"
    },
    "language_info": {
      "codemirror_mode": {
        "name": "ipython",
        "version": 3
      },
      "file_extension": ".py",
      "mimetype": "text/x-python",
      "name": "python",
      "nbconvert_exporter": "python",
      "pygments_lexer": "ipython3",
      "version": "3.11.4"
    }
  },
  "nbformat": 4,
  "nbformat_minor": 0
}
