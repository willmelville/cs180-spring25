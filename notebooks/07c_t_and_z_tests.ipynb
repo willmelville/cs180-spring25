{
  "nbformat": 4,
  "nbformat_minor": 0,
  "metadata": {
    "colab": {
      "provenance": []
    },
    "kernelspec": {
      "name": "python3",
      "display_name": "Python 3"
    },
    "language_info": {
      "name": "python"
    }
  },
  "cells": [
    {
      "cell_type": "markdown",
      "source": [
        "##**t tests and z tests**\n",
        "\n",
        "We have just learned two methods to compare a sample mean with some null hypothesis mean. Let $\\bar{x}$ be the sample mean, $\\mu_0$ be the null hypothesis mean, $s$ the sample standard deviation, and $\\sigma$ the true standard deviation of the data $x$, assuming it is known.\n",
        "\n",
        "<br>\n",
        "\n",
        "In a z test, we calculate the z score $z = \\frac{\\bar{x} - \\mu_0}{\\sigma/\\sqrt{n}}$. Then we plug that into the standard normal cdf to get our p value. If $z > 0$, we define the p value as\n",
        "\n",
        "```1 - scipy.stats.norm.cdf(z)```\n",
        "\n",
        "and if $z \\leq 0$, we define the p value as\n",
        "\n",
        "```scipy.stats.norm.cdf(z)```.\n",
        "\n",
        "Note, z tests require that we know $\\sigma$ to calculate the $z$ score. However, if $n$ is large we can safely assume that $s$ is close to $\\sigma$ and use $s$ in the formula for the $z$ score instead of $\\sigma$.\n",
        "\n",
        "<br>\n",
        "\n",
        "In a t test, we calculate the t score (or t statistic) as $t = \\frac{\\bar{x} - \\mu_0}{s/\\sqrt{n}}$. As you can see, the only difference between the t score and the z score is the use of the sample standard deviation $s$ instead of the true standard deviation $\\sigma$. Once we have the t statistic, we calculate the p value using the student t distribution. If $t > 0$, we define the p value as\n",
        "\n",
        "```1 - scipy.stats.t(df = n-1).cdf(t)```\n",
        "\n",
        "and if $t \\leq 0$, we define the p value as\n",
        "\n",
        "```scipy.stats.t(df = n-1).cdf(t)```.\n",
        "\n",
        "<br>\n",
        "\n",
        "When to use which test:\n",
        "\n",
        "* If you know the true standard deviation $\\sigma$ and $n$ is large (use feel, or use the arbitrary cutoff $n$ > 30), then do a z test.\n",
        "\n",
        "* If you do not know $\\sigma$ but you still think $n$ is large enough, you can probably get away with doing a z test where you use $s$ in the formula for $z$ score instead of $\\sigma$.\n",
        "\n",
        "* If $n$ is small (use feel), then do a t test.\n",
        "\n",
        "* In general, you should probably just do a t test because scipy has functions that can do t tests no matter how big $n$ is, so anytime you do not know $\\sigma$, it is safe to do a t test in python with scipy. The relevant functions (you may need to google the documentation) are scipy.stats.ttest_1samp and scipy.stats.ttest_ind."
      ],
      "metadata": {
        "id": "8BbpE37zTWzu"
      }
    },
    {
      "cell_type": "code",
      "execution_count": null,
      "metadata": {
        "id": "O2UnYdqhJdg7"
      },
      "outputs": [],
      "source": [
        "import numpy as np\n",
        "from scipy.stats import norm, gamma, beta, poisson, binom, t\n",
        "from matplotlib import pyplot as plt"
      ]
    },
    {
      "cell_type": "code",
      "source": [
        "#figure from slides\n",
        "x = np.linspace(-3,3,100)\n",
        "plt.plot(norm.pdf(x), label = 'standard normal')\n",
        "plt.plot(t(df = 5).pdf(x), label = 'student t, df = 5')\n",
        "plt.plot(t(df = 30).pdf(x), '--', label = 'student t, df = 30')\n",
        "plt.legend()\n",
        "plt.show()"
      ],
      "metadata": {
        "id": "mLEoKXzRKSPA"
      },
      "execution_count": null,
      "outputs": []
    },
    {
      "cell_type": "markdown",
      "source": [
        "## **Problem 1**\n",
        "\n",
        "Remember in the other notebook we looked at Aaron Judge's wOBA so far in 2025. Judge currently has a wOBA of 0.521 in $n = 191$ plate appearances. The population mean wOBA is $\\mu_0 = 0.318$, and the true standard deviation is $\\sigma = 0.513$. Judge's sample standard deviation is $s = 0.626$. Calculate a z test (or just copy it from the other notebook) and a t test comparing Aaron Judge's wOBA with the league average wOBA"
      ],
      "metadata": {
        "id": "vkbAAUECWoLz"
      }
    },
    {
      "cell_type": "code",
      "source": [
        "#mu and sigma\n",
        "mu = 0.318\n",
        "sigma = 0.513\n",
        "\n",
        "#xbar and s and n\n",
        "xbar = 0.521\n",
        "s = 0.626\n",
        "n = 191\n",
        "\n",
        "#calculate z score and p value in z test\n",
        "z_score = (xbar - mu) / (sigma / np.sqrt(n))\n",
        "p_value_z = 1-norm.cdf(z_score) if z_score > 0 else norm.cdf(z_score)\n",
        "print(p_value_z)\n",
        "\n",
        "#calculate t score and p value in t test. . .\n"
      ],
      "metadata": {
        "id": "b7IxKuAkKc8Y"
      },
      "execution_count": null,
      "outputs": []
    },
    {
      "cell_type": "markdown",
      "source": [
        "Perhaps a dumb question, but given the p values in the previous cell, is Aaron Judge significantly better than an average MLB hitter?"
      ],
      "metadata": {
        "id": "eGxJMPboYpFn"
      }
    },
    {
      "cell_type": "markdown",
      "source": [
        "## **Problem 2**\n",
        "\n",
        "More baseball!! Recently, Will Melville was watching a Rangers game. The announcer was talking about one of the Rangers player's performance against the opposing starting pitcher. I can't remember who it was, so let's assume the hitter was Marcus Semien and the pitcher was JP Sears. Semien and Sears had faced off against each other a number of times and Semien had performed well in those matchups. Suppose that they faced each other a total of $n = 25$ times, and Semien got 10 hits, so his batting average in those 25 at bats was $\\bar{x} = 0.400$, and the standard deviation was $s = 0.49$. In his career, Semien has a batting average against left handed pitchers like Sears of $\\mu_0 = 0.268$ and a true standard deviation of $\\sigma = 0.44$.\n",
        "\n",
        "<br>\n",
        "\n",
        "During the broadcast, the announcer said, \"I was asking Boch [Rangers manager] today about Semien's great performance against Sears and Boch said, 'By the time you get to about 20 at bats between a batter and a pitcher, you start to conclude that a guy really knows how to hit the pitcher...'\"\n",
        "\n",
        "<br>\n",
        "\n",
        "Will Melville rolled his eyes and muted the broadcast. Why? Calculate a p value in a z test and a t test to see if Semien's batting average against Sears is significantly better than his batting average against all left handed pitchers. Is Will right to roll his eyes, or does Boch have the right idea about 20 at bats being enough to determine that a hitter knows how to beat a pitcher?"
      ],
      "metadata": {
        "id": "_QAmDpDvYzdy"
      }
    },
    {
      "cell_type": "code",
      "source": [
        "#mu and sigma\n",
        "mu = 0.268\n",
        "sigma = 0.44\n",
        "\n",
        "#xbar and s and n\n",
        "xbar = 0.400\n",
        "s = 0.49\n",
        "n = 25\n",
        "\n",
        "#calculate z score and p value in z test . . .\n",
        "\n",
        "\n",
        "#calculate the t score and p value in a t test. . .\n"
      ],
      "metadata": {
        "id": "UhuZy10GYyVO"
      },
      "execution_count": null,
      "outputs": []
    },
    {
      "cell_type": "markdown",
      "source": [
        "What does the standard error tell us about our confidence in Semien's performance in 25 at bats against Sears?"
      ],
      "metadata": {
        "id": "T1HEGdmndgpJ"
      }
    },
    {
      "cell_type": "markdown",
      "source": [
        "### **Problem 3**\n",
        "\n",
        "\n",
        "\n",
        "In class think of another one to test, or else I'll do another baseball example (Joc Pederson cold streak to start the year)\n",
        "\n"
      ],
      "metadata": {
        "id": "M-Xnzx_3eKGr"
      }
    },
    {
      "cell_type": "markdown",
      "source": [
        "## **Bonus**\n",
        "\n",
        "If there is time in class or if anyone is interested, talk about how you can use standard error as a quantification of uncertainty to do *regression to the mean* in a projection model. Credit to Tom Tango."
      ],
      "metadata": {
        "id": "r04XJQGMeyA2"
      }
    },
    {
      "cell_type": "markdown",
      "source": [
        "## **Final Note**\n",
        "\n",
        "We've been doing t and z tests the hard way because I want you all to understand the math behind the magic. But in practice when you want to do a t test, you should just use scipy's implementation. The idea of p values and statistical significance also applies to the other statistical tests we've learned about in class, namely KS tests. The only thing that changes is the assumption in the null hypothesis, so you just need to be aware of that/google that before you use the test."
      ],
      "metadata": {
        "id": "1HcHtlf1fBf0"
      }
    },
    {
      "cell_type": "code",
      "source": [
        "from scipy.stats import ttest_1samp, ttest_ind\n",
        "\n",
        "#google the docs to see how to use these, or look in the github in notebooks/07-stat-significance"
      ],
      "metadata": {
        "id": "0euS0InUdq1m"
      },
      "execution_count": null,
      "outputs": []
    },
    {
      "cell_type": "code",
      "source": [],
      "metadata": {
        "id": "gmxomNiYfO2x"
      },
      "execution_count": null,
      "outputs": []
    }
  ]
}