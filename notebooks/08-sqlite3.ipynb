{
 "cells": [
  {
   "cell_type": "markdown",
   "id": "8f1c8328",
   "metadata": {},
   "source": [
    "<a href=\"https://colab.research.google.com/github/rhodes-byu/cs180-winter25/blob/main/notebooks/08-sqlite3.ipynb\" target=\"_parent\"><img src=\"https://colab.research.google.com/assets/colab-badge.svg\" alt=\"Open In Colab\"/></a><p><b>After clicking the \"Open in Colab\" link, copy the notebook to your own Google Drive before getting started, or it will not save your work</b></p>"
   ]
  },
  {
   "cell_type": "markdown",
   "id": "6d7301b0",
   "metadata": {},
   "source": [
    "# Getting Started with SQLite3 in Python\n",
    "\n",
    "This notebook provides a step-by-step guide to using SQLite3 in Python. SQLite is a lightweight, file-based database that is ideal for small to medium applications.\n",
    "\n",
    "## What We Will Cover\n",
    "- How to install SQLite3\n",
    "- How to create a database and connect to it\n",
    "- How to create tables and insert data\n",
    "- How to query, update, and delete data\n",
    "- How to use SQLite3 with Pandas"
   ]
  },
  {
   "cell_type": "code",
   "execution_count": null,
   "id": "fc8069a2",
   "metadata": {},
   "outputs": [],
   "source": [
    "import sqlite3\n",
    "import pandas as pd"
   ]
  },
  {
   "cell_type": "code",
   "execution_count": 2,
   "id": "862bc54e",
   "metadata": {},
   "outputs": [],
   "source": [
    "!curl -o sales.db \"https://raw.githubusercontent.com/rhodes-byu/cs180-winter25/refs/heads/main/databases/sales.db\""
   ]
  },
  {
   "cell_type": "markdown",
   "id": "86b9afd8",
   "metadata": {},
   "source": [
    "### Establish a connection to the database"
   ]
  },
  {
   "cell_type": "code",
   "execution_count": null,
   "id": "2b57dae6",
   "metadata": {},
   "outputs": [],
   "source": [
    "conn = sqlite3.connect('sales.db')\n",
    "print(type(conn))"
   ]
  },
  {
   "cell_type": "code",
   "execution_count": null,
   "id": "98e2dbdc",
   "metadata": {},
   "outputs": [],
   "source": [
    "cursor = conn.cursor()\n",
    "print(type(cursor))"
   ]
  },
  {
   "cell_type": "markdown",
   "id": "727364f8",
   "metadata": {},
   "source": [
    "### Executions of queries"
   ]
  },
  {
   "cell_type": "code",
   "execution_count": null,
   "id": "0f993a98",
   "metadata": {},
   "outputs": [],
   "source": [
    "cursor.execute('SELECT * FROM Artist')"
   ]
  },
  {
   "cell_type": "code",
   "execution_count": 6,
   "id": "90c81fa0",
   "metadata": {},
   "outputs": [],
   "source": [
    "# Fetchall returns a list of tuples with each tuple representing a row in the table \n",
    "artists = cursor.fetchall()\n",
    "\n",
    "# Alternative: Fetchmany(n) returns a list of n tuples\n",
    "# Used for larger dataets (query batches at a time)\n",
    "\n",
    "artists = cursor.fetchmany(10)"
   ]
  },
  {
   "cell_type": "code",
   "execution_count": null,
   "id": "b1e76bcc",
   "metadata": {},
   "outputs": [],
   "source": [
    "artists[:5]"
   ]
  },
  {
   "cell_type": "markdown",
   "id": "a0ed2a03",
   "metadata": {},
   "source": [
    "Note: the fetchall can only be called once. If you call it again, it will return an empty list\n"
   ]
  },
  {
   "cell_type": "code",
   "execution_count": null,
   "id": "e1197047",
   "metadata": {},
   "outputs": [],
   "source": [
    "cursor.fetchall()"
   ]
  },
  {
   "cell_type": "markdown",
   "id": "38293500",
   "metadata": {},
   "source": [
    "A longer query example."
   ]
  },
  {
   "cell_type": "code",
   "execution_count": null,
   "id": "65899edb",
   "metadata": {},
   "outputs": [],
   "source": [
    "query = '''\n",
    "SELECT Artist.Name AS ArtistName, Album.Title AS AlbumTitle\n",
    "FROM Artist\n",
    "JOIN Album ON Artist.ArtistId = Album.ArtistId\n",
    "'''\n",
    "\n",
    "cursor.execute(query)"
   ]
  },
  {
   "cell_type": "code",
   "execution_count": null,
   "id": "1df181d2",
   "metadata": {},
   "outputs": [],
   "source": [
    "artist_album = cursor.fetchall()\n",
    "artist_album[:5]"
   ]
  },
  {
   "cell_type": "markdown",
   "id": "e73d3ad4",
   "metadata": {},
   "source": [
    "### Printing all available tables"
   ]
  },
  {
   "cell_type": "code",
   "execution_count": null,
   "id": "a0ef7db1",
   "metadata": {},
   "outputs": [],
   "source": [
    "cursor.execute(\"SELECT name FROM sqlite_master WHERE type='table';\")\n",
    "tables = cursor.fetchall()\n",
    "tables"
   ]
  },
  {
   "cell_type": "code",
   "execution_count": null,
   "id": "80cadf21",
   "metadata": {},
   "outputs": [],
   "source": [
    "# Close the connection\n",
    "conn.close()"
   ]
  },
  {
   "cell_type": "markdown",
   "id": "cec42294",
   "metadata": {},
   "source": [
    "The `sqlite_master` table in SQLite contains information about all the tables, indexes, triggers, and views in the database. Here are the columns available in the `sqlite_master` table:\n",
    "\n",
    "- **type**: The type of database object, which can be one of 'table', 'index', 'trigger', or 'view'.\n",
    "- **name**: The name of the database object.\n",
    "- **tbl_name**: The name of the table associated with the object (for indexes, triggers, and views).\n",
    "- **rootpage**: The page number of the root b-tree page for tables and indexes.\n",
    "- **sql**: The SQL statement that was used to create the object.\n"
   ]
  },
  {
   "cell_type": "markdown",
   "id": "23ae5736",
   "metadata": {},
   "source": [
    "# Creating a Database"
   ]
  },
  {
   "cell_type": "code",
   "execution_count": 12,
   "id": "8e92b837",
   "metadata": {},
   "outputs": [],
   "source": [
    "# Connect to SQLite database (or create it if it doesn't exist)\n",
    "conn = sqlite3.connect('example.db')\n",
    "\n",
    "# Create a cursor object to interact with the database\n",
    "cursor = conn.cursor()"
   ]
  },
  {
   "cell_type": "markdown",
   "id": "358eb0c3",
   "metadata": {},
   "source": [
    "\n",
    "## Creating a Table\n",
    "\n",
    "Tables store data in a structured format with rows and columns. Below, we create a simple `users` table.\n"
   ]
  },
  {
   "cell_type": "code",
   "execution_count": 13,
   "id": "a7bad7ee",
   "metadata": {},
   "outputs": [],
   "source": [
    "# Create a table named 'users'\n",
    "cursor.execute('''\n",
    "CREATE TABLE IF NOT EXISTS users (\n",
    "    id INTEGER PRIMARY KEY AUTOINCREMENT,\n",
    "    name TEXT NOT NULL,\n",
    "    age INTEGER,\n",
    "    email TEXT UNIQUE\n",
    ")\n",
    "''')\n",
    "\n",
    "# Commit the changes\n",
    "conn.commit()"
   ]
  },
  {
   "cell_type": "markdown",
   "id": "f3a6735b",
   "metadata": {
    "vscode": {
     "languageId": "markdown"
    }
   },
   "source": [
    "In SQLite3, you only need to call `conn.commit()` after executing queries that modify the database. This ensures that the changes you made are permanently saved. Below are the common types of queries that require a commit:\n",
    "\n",
    "- **INSERT Statements:** Adding new records.\n",
    "- **UPDATE Statements:** Modifying existing records.\n",
    "- **DELETE Statements:** Removing records.\n",
    "- **DDL (Data Definition Language) Statements:** These include operations such as:\n",
    "  - `CREATE TABLE`\n",
    "  - `DROP TABLE`\n",
    "  - `ALTER TABLE`\n",
    "\n",
    "For queries that only retrieve data (like **SELECT** statements), calling `conn.commit()` is not necessary because they do not alter the state of the database.\n"
   ]
  },
  {
   "cell_type": "markdown",
   "id": "41245dc1",
   "metadata": {},
   "source": [
    "\n",
    "## Inserting Data\n",
    "\n",
    "We can use the `INSERT INTO` statement to add records to the table.\n"
   ]
  },
  {
   "cell_type": "code",
   "execution_count": null,
   "id": "f65d3144",
   "metadata": {},
   "outputs": [],
   "source": [
    "# Insert data into the users table\n",
    "\n",
    "try:\n",
    "    cursor.execute(\"INSERT INTO users (name, age, email) VALUES ('Alice', 25, 'alice@example.com')\")\n",
    "except sqlite3.IntegrityError as e:\n",
    "    print('Error inserting data:', e)\n",
    "\n",
    "try:\n",
    "    cursor.execute(\"INSERT INTO users (name, age, email) VALUES ('Bob', 30, 'bob@example.com')\")\n",
    "except sqlite3.IntegrityError as e:\n",
    "    print('Error inserting data:', e)\n",
    "\n",
    "# Commit changes\n",
    "conn.commit()\n"
   ]
  },
  {
   "cell_type": "markdown",
   "id": "2ba7bba5",
   "metadata": {},
   "source": [
    "### Incerting multiple lines at a time using `executemany`."
   ]
  },
  {
   "cell_type": "code",
   "execution_count": null,
   "id": "eeeb91a7",
   "metadata": {},
   "outputs": [],
   "source": [
    "# Data to be inserted\n",
    "users = [\n",
    "    ('Charlie', 28, 'charlie@example.com'),\n",
    "    ('David', 35, 'david@example.com'),\n",
    "    ('Eve', 22, 'eve@example.com')\n",
    "]\n",
    "\n",
    "# Insert multiple rows using executemany\n",
    "try:\n",
    "    cursor.executemany(\"INSERT INTO users (name, age, email) VALUES (?, ?, ?)\", users)\n",
    "except sqlite3.IntegrityError as e:\n",
    "    print('Error inserting data:', e)\n",
    "\n",
    "# Commit changes\n",
    "conn.commit()"
   ]
  },
  {
   "cell_type": "markdown",
   "id": "c70288f2",
   "metadata": {},
   "source": [
    "Note the usage of ? as placeholders. The tuple of ?'s must match the number of columns."
   ]
  },
  {
   "cell_type": "code",
   "execution_count": null,
   "id": "b6f11f57",
   "metadata": {},
   "outputs": [],
   "source": [
    "cursor.execute(\"SELECT * FROM users\")\n",
    "cursor.fetchall()"
   ]
  },
  {
   "cell_type": "markdown",
   "id": "fb41c553",
   "metadata": {},
   "source": [
    "\n",
    "## Updating Data\n",
    "\n",
    "To update existing records, we use the `UPDATE` statement.\n"
   ]
  },
  {
   "cell_type": "code",
   "execution_count": 17,
   "id": "90c7199a",
   "metadata": {},
   "outputs": [],
   "source": [
    "# Update a user's age\n",
    "cursor.execute(\"UPDATE users SET age = 26 WHERE email = 'alice@example.com'\")\n",
    "\n",
    "# Commit changes\n",
    "conn.commit()"
   ]
  },
  {
   "cell_type": "code",
   "execution_count": null,
   "id": "5a063d10",
   "metadata": {},
   "outputs": [],
   "source": [
    "cursor.execute(\"SELECT * FROM users\")\n",
    "cursor.fetchall()"
   ]
  },
  {
   "cell_type": "markdown",
   "id": "28422e5d",
   "metadata": {},
   "source": [
    "\n",
    "## Deleting Data\n",
    "\n",
    "To remove records, we use the `DELETE` statement.\n"
   ]
  },
  {
   "cell_type": "code",
   "execution_count": 19,
   "id": "c24b0fce",
   "metadata": {},
   "outputs": [],
   "source": [
    "# Delete a user\n",
    "cursor.execute(\"DELETE FROM users WHERE name = 'Bob'\")\n",
    "\n",
    "# Commit changes\n",
    "conn.commit()"
   ]
  },
  {
   "cell_type": "markdown",
   "id": "29923e70",
   "metadata": {},
   "source": [
    "\n",
    "## Closing the Connection\n",
    "\n",
    "Always close the database connection when you're done to free up resources.\n"
   ]
  },
  {
   "cell_type": "code",
   "execution_count": null,
   "id": "a1c49642",
   "metadata": {},
   "outputs": [],
   "source": [
    "# Close the connection\n",
    "conn.close()"
   ]
  },
  {
   "cell_type": "markdown",
   "id": "c260506d",
   "metadata": {},
   "source": [
    "## Pandas and SQLite"
   ]
  },
  {
   "cell_type": "code",
   "execution_count": 21,
   "id": "5904fe8a",
   "metadata": {},
   "outputs": [],
   "source": [
    "conn = sqlite3.connect('sales.db')\n",
    "cursor = conn.cursor()"
   ]
  },
  {
   "cell_type": "code",
   "execution_count": null,
   "id": "c290aa62",
   "metadata": {},
   "outputs": [],
   "source": [
    "cursor.execute(\"SELECT name FROM sqlite_master WHERE type='table';\")\n",
    "tables = cursor.fetchall()\n",
    "tables"
   ]
  },
  {
   "cell_type": "code",
   "execution_count": null,
   "id": "8662cbf2",
   "metadata": {},
   "outputs": [],
   "source": [
    "# Read the users table into a Pandas DataFrame\n",
    "df = pd.read_sql_query(\"SELECT * FROM Artist\", conn)\n",
    "df.head()\n"
   ]
  },
  {
   "cell_type": "code",
   "execution_count": 24,
   "id": "cedc0f1b",
   "metadata": {},
   "outputs": [],
   "source": [
    "query = \"SELECT * FROM InvoiceLine\""
   ]
  },
  {
   "cell_type": "code",
   "execution_count": null,
   "id": "a2498506",
   "metadata": {},
   "outputs": [],
   "source": [
    "# Execute the query\n",
    "result = pd.read_sql_query(query, conn)\n",
    "\n",
    "# Display the result\n",
    "result.head()"
   ]
  },
  {
   "cell_type": "code",
   "execution_count": 26,
   "id": "5ac37549",
   "metadata": {},
   "outputs": [],
   "source": [
    "query = \"\"\"\n",
    "SELECT InvoiceID, Track.Name AS NAME, SUM(Quantity) as TotalSold\n",
    "FROM InvoiceLine\n",
    "JOIN Track ON InvoiceLine.TrackID = Track.TrackID\n",
    "GROUP BY Track.Name\n",
    "HAVING SUM(Quantity) > 2\n",
    "ORDER BY TotalSold DESC;\n",
    "\"\"\""
   ]
  },
  {
   "cell_type": "code",
   "execution_count": null,
   "id": "506854d7",
   "metadata": {},
   "outputs": [],
   "source": [
    "pd.read_sql_query(query, conn)"
   ]
  },
  {
   "cell_type": "markdown",
   "id": "30cfd15f",
   "metadata": {},
   "source": [
    "# Now it's your turn!"
   ]
  },
  {
   "cell_type": "markdown",
   "id": "8eec43b1",
   "metadata": {
    "vscode": {
     "languageId": "markdown"
    }
   },
   "source": [
    "Below are the questions designed to explore and analyze the data in the `sales.db` database:\n",
    "\n",
    "1. **How many records are there in the `Invoice` table?**\n",
    "\n",
    "2. **What are the names of all the artists in the `Artist` table?**\n",
    "\n",
    "3. **What is the total revenue generated from all invoices?**\n",
    "\n",
    "4. **Which customer has made the most purchases?**\n",
    "\n",
    "5. **What are the top 5 most sold tracks?**\n",
    "\n",
    "6. **What is the average unit price of tracks sold?**\n",
    "\n",
    "7. **How many customers are there in each country?**\n",
    "\n",
    "8. **Which employee has generated the most revenue from their sales?**\n",
    "\n",
    "9. **What are the top 3 genres by the number of tracks?**\n"
   ]
  },
  {
   "cell_type": "markdown",
   "id": "8a944d21",
   "metadata": {
    "vscode": {
     "languageId": "markdown"
    }
   },
   "source": [
    "### Answer Below:"
   ]
  },
  {
   "cell_type": "code",
   "execution_count": null,
   "id": "bd607d6b",
   "metadata": {},
   "outputs": [],
   "source": []
  }
 ],
 "metadata": {
  "kernelspec": {
   "display_name": "base",
   "language": "python",
   "name": "python3"
  },
  "language_info": {
   "codemirror_mode": {
    "name": "ipython",
    "version": 3
   },
   "file_extension": ".py",
   "mimetype": "text/x-python",
   "name": "python",
   "nbconvert_exporter": "python",
   "pygments_lexer": "ipython3",
   "version": "3.11.4"
  }
 },
 "nbformat": 4,
 "nbformat_minor": 5
}
