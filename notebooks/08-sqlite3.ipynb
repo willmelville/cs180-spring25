{
  "cells": [
    {
      "cell_type": "markdown",
      "id": "8f1c8328",
      "metadata": {
        "id": "8f1c8328"
      },
      "source": [
        "<a href=\"https://colab.research.google.com/github/rhodes-byu/cs180-winter25/blob/main/notebooks/08-sqlite3.ipynb\" target=\"_parent\"><img src=\"https://colab.research.google.com/assets/colab-badge.svg\" alt=\"Open In Colab\"/></a><p><b>After clicking the \"Open in Colab\" link, copy the notebook to your own Google Drive before getting started, or it will not save your work</b></p>"
      ]
    },
    {
      "cell_type": "markdown",
      "id": "6d7301b0",
      "metadata": {
        "id": "6d7301b0"
      },
      "source": [
        "# Getting Started with SQLite3 in Python\n",
        "\n",
        "This notebook provides a step-by-step guide to using SQLite3 in Python. SQLite is a lightweight, file-based database that is ideal for small to medium applications.\n",
        "\n",
        "## What We Will Cover\n",
        "- How to install SQLite3\n",
        "- How to create a database and connect to it\n",
        "- How to create tables and insert data\n",
        "- How to query, update, and delete data\n",
        "- How to use SQLite3 with Pandas"
      ]
    },
    {
      "cell_type": "markdown",
      "source": [
        "**Install**\n",
        "\n",
        "There are instructions on canvas in the \"Reference Materials\" module for how to install SQLite in virtual studios as well as how to run in google colab. I recommend sticking with Colab because it's easy, and this notebook shows you how to connect to a database and run queries. If you do want to run it in VS code for some reason, I may not be able to help you as much if issues arise because I've never done that before, but the TAs, particularly Patrick Willmott, may be more helpful with that."
      ],
      "metadata": {
        "id": "HUsDaZXuTmih"
      },
      "id": "HUsDaZXuTmih"
    },
    {
      "cell_type": "code",
      "execution_count": null,
      "id": "fc8069a2",
      "metadata": {
        "id": "fc8069a2"
      },
      "outputs": [],
      "source": [
        "import sqlite3\n",
        "import pandas as pd"
      ]
    },
    {
      "cell_type": "code",
      "source": [
        "!curl -o sales.db \"https://raw.githubusercontent.com/willmelville/cs180-spring25/refs/heads/main/databases/sales.db\""
      ],
      "metadata": {
        "id": "rrWiXABZUXhp"
      },
      "id": "rrWiXABZUXhp",
      "execution_count": null,
      "outputs": []
    },
    {
      "cell_type": "markdown",
      "id": "86b9afd8",
      "metadata": {
        "id": "86b9afd8"
      },
      "source": [
        "### Establish a connection to the database"
      ]
    },
    {
      "cell_type": "code",
      "execution_count": null,
      "id": "2b57dae6",
      "metadata": {
        "id": "2b57dae6"
      },
      "outputs": [],
      "source": [
        "#sqlite3.connect creates a connection to the database. It also creates a database file if the inputted database does not exist\n",
        "conn = sqlite3.connect('sales.db')\n",
        "print(type(conn))"
      ]
    },
    {
      "cell_type": "code",
      "execution_count": null,
      "id": "98e2dbdc",
      "metadata": {
        "id": "98e2dbdc"
      },
      "outputs": [],
      "source": [
        "#a cursor object is the object that manages the actual traversal of the database\n",
        "cursor = conn.cursor()\n",
        "print(type(cursor))"
      ]
    },
    {
      "cell_type": "markdown",
      "source": [
        "**Note from Will Melville**: in my experience with SQL, you usually run SQL queries in a SQL editor that is connected to your company's databases (dbeaver, databricks, etc.). In a SQL editor (in class maybe show what that looks like for the Rangers) you don't have to worry about conn objects and cursor objects and closing the connections and all that stuff, you just type in your query and hit run. With that being said, we often need to read data from a database into python/pandas to analyze it, so learning about conns and cursors can be helpful for that. I never have to do that with the Rangers because we use databricks, so I'm rusty"
      ],
      "metadata": {
        "id": "pk3M1slLXa77"
      },
      "id": "pk3M1slLXa77"
    },
    {
      "cell_type": "markdown",
      "id": "727364f8",
      "metadata": {
        "id": "727364f8"
      },
      "source": [
        "### Executions of queries"
      ]
    },
    {
      "cell_type": "code",
      "execution_count": null,
      "id": "0f993a98",
      "metadata": {
        "id": "0f993a98"
      },
      "outputs": [],
      "source": [
        "#the string in the execute function is the actual SQL query\n",
        "cursor.execute('SELECT * FROM Artist')\n",
        "\n",
        "#if we expect our query to return values, like we do in the previous query,\n",
        "#we need to run a fetching function. fetchall returns all the rows that were returned.\n",
        "#Specifically, Fetchall returns a list of tuples with each tuple representing a row in the table\n",
        "artists = cursor.fetchall()\n",
        "artists"
      ]
    },
    {
      "cell_type": "code",
      "source": [
        "# Alternatively: Fetchmany(n) returns a list of n tuples\n",
        "# Used for larger datasets (query batches at a time)\n",
        "cursor.execute('SELECT * FROM Artist')\n",
        "artists = cursor.fetchmany(10)\n",
        "artists"
      ],
      "metadata": {
        "id": "fRIQ4zwOW09E"
      },
      "id": "fRIQ4zwOW09E",
      "execution_count": null,
      "outputs": []
    },
    {
      "cell_type": "code",
      "execution_count": null,
      "id": "b1e76bcc",
      "metadata": {
        "id": "b1e76bcc"
      },
      "outputs": [],
      "source": [
        "artists[:5]"
      ]
    },
    {
      "cell_type": "markdown",
      "id": "a0ed2a03",
      "metadata": {
        "id": "a0ed2a03"
      },
      "source": [
        "Note: the fetchall can only be called once. If you call it again, it will return an empty list\n"
      ]
    },
    {
      "cell_type": "code",
      "execution_count": null,
      "id": "e1197047",
      "metadata": {
        "id": "e1197047"
      },
      "outputs": [],
      "source": [
        "cursor.fetchall()"
      ]
    },
    {
      "cell_type": "markdown",
      "id": "38293500",
      "metadata": {
        "id": "38293500"
      },
      "source": [
        "A longer query example."
      ]
    },
    {
      "cell_type": "code",
      "execution_count": null,
      "id": "65899edb",
      "metadata": {
        "id": "65899edb"
      },
      "outputs": [],
      "source": [
        "query = '''\n",
        "SELECT Artist.Name AS ArtistName, Album.Title AS AlbumTitle\n",
        "FROM Artist\n",
        "JOIN Album ON Artist.ArtistId = Album.ArtistId\n",
        "'''\n",
        "\n",
        "cursor.execute(query)"
      ]
    },
    {
      "cell_type": "code",
      "execution_count": null,
      "id": "1df181d2",
      "metadata": {
        "id": "1df181d2"
      },
      "outputs": [],
      "source": [
        "artist_album = cursor.fetchall()\n",
        "artist_album[:5]"
      ]
    },
    {
      "cell_type": "markdown",
      "id": "e73d3ad4",
      "metadata": {
        "id": "e73d3ad4"
      },
      "source": [
        "### Printing all available tables"
      ]
    },
    {
      "cell_type": "code",
      "execution_count": null,
      "id": "a0ef7db1",
      "metadata": {
        "id": "a0ef7db1"
      },
      "outputs": [],
      "source": [
        "cursor.execute(\"SELECT name FROM sqlite_master WHERE type='table';\")\n",
        "tables = cursor.fetchall()\n",
        "tables"
      ]
    },
    {
      "cell_type": "code",
      "execution_count": null,
      "id": "80cadf21",
      "metadata": {
        "id": "80cadf21"
      },
      "outputs": [],
      "source": [
        "# Close the connection\n",
        "conn.close()"
      ]
    },
    {
      "cell_type": "markdown",
      "id": "cec42294",
      "metadata": {
        "id": "cec42294"
      },
      "source": [
        "The `sqlite_master` table in SQLite contains information about all the tables, indexes, triggers, and views in the database. Here are the columns available in the `sqlite_master` table:\n",
        "\n",
        "- **type**: The type of database object, which can be one of 'table', 'index', 'trigger', or 'view'.\n",
        "- **name**: The name of the database object.\n",
        "- **tbl_name**: The name of the table associated with the object (for indexes, triggers, and views).\n",
        "- **rootpage**: The page number of the root b-tree page for tables and indexes.\n",
        "- **sql**: The SQL statement that was used to create the object.\n"
      ]
    },
    {
      "cell_type": "markdown",
      "id": "23ae5736",
      "metadata": {
        "id": "23ae5736"
      },
      "source": [
        "# Creating a Database"
      ]
    },
    {
      "cell_type": "code",
      "execution_count": null,
      "id": "8e92b837",
      "metadata": {
        "id": "8e92b837"
      },
      "outputs": [],
      "source": [
        "# Connect to SQLite database (or create it if it doesn't exist)\n",
        "conn = sqlite3.connect('example.db')\n",
        "\n",
        "# Create a cursor object to interact with the database\n",
        "cursor = conn.cursor()"
      ]
    },
    {
      "cell_type": "markdown",
      "id": "358eb0c3",
      "metadata": {
        "id": "358eb0c3"
      },
      "source": [
        "\n",
        "## Creating a Table\n",
        "\n",
        "Tables store data in a structured format with rows and columns. Below, we create a simple `users` table.\n"
      ]
    },
    {
      "cell_type": "code",
      "execution_count": null,
      "id": "a7bad7ee",
      "metadata": {
        "id": "a7bad7ee"
      },
      "outputs": [],
      "source": [
        "# Create a table named 'users'\n",
        "cursor.execute('''\n",
        "CREATE TABLE IF NOT EXISTS users (\n",
        "    id INTEGER PRIMARY KEY AUTOINCREMENT,\n",
        "    name TEXT NOT NULL,\n",
        "    age INTEGER,\n",
        "    email TEXT UNIQUE\n",
        ")\n",
        "''')\n",
        "\n",
        "# Commit the changes\n",
        "conn.commit()"
      ]
    },
    {
      "cell_type": "markdown",
      "id": "f3a6735b",
      "metadata": {
        "vscode": {
          "languageId": "markdown"
        },
        "id": "f3a6735b"
      },
      "source": [
        "In SQLite3, you only need to call `conn.commit()` after executing queries that modify the database. This ensures that the changes you made are permanently saved. Below are the common types of queries that require a commit:\n",
        "\n",
        "- **INSERT Statements:** Adding new records.\n",
        "- **UPDATE Statements:** Modifying existing records.\n",
        "- **DELETE Statements:** Removing records.\n",
        "- **DDL (Data Definition Language) Statements:** These include operations such as:\n",
        "  - `CREATE TABLE`\n",
        "  - `DROP TABLE`\n",
        "  - `ALTER TABLE`\n",
        "\n",
        "For queries that only retrieve data (like **SELECT** statements), calling `conn.commit()` is not necessary because they do not alter the state of the database.\n"
      ]
    },
    {
      "cell_type": "markdown",
      "id": "41245dc1",
      "metadata": {
        "id": "41245dc1"
      },
      "source": [
        "\n",
        "## Inserting Data\n",
        "\n",
        "We can use the `INSERT INTO` statement to add records to the table.\n"
      ]
    },
    {
      "cell_type": "code",
      "execution_count": null,
      "id": "f65d3144",
      "metadata": {
        "id": "f65d3144"
      },
      "outputs": [],
      "source": [
        "# Insert data into the users table\n",
        "\n",
        "try:\n",
        "    cursor.execute(\"INSERT INTO users (name, age, email) VALUES ('Alice', 25, 'alice@example.com')\")\n",
        "except sqlite3.IntegrityError as e:\n",
        "    print('Error inserting data:', e)\n",
        "\n",
        "try:\n",
        "    cursor.execute(\"INSERT INTO users (name, age, email) VALUES ('Bob', 30, 'bob@example.com')\")\n",
        "except sqlite3.IntegrityError as e:\n",
        "    print('Error inserting data:', e)\n",
        "\n",
        "# Commit changes\n",
        "conn.commit()\n"
      ]
    },
    {
      "cell_type": "code",
      "source": [
        "#did it work??\n",
        "\n",
        "cursor.execute('select * from users')\n",
        "cursor.fetchall()"
      ],
      "metadata": {
        "id": "eB_4-bEkbPg_"
      },
      "id": "eB_4-bEkbPg_",
      "execution_count": null,
      "outputs": []
    },
    {
      "cell_type": "markdown",
      "id": "2ba7bba5",
      "metadata": {
        "id": "2ba7bba5"
      },
      "source": [
        "### Incerting multiple lines at a time using `executemany`."
      ]
    },
    {
      "cell_type": "code",
      "execution_count": null,
      "id": "eeeb91a7",
      "metadata": {
        "id": "eeeb91a7"
      },
      "outputs": [],
      "source": [
        "# Data to be inserted\n",
        "users = [\n",
        "    ('Charlie', 28, 'charlie@example.com'),\n",
        "    ('David', 35, 'david@example.com'),\n",
        "    ('Eve', 22, 'eve@example.com')\n",
        "]\n",
        "\n",
        "# Insert multiple rows using executemany\n",
        "try:\n",
        "    cursor.executemany(\"INSERT INTO users (name, age, email) VALUES (?, ?, ?)\", users)\n",
        "except sqlite3.IntegrityError as e:\n",
        "    print('Error inserting data:', e)\n",
        "\n",
        "# Commit changes\n",
        "conn.commit()"
      ]
    },
    {
      "cell_type": "markdown",
      "id": "c70288f2",
      "metadata": {
        "id": "c70288f2"
      },
      "source": [
        "Note the usage of ? as placeholders. The tuple of ?'s must match the number of columns."
      ]
    },
    {
      "cell_type": "code",
      "execution_count": null,
      "id": "b6f11f57",
      "metadata": {
        "id": "b6f11f57"
      },
      "outputs": [],
      "source": [
        "cursor.execute(\"SELECT * FROM users\")\n",
        "cursor.fetchall()"
      ]
    },
    {
      "cell_type": "markdown",
      "id": "fb41c553",
      "metadata": {
        "id": "fb41c553"
      },
      "source": [
        "\n",
        "## Updating Data\n",
        "\n",
        "To update existing records, we use the `UPDATE` statement.\n"
      ]
    },
    {
      "cell_type": "code",
      "execution_count": null,
      "id": "90c7199a",
      "metadata": {
        "id": "90c7199a"
      },
      "outputs": [],
      "source": [
        "# Update a user's age\n",
        "cursor.execute(\"UPDATE users SET age = 26 WHERE email = 'alice@example.com'\")\n",
        "\n",
        "# Commit changes\n",
        "conn.commit()"
      ]
    },
    {
      "cell_type": "code",
      "execution_count": null,
      "id": "5a063d10",
      "metadata": {
        "id": "5a063d10"
      },
      "outputs": [],
      "source": [
        "cursor.execute(\"SELECT * FROM users\")\n",
        "cursor.fetchall()"
      ]
    },
    {
      "cell_type": "markdown",
      "id": "28422e5d",
      "metadata": {
        "id": "28422e5d"
      },
      "source": [
        "\n",
        "## Deleting Data\n",
        "\n",
        "To remove records, we use the `DELETE` statement.\n"
      ]
    },
    {
      "cell_type": "code",
      "execution_count": null,
      "id": "c24b0fce",
      "metadata": {
        "id": "c24b0fce"
      },
      "outputs": [],
      "source": [
        "# Delete a user\n",
        "cursor.execute(\"DELETE FROM users WHERE name = 'Bob'\")\n",
        "\n",
        "# Commit changes\n",
        "conn.commit()"
      ]
    },
    {
      "cell_type": "code",
      "source": [
        "cursor.execute(\"SELECT * FROM users\")\n",
        "cursor.fetchall()"
      ],
      "metadata": {
        "id": "8_beS73cbfgS"
      },
      "id": "8_beS73cbfgS",
      "execution_count": null,
      "outputs": []
    },
    {
      "cell_type": "markdown",
      "id": "29923e70",
      "metadata": {
        "id": "29923e70"
      },
      "source": [
        "\n",
        "## Closing the Connection\n",
        "\n",
        "Always close the database connection when you're done to free up resources.\n"
      ]
    },
    {
      "cell_type": "code",
      "execution_count": null,
      "id": "a1c49642",
      "metadata": {
        "id": "a1c49642"
      },
      "outputs": [],
      "source": [
        "# Close the connection\n",
        "conn.close()"
      ]
    },
    {
      "cell_type": "markdown",
      "id": "c260506d",
      "metadata": {
        "id": "c260506d"
      },
      "source": [
        "## Pandas and SQLite"
      ]
    },
    {
      "cell_type": "code",
      "execution_count": null,
      "id": "5904fe8a",
      "metadata": {
        "id": "5904fe8a"
      },
      "outputs": [],
      "source": [
        "conn = sqlite3.connect('sales.db')\n",
        "cursor = conn.cursor()"
      ]
    },
    {
      "cell_type": "code",
      "execution_count": null,
      "id": "c290aa62",
      "metadata": {
        "id": "c290aa62"
      },
      "outputs": [],
      "source": [
        "cursor.execute(\"SELECT name FROM sqlite_master WHERE type='table';\")\n",
        "tables = cursor.fetchall()\n",
        "tables"
      ]
    },
    {
      "cell_type": "code",
      "execution_count": null,
      "id": "8662cbf2",
      "metadata": {
        "id": "8662cbf2"
      },
      "outputs": [],
      "source": [
        "# Read the users table into a Pandas DataFrame\n",
        "df = pd.read_sql_query(\"SELECT * FROM Artist\", conn)\n",
        "df.head()\n"
      ]
    },
    {
      "cell_type": "code",
      "execution_count": null,
      "id": "cedc0f1b",
      "metadata": {
        "id": "cedc0f1b"
      },
      "outputs": [],
      "source": [
        "query = \"SELECT * FROM InvoiceLine\""
      ]
    },
    {
      "cell_type": "code",
      "execution_count": null,
      "id": "a2498506",
      "metadata": {
        "id": "a2498506"
      },
      "outputs": [],
      "source": [
        "# Execute the query\n",
        "result = pd.read_sql_query(query, conn)\n",
        "\n",
        "# Display the result\n",
        "result.head()"
      ]
    },
    {
      "cell_type": "code",
      "execution_count": null,
      "id": "5ac37549",
      "metadata": {
        "id": "5ac37549"
      },
      "outputs": [],
      "source": [
        "query = \"\"\"\n",
        "SELECT InvoiceID, Track.Name AS NAME, SUM(Quantity) as TotalSold\n",
        "FROM InvoiceLine\n",
        "JOIN Track ON InvoiceLine.TrackID = Track.TrackID\n",
        "GROUP BY Track.Name\n",
        "HAVING SUM(Quantity) > 2\n",
        "ORDER BY TotalSold DESC;\n",
        "\"\"\""
      ]
    },
    {
      "cell_type": "code",
      "execution_count": null,
      "id": "506854d7",
      "metadata": {
        "id": "506854d7"
      },
      "outputs": [],
      "source": [
        "pd.read_sql_query(query, conn)"
      ]
    },
    {
      "cell_type": "markdown",
      "id": "30cfd15f",
      "metadata": {
        "id": "30cfd15f"
      },
      "source": [
        "# Now it's your turn!"
      ]
    },
    {
      "cell_type": "markdown",
      "id": "8eec43b1",
      "metadata": {
        "vscode": {
          "languageId": "markdown"
        },
        "id": "8eec43b1"
      },
      "source": [
        "Below are the questions designed to explore and analyze the data in the `sales.db` database:\n",
        "\n",
        "1. **How many records are there in the `Invoice` table?**\n",
        "\n",
        "2. **What are the names of all the artists in the `Artist` table?**\n",
        "\n",
        "3. **What is the total revenue generated from all invoices?**\n",
        "\n",
        "4. **Which customer has made the most purchases?**\n",
        "\n",
        "5. **What are the top 5 most sold tracks?**\n",
        "\n",
        "6. **What is the average unit price of tracks sold?**\n",
        "\n",
        "7. **How many customers are there in each country?**\n",
        "\n",
        "8. **Which employee has generated the most revenue from their sales?**\n",
        "\n",
        "9. **What are the top 3 genres by the number of tracks?**\n"
      ]
    },
    {
      "cell_type": "markdown",
      "id": "8a944d21",
      "metadata": {
        "vscode": {
          "languageId": "markdown"
        },
        "id": "8a944d21"
      },
      "source": [
        "### Answer Below:"
      ]
    },
    {
      "cell_type": "code",
      "execution_count": null,
      "id": "bd607d6b",
      "metadata": {
        "id": "bd607d6b"
      },
      "outputs": [],
      "source": []
    }
  ],
  "metadata": {
    "kernelspec": {
      "display_name": "base",
      "language": "python",
      "name": "python3"
    },
    "language_info": {
      "codemirror_mode": {
        "name": "ipython",
        "version": 3
      },
      "file_extension": ".py",
      "mimetype": "text/x-python",
      "name": "python",
      "nbconvert_exporter": "python",
      "pygments_lexer": "ipython3",
      "version": "3.11.4"
    },
    "colab": {
      "provenance": []
    }
  },
  "nbformat": 4,
  "nbformat_minor": 5
}