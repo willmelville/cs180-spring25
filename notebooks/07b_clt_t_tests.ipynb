{
  "nbformat": 4,
  "nbformat_minor": 0,
  "metadata": {
    "colab": {
      "provenance": []
    },
    "kernelspec": {
      "name": "python3",
      "display_name": "Python 3"
    },
    "language_info": {
      "name": "python"
    }
  },
  "cells": [
    {
      "cell_type": "markdown",
      "source": [
        "##**Central Limit Theorem**\n",
        "\n",
        "Suppose that $x_1$, $x_2,$ . . . $x_n$ are independent random variables drawn from a distribution with mean $\\mu$ and standard deviation $\\sigma$. The sample mean is $\\bar{x} = \\frac{x_1+x_2+\\ldots+x_n}{n}$.\n",
        "\n",
        "<br>\n",
        "\n",
        "The central limit theorem states that as $n \\rightarrow \\infty$, the sample mean random variable $\\bar{x}$ converges in distribution to $\\mathcal{N}(\\mu, \\frac{\\sigma}{\\sqrt{n}})$, which is the normal distribution with mean $\\mu$ and standard deviation $\\frac{\\sigma}{\\sqrt{n}}$.\n",
        "\n",
        "<br>\n",
        "\n",
        "The standard deviation of the sample mean distribution, $\\frac{\\sigma}{\\sqrt{n}}$, is called the *standard error*, but you can simply think of it as the standard deviation of the sample mean. Thinking of it as the standard deviation of the sample mean will come in handy later!\n",
        "\n",
        "<br>\n",
        "\n",
        "If we choose to think of the standard error as the standard deviation of the sample mean, we can redefine the central limit theorem using z scores. Let $z_n = \\frac{\\bar{x} - \\mu}{\\sigma/\\sqrt{n}}$, which is of course the z score of the sample mean $\\bar{x}$. Then by central limit theorem, we know that as $n \\rightarrow \\infty$, the random variable $z_n$ converges to the standard normal distribution $\\mathcal{N}(0, 1)$.\n",
        "\n",
        "<br>\n",
        "\n",
        "**What does the central limit theorem mean for data scientists?**\n",
        "\n",
        "Ignoring the technical math, the central limit theorem simply implies that when we calculate the sample mean of a variable in our data as long as $n$ is reasonably large, we can safely assume that the sample mean is normally distributed with mean $\\mu$ and standard deviation $\\sigma / \\sqrt{n}$, where $n$ is the number of observations in the data. It turns out that is very useful!\n",
        "\n",
        "<br>\n",
        "\n",
        "**Key Takeaway:** When I calculate a sample mean $\\bar{x}$, I can reasonably assume that it is normally distributed with mean $\\bar{x}$ and standard deviation given by the standard error $\\frac{\\sigma}{\\sqrt{n}}$.\n",
        "\n",
        "<br>\n",
        "\n",
        "**Side note**: Some rigorous mathematicians may argue a little bit with that key takeaway because the mean should really be assumed to be $\\mu$ not $\\bar{x}$. However, in data science we usually don't know the true mean $\\mu$, but we do know that $\\bar{x}$ converges to $\\mu$ as $n \\rightarrow \\infty$ by the law of large numbers, so your instructor Will Melville would say in data science it's usually fine to assume that the normal distribution described in the key takeaway has mean $\\bar{x}$.\n",
        "\n",
        "<br>\n",
        "\n",
        "\n",
        "**Important note on standard error**: the standard error is simply the standard deviation of the sample mean, but a potentially more useful and intuitive way to think of it is it measures the confidence/uncertainty we have that the sample mean represents the true underlying population mean. The larger the standard error, the less confident/more uncertain we are about our sample means. The smaller the standard error, the more confident/less uncertain we are about our sample means."
      ],
      "metadata": {
        "id": "fo32-U1rqGYr"
      }
    },
    {
      "cell_type": "markdown",
      "source": [
        "##**CLT Practice**\n",
        "\n",
        "In the following cells, I provide a function that takes as input a probability distribution (from scipy.stats) and a sample size $n$. The function then draws $n$ samples from the inputted probability distribution a large number of times to approximate the distribution of sample means. It plots a histogram of the sample means. Suppose that the inputted probability distribution has mean $\\mu$ and standard deviation $\\sigma$. The function also plots the normal distribution with mean $\\mu$ and standard deviation given by the standard error $\\sigma / \\sqrt{n}$.\n",
        "\n",
        "<br>\n",
        "\n",
        "Play around with this function! Here are some questions you may want to answer:\n",
        "\n",
        "*   Does the shape of the distribution of sample means depend on the inputted distribution?\n",
        "\n",
        "*   How does changing $n$ change the shape of the sample mean distribution? (Think about this before you test it out. If standard error represents confidence in the mean, does increasing $n$ increase or decrease our confidence in the sample mean? How should that manifest itself in the distribution of sample means?)\n",
        "\n",
        "* How does sampling from a distribution with mean $\\mu_1$ versus $\\mu_2$ change the sample mean distribution?\n",
        "\n",
        "* How does sampling from a distribution with standard deviation $sigma_1$ versus $\\sigma_2$ change the sample mean distribution?\n",
        "\n",
        "* How does sampling from two different distributions with the same means and standard deviations change the sample mean distribution?\n",
        "\n",
        "\n"
      ],
      "metadata": {
        "id": "vbc5pVtEyWwM"
      }
    },
    {
      "cell_type": "code",
      "execution_count": null,
      "metadata": {
        "id": "ltarJ1HZqBRV"
      },
      "outputs": [],
      "source": [
        "import numpy as np\n",
        "from matplotlib import pyplot as plt\n",
        "\n",
        "#for probability distributions, look up the docs on scipy.stats! Here I import a normal distribution, a gamma, a beta, a poisson, and a binomial, but there are many others!\n",
        "from scipy.stats import norm, gamma, beta, poisson, binom"
      ]
    },
    {
      "cell_type": "code",
      "source": [
        "#the central limit theorem function!\n",
        "\n",
        "def central_limit_theorem(dist, n, num_sample_means = 10000, hist_bins = 25):\n",
        "  \"\"\"\n",
        "  dist is one of the scipy.stats probability distributions with appropriate parameters defined.\n",
        "  For example, you could input dist = norm(loc = 0, scale = 1) for the standard normal, or you could input\n",
        "  binom(n = 1, p = 0.5) for the binomial distribution with one trial (one coin flip) where probability of success (heads)\n",
        "  is 0.5.\n",
        "\n",
        "  n is the number of samples used to calculate the sample mean. Remember by the central limit theorem, as n goes to infinity,\n",
        "  we converge to a normal distribution!\n",
        "\n",
        "  num_sample_means is an optional input that says how many sample means to calculate before plotting the histogram. You probably want to\n",
        "  keep this number large. Default value is 10,000\n",
        "\n",
        "  hist_bins is anoter optional input that allows you to set the number of histogram bins to help make the plot look good\n",
        "  \"\"\"\n",
        "\n",
        "  #get the true mean and standard deviation\n",
        "  mu = dist.mean()\n",
        "  sigma = dist.std()\n",
        "\n",
        "  #sample the sample means\n",
        "  sample_means = np.mean(dist.rvs(size = int(n*num_sample_means)).reshape((num_sample_means, n)), axis = 1)\n",
        "  assert len(sample_means) == num_sample_means\n",
        "\n",
        "  #plot\n",
        "  plt.hist(sample_means, density = True, bins = hist_bins, alpha = 0.8, label = 'Samples')\n",
        "  x = np.linspace(np.min(sample_means), np.max(sample_means), 100)\n",
        "  plt.plot(x, norm(loc = mu, scale = sigma / np.sqrt(n)).pdf(x), 'b--', label = 'Theoretical Distribution')\n",
        "  plt.legend()\n",
        "  plt.title('Distribution of Sample Means')\n",
        "  plt.show()\n"
      ],
      "metadata": {
        "id": "mIc5Gtz-0vbW"
      },
      "execution_count": null,
      "outputs": []
    },
    {
      "cell_type": "markdown",
      "source": [
        "## **CLT and z tests**\n",
        "\n",
        "The goal of a t test is to test the null hypethesis that the sample mean is equal to some other known mean $\\mu$. The central limit theorem can help us here! We know from the central limit theorem that if our samples are supposed to have been drawn from a distribution with mean $\\mu$, then the sample mean $\\bar{x}$ is normally distributed with mean $\\mu$ and standard deviation given by the standard error $\\sigma / \\sqrt{n}$. We also know that if we calculate a z score for teh sample mean, it is standard normally distributed. Thus, in a z-test we first calculate a z score for the sample mean as $z = \\frac{\\bar{x} - \\mu}{\\sigma / \\sqrt{n}}$. Then we see calculate the density of values that are as extreme or more extreme than $z$ in the standard normal distribution. We can do this in scipy using\n",
        "\n",
        "`1 - norm.cdf(z)` if $z > 0$ or\n",
        "\n",
        "\n",
        "`norm.cdf(z)` if $z \\leq 0$.\n",
        "\n",
        "What that code does is it calculates the areas under the normal density cuve highlighted in red in the following figures. If $z \\leq 0$ it calculates the error highlighted in red on the left side of the curve, and if $z > 0$ it calculates the area highlighted in red on the right side of the curve. In simple, more intuitive terms, it calculates the p value of observing a sample mean as extreme or more extreme than $\\bar{x}$ under the assumption of the null hypothesis that the true mean is $\\mu$.\n",
        "\n",
        "![Null-hypothesis-region-eng.png](data:image/png;base64,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)\n",
        "\n",
        ""
      ],
      "metadata": {
        "id": "J6eKmw3k4R_W"
      }
    },
    {
      "cell_type": "markdown",
      "source": [
        "**Practice z-test 1**\n",
        "\n",
        "In class:\n",
        "\n",
        "Two volunteers. One choose the true mean. The other choose the data generation mean, standard deviation, prob dist, and sample size. Then we run a z test to see if the generated data has the same mean as the true mean."
      ],
      "metadata": {
        "id": "eORGEMYg8PWG"
      }
    },
    {
      "cell_type": "code",
      "source": [
        "#code here!"
      ],
      "metadata": {
        "id": "ub8rUstY9WRY"
      },
      "execution_count": null,
      "outputs": []
    },
    {
      "cell_type": "markdown",
      "source": [
        "**Baseball z test!**\n",
        "\n",
        "weighted on base average (wOBA) is one of Will Melville's favorite statistics to evaluate a hitter in baseball. If you don't know what wOBA is that's okay. All you need to know is that like batting average, higher values of wOBA mean better hitters. The average wOBA on all regular season plate appearances in 2023 was 0.318 and the standard deviation was 0.513. Thus, we have $\\mu = 0.318$ and $\\sigma = 0.513$.\n",
        "\n",
        "<br>\n",
        "\n",
        "Aaron Judge of the New York Yankees is off to an amazing start to the 2025 season. In 191 plate appearances, he has a wOBA of 0.521! Perform a z test to see if Aaron Judge's 2025 wOBA is statistically significantly better than average."
      ],
      "metadata": {
        "id": "XvHYDSw0-IWn"
      }
    },
    {
      "cell_type": "code",
      "source": [
        "#mu and sigma\n",
        "mu = 0.318\n",
        "sigma = 0.513\n",
        "\n",
        "#Aaron Judge's wOBA\n",
        "xbar = 0.521\n",
        "\n",
        "#number of PAs\n",
        "n = 191\n",
        "\n",
        "#calculate the z score and define the p value . . .\n",
        "\n"
      ],
      "metadata": {
        "id": "IPFINp_jBgks"
      },
      "execution_count": null,
      "outputs": []
    },
    {
      "cell_type": "markdown",
      "source": [
        "**CLT and z scores and uncertainty/CI**\n",
        "\n",
        "Since the standard error is the standard deviation of the sample mean's normal distribution, we can easily calculate confidence intervals for our sample mean using the normal pdf!\n",
        "\n",
        "Let's use the Aaron Judge example again. The standard deviation is 0.513, n is 191, and the sample mean is 0.521. Calculate a 95% confidence interval for Aaron Judge's true wOBA. Remember the 68-95-99.7 rule!"
      ],
      "metadata": {
        "id": "fwPycJttyhAC"
      }
    },
    {
      "cell_type": "code",
      "source": [
        "#calculate the standard error, which is the standard deviation of the sample mean\n",
        "std_err = 0.513 / np.sqrt(191).item()\n",
        "\n",
        "ci95 = [0.521 - 2 * std_err, 0.521 + 2*std_err]\n",
        "\n",
        "ci95"
      ],
      "metadata": {
        "id": "nPTj4DKLBzZi"
      },
      "execution_count": null,
      "outputs": []
    },
    {
      "cell_type": "markdown",
      "source": [
        "What if we want a confidence interval different from 95%? We can use the standard normal distribution to figure out which"
      ],
      "metadata": {
        "id": "tLvZOuLwzoV2"
      }
    },
    {
      "cell_type": "code",
      "source": [
        "#what if we wanted a different confidence interval? Use the ppf function, which is the inverse of the cdf function.\n",
        "#it gives the value such that x% of the density is left of that value, so if we want a confidence interval of\n",
        "#size c, we define the number of standard deviations as ppf(0.5 + confidence_level / 2). If that value is y then the new confidence interval\n",
        "#is mean - y*std_err, mean + y*std_err\n",
        "\n",
        "confidence_level = 0.5\n",
        "num_sd = norm(0, 1).ppf(0.5 + confidence_level / 2).item()\n",
        "ci = [0.521 - (std_err * num_sd), 0.521 + (std_err * num_sd)]\n",
        "ci"
      ],
      "metadata": {
        "id": "RczAf2nYzjCL"
      },
      "execution_count": null,
      "outputs": []
    },
    {
      "cell_type": "code",
      "source": [],
      "metadata": {
        "id": "Nv-JxjaV0p-V"
      },
      "execution_count": null,
      "outputs": []
    }
  ]
}