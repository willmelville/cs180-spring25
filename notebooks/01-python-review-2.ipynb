{
  "cells": [
    {
      "cell_type": "markdown",
      "metadata": {
        "id": "eZzgou65emmo"
      },
      "source": [
        "# Python Review: Data Structures and Functions"
      ]
    },
    {
      "cell_type": "markdown",
      "metadata": {
        "id": "u_PYdNFfemmq"
      },
      "source": [
        "# Tuples\n",
        "\n",
        "A tuple is an immutable sequence of Python objects.  Tuples can be created with a comma-separated sequence of values.  Parentheses are not requires, but can be used for readability.   The keyword ``tuple`` is used to convert another object to a tuple.\n"
      ]
    },
    {
      "cell_type": "code",
      "execution_count": null,
      "metadata": {
        "id": "AcqtNspNemms"
      },
      "outputs": [],
      "source": [
        "tup = 1, 2, 3\n",
        "print(tup)"
      ]
    },
    {
      "cell_type": "code",
      "execution_count": null,
      "metadata": {
        "id": "vRiS63Jvemmu"
      },
      "outputs": [],
      "source": [
        "another_tup = (4,5,6,7)\n",
        "print(another_tup)"
      ]
    },
    {
      "cell_type": "code",
      "execution_count": null,
      "metadata": {
        "id": "fxQIcuoyemmw"
      },
      "outputs": [],
      "source": [
        "tuple_from_list = tuple([1,2,3])\n",
        "tuple_from_list"
      ]
    },
    {
      "cell_type": "code",
      "execution_count": null,
      "metadata": {
        "id": "1JVd2gOZemmx"
      },
      "outputs": [],
      "source": [
        "# new tuples can be created from existing tuples\n",
        "new_tup = tup + another_tup\n",
        "print(tup)\n",
        "print(another_tup)\n",
        "print(new_tup)"
      ]
    },
    {
      "cell_type": "code",
      "execution_count": null,
      "metadata": {
        "id": "ATlbE8Zuemmy"
      },
      "outputs": [],
      "source": [
        "new_tup = tup * 3\n",
        "print(tup)\n",
        "print(new_tup)"
      ]
    },
    {
      "cell_type": "markdown",
      "metadata": {
        "id": "Yg0FKMrzemm0"
      },
      "source": [
        "## Methods for tuples\n",
        "\n",
        "Since tuples are immutable, there aren't as many methods for tuples as for, say lists.\n",
        "\n",
        "``tup.count(x)`` will count the number of occurences of ``x``.  \n",
        "``tup.index(x)`` will return the first index of ``x`` and will give an error if ``x`` is not present"
      ]
    },
    {
      "cell_type": "code",
      "execution_count": null,
      "metadata": {
        "id": "pj4zRgb7emm1"
      },
      "outputs": [],
      "source": [
        "tup = (1,1,3,2)\n",
        "tup.count(1)"
      ]
    },
    {
      "cell_type": "code",
      "execution_count": null,
      "metadata": {
        "id": "6GaxxqCXemm2"
      },
      "outputs": [],
      "source": [
        "tup.index(1)"
      ]
    },
    {
      "cell_type": "code",
      "execution_count": null,
      "metadata": {
        "id": "PRhcr2zlemm3"
      },
      "outputs": [],
      "source": [
        "tup.index(4)"
      ]
    },
    {
      "cell_type": "code",
      "source": [
        "#you can also check if something is or isn't in a tuple\n",
        "3 in tup"
      ],
      "metadata": {
        "id": "qOOUOnc-fGEv"
      },
      "execution_count": null,
      "outputs": []
    },
    {
      "cell_type": "code",
      "source": [
        "5 in tup"
      ],
      "metadata": {
        "id": "qEoKeDnGfLGS"
      },
      "execution_count": null,
      "outputs": []
    },
    {
      "cell_type": "markdown",
      "metadata": {
        "id": "MmtbzEmYemm3"
      },
      "source": [
        "## Tuple unpacking\n",
        "\n",
        "One of the great things about using tuples is their ability to be *unpacked*.  Tuple unpacking is when we extract values of the tuple into other variables."
      ]
    },
    {
      "cell_type": "code",
      "execution_count": null,
      "metadata": {
        "id": "e87mF1Nkemm4"
      },
      "outputs": [],
      "source": [
        "tup = (12, 7, 19, (1, 3, 5))\n",
        "a, b, c, d = tup"
      ]
    },
    {
      "cell_type": "code",
      "execution_count": null,
      "metadata": {
        "id": "R_66lgEsemm5"
      },
      "outputs": [],
      "source": [
        "print(a)"
      ]
    },
    {
      "cell_type": "code",
      "execution_count": null,
      "metadata": {
        "id": "4ncq_PLDemm5"
      },
      "outputs": [],
      "source": [
        "print(d)"
      ]
    },
    {
      "cell_type": "code",
      "execution_count": null,
      "metadata": {
        "id": "UgNLwQxzemm6"
      },
      "outputs": [],
      "source": [
        "a, b, *rest = tup\n",
        "print(b)"
      ]
    },
    {
      "cell_type": "code",
      "source": [
        "#we can define functions that return multiple objects. The objects get returned to a tuple that can be unpacked\n",
        "def my_name():\n",
        "  return 'William', 'Michael', 'Melville'\n",
        "\n",
        "my_name()"
      ],
      "metadata": {
        "id": "C5CJJT9VfR0x"
      },
      "execution_count": null,
      "outputs": []
    },
    {
      "cell_type": "code",
      "source": [
        "first, middle, last = my_name()\n",
        "print(first)\n",
        "print(middle)\n",
        "print(last)"
      ],
      "metadata": {
        "id": "t-rA3LfwfgDf"
      },
      "execution_count": null,
      "outputs": []
    },
    {
      "cell_type": "markdown",
      "metadata": {
        "id": "xfARFvJQemm6"
      },
      "source": [
        "# Lists\n",
        "\n",
        "A list is a mutable sequence of Python objects.  Lists are defined with square brackets ``[`` ``]``.  The keyword ``list`` is used to convert another object (such as a tuple or a generator) to a list."
      ]
    },
    {
      "cell_type": "code",
      "execution_count": null,
      "metadata": {
        "id": "gnKlYbINemm7"
      },
      "outputs": [],
      "source": [
        "my_list = [1, 2, 3]"
      ]
    },
    {
      "cell_type": "code",
      "execution_count": null,
      "metadata": {
        "id": "xugjHo-qemm7"
      },
      "outputs": [],
      "source": [
        "another_list = list(tup)"
      ]
    },
    {
      "cell_type": "code",
      "execution_count": null,
      "metadata": {
        "id": "hhiZUH_zemm7"
      },
      "outputs": [],
      "source": [
        "print(another_list)"
      ]
    },
    {
      "cell_type": "code",
      "execution_count": null,
      "metadata": {
        "id": "5pN-cCsaemm8"
      },
      "outputs": [],
      "source": [
        "list(range(0,31,2))"
      ]
    },
    {
      "cell_type": "code",
      "execution_count": null,
      "metadata": {
        "id": "d3uLeobyemm8"
      },
      "outputs": [],
      "source": [
        "#  a list can also be a list of lists\n",
        "list_of_lists = [[1,2,3], [4,5,6], [7,8,9]]\n",
        "print(list_of_lists)"
      ]
    },
    {
      "cell_type": "code",
      "execution_count": null,
      "metadata": {
        "id": "W8BI5Y4jemm8"
      },
      "outputs": [],
      "source": [
        "list_of_lists[0] = 'Hello'\n",
        "list_of_lists"
      ]
    },
    {
      "cell_type": "markdown",
      "metadata": {
        "id": "Di3KQLagemm9"
      },
      "source": [
        "## Common Methods for Lists\n",
        "\n",
        "Lists are mutable, meaning they can be changed after they are created.  Here are a few of the common methods for lists. (Note that most of these methods will change the list.)  All the methods can be shown by typing ``dir(list_object)`` or ``list_object.<tab>``\n",
        "\n",
        "The ``.index`` and ``.count`` work similar to the tuple methods.  Other common methods include:\n",
        "\n",
        "* ``my_list.append(x) #append an object to the end of a list``  \n",
        "* ``my_list.insert(index, x) #insert an object at a specific location (index will be the index of the inserted item)``   \n",
        "* ``my_list.extend(list) #append another list to a list``    \n",
        "* ``my_list.remove(value) #remove the first occurrence of value``   \n",
        "* ``my_list.pop(index) #remove and return the item at index (default is index = -1, the last element)``  \n",
        "* ``my_list.reverse() #reverse the list``    \n",
        "* ``my_list.sort() # sort the list ``"
      ]
    },
    {
      "cell_type": "code",
      "execution_count": null,
      "metadata": {
        "id": "4qzNIcI5emm9"
      },
      "outputs": [],
      "source": [
        "my_list = [1, 3, 5, 7, 9, 12]"
      ]
    },
    {
      "cell_type": "code",
      "execution_count": null,
      "metadata": {
        "id": "JheB4HTNemm9"
      },
      "outputs": [],
      "source": [
        "# add the string \"fun\" to the end of my_list\n",
        "my_list.append('fun')"
      ]
    },
    {
      "cell_type": "code",
      "execution_count": null,
      "metadata": {
        "id": "rHSp31v8emm-"
      },
      "outputs": [],
      "source": [
        "print(my_list)"
      ]
    },
    {
      "cell_type": "code",
      "execution_count": null,
      "metadata": {
        "id": "xrygif2Bemm-"
      },
      "outputs": [],
      "source": [
        "# add the string \"data science\" between the numbers 3 and 5\n"
      ]
    },
    {
      "cell_type": "code",
      "execution_count": null,
      "metadata": {
        "id": "gY955My8emm-"
      },
      "outputs": [],
      "source": [
        "# append the the strings \"i\", \"love\", and \"fun\" to the end of my_list in one line of code.\n"
      ]
    },
    {
      "cell_type": "code",
      "execution_count": null,
      "metadata": {
        "id": "2bjIjAsWemm-"
      },
      "outputs": [],
      "source": [
        "# remove the first \"fun\"\n"
      ]
    },
    {
      "cell_type": "code",
      "execution_count": null,
      "metadata": {
        "id": "96X8wrslemm_"
      },
      "outputs": [],
      "source": [
        "# remove and return the last element of my_list\n"
      ]
    },
    {
      "cell_type": "code",
      "execution_count": null,
      "metadata": {
        "id": "EVa6M0kQemm_"
      },
      "outputs": [],
      "source": [
        "# remove and return the number 5 in my_list\n"
      ]
    },
    {
      "cell_type": "code",
      "execution_count": null,
      "metadata": {
        "id": "q5yD5Tfqemm_"
      },
      "outputs": [],
      "source": [
        "print(my_list)"
      ]
    },
    {
      "cell_type": "code",
      "execution_count": null,
      "metadata": {
        "id": "ISdVccBremnA"
      },
      "outputs": [],
      "source": [
        "#  sort my_list.  Does it make sense to sort this list?"
      ]
    },
    {
      "cell_type": "code",
      "execution_count": null,
      "metadata": {
        "id": "_fKYPhWWemnA"
      },
      "outputs": [],
      "source": [
        "my_numbers = [34, 0, 1, 2, 5, 3, 1, 13, 8, 21]\n",
        "my_numbers.sort()\n",
        "print(my_numbers)"
      ]
    },
    {
      "cell_type": "code",
      "execution_count": null,
      "metadata": {
        "id": "Ip0WzBKhemnA"
      },
      "outputs": [],
      "source": [
        "#  Lists of strings will be sorted alphabetically, with capital letters first, then lower case\n",
        "my_words = [\"I\", \"Love\", \"data\", \"science\", \"It\", \"is\", \"Fun\"]\n",
        "my_words.sort()\n",
        "print(my_words)"
      ]
    },
    {
      "cell_type": "markdown",
      "metadata": {
        "id": "kA7FH-aCemnA"
      },
      "source": [
        "Note that there is also a function called sorted that will sort a list without changing the list."
      ]
    },
    {
      "cell_type": "code",
      "execution_count": null,
      "metadata": {
        "id": "K3iOn692emnB"
      },
      "outputs": [],
      "source": [
        "my_words = [\"I\", \"Love\", \"data\", \"science\", \"It\", \"is\", \"Fun\"]\n",
        "sorted(my_words)"
      ]
    },
    {
      "cell_type": "code",
      "execution_count": null,
      "metadata": {
        "id": "sYZirFNjemnB"
      },
      "outputs": [],
      "source": [
        "print(my_words)"
      ]
    },
    {
      "cell_type": "markdown",
      "metadata": {
        "id": "FxGz1HHPemnP"
      },
      "source": [
        "## Indexing and Slicing\n",
        "\n",
        "Before moving on to dictionaries, let's talk about indexing and slicing.  As we've said, the index for Python objects begins at 0.  Indexing of most (maybe all) indexable objects is done with bracket notation.  Python also supports negative indexing, so index -1 is the last element, -2 is the second to last, etc."
      ]
    },
    {
      "cell_type": "code",
      "execution_count": null,
      "metadata": {
        "id": "EpzcCiCAemnQ"
      },
      "outputs": [],
      "source": [
        "my_string = \"James Hathaway\"\n",
        "my_list = [0, 1, 1, 2, 3, 5, 8, 21, 34]\n",
        "my_tuple = (4, 5, 6, 7)"
      ]
    },
    {
      "cell_type": "code",
      "execution_count": null,
      "metadata": {
        "id": "E4YHCpR4emnQ"
      },
      "outputs": [],
      "source": [
        "my_string[0]"
      ]
    },
    {
      "cell_type": "code",
      "execution_count": null,
      "metadata": {
        "id": "ATHEifBlemnQ"
      },
      "outputs": [],
      "source": [
        "my_list[-2]"
      ]
    },
    {
      "cell_type": "code",
      "execution_count": null,
      "metadata": {
        "id": "Ad0gnZVXemnQ"
      },
      "outputs": [],
      "source": [
        "my_tuple[3]"
      ]
    },
    {
      "cell_type": "markdown",
      "metadata": {
        "id": "jaxMWZGLemnR"
      },
      "source": [
        "Slicing means selecting sections of objects.  Basic form of slice notation is ``start:stop``.  Note that the ``start`` index is included, but the ``stop`` index is excluded.  The ``start`` and ``stop`` indexes can be omitted, in which case they default to the start and end of the sequence, respectively.\n",
        "\n",
        "A third argument will add a step size, ``start:stop:step``.\n",
        "\n",
        "list.index(object) may be helpful here."
      ]
    },
    {
      "cell_type": "code",
      "execution_count": null,
      "metadata": {
        "id": "JEd0RFCsemnR"
      },
      "outputs": [],
      "source": [
        "# Get the word \"James\" from my_string"
      ]
    },
    {
      "cell_type": "code",
      "execution_count": null,
      "metadata": {
        "id": "UMTzI9qWemnR"
      },
      "outputs": [],
      "source": [
        "# From my_list, get the numbers 5, 8, 21, and 34"
      ]
    },
    {
      "cell_type": "code",
      "execution_count": null,
      "metadata": {
        "id": "kGblwl1demnR"
      },
      "outputs": [],
      "source": [
        "# From my_list, get the numbers 1, 1, 2, 3"
      ]
    },
    {
      "cell_type": "code",
      "execution_count": null,
      "metadata": {
        "id": "VkAbesTqemnR"
      },
      "outputs": [],
      "source": [
        "# From my_string, get every other character\n"
      ]
    },
    {
      "cell_type": "code",
      "execution_count": null,
      "metadata": {
        "id": "khE71MgKemnR"
      },
      "outputs": [],
      "source": [
        "# reverse my_list (without changing it)\n"
      ]
    },
    {
      "cell_type": "markdown",
      "metadata": {
        "id": "1s8fpWaeemnS"
      },
      "source": [
        "# Dictionaries\n",
        "\n",
        "Dictionaries or ``dict`` objects are mappings, which are a collection of unordered objects that are stored by a key.  These are similar to hash tables from other languages.\n",
        "\n",
        "## Constructing a Dictionary\n",
        "\n",
        "Dictionaries can be constructed with curly braces ``{key:value,...}``.    The *values* of a ``dict`` object can be any Python object, but the *keys* generally should to be scalars, like integers or strings.  (The keys actually need to be hashable objects which will be true for most immutable objects)."
      ]
    },
    {
      "cell_type": "code",
      "execution_count": null,
      "metadata": {
        "id": "v5GHuAGSemnS"
      },
      "outputs": [],
      "source": [
        "my_dict = {'key1': 12, 'key2': 13, 'key3': 14}"
      ]
    },
    {
      "cell_type": "code",
      "execution_count": null,
      "metadata": {
        "id": "y51CZKQRemnS"
      },
      "outputs": [],
      "source": [
        "dict_two = {1:'Country',2:'County',3:'City', 4:'Zip', 5:'Street'}"
      ]
    },
    {
      "cell_type": "code",
      "execution_count": null,
      "metadata": {
        "id": "04Gq7ii-emnS"
      },
      "outputs": [],
      "source": [
        "another_dict = {'A': 456, 'B': [1, 2 ,3], 'C': (42, 'Answer')}"
      ]
    },
    {
      "cell_type": "code",
      "execution_count": null,
      "metadata": {
        "id": "Ai9cS4IgemnS"
      },
      "outputs": [],
      "source": [
        "# call items from the dictionary with the key\n",
        "dict_two[4]"
      ]
    },
    {
      "cell_type": "code",
      "execution_count": null,
      "metadata": {
        "id": "O26bvKAtemnT"
      },
      "outputs": [],
      "source": [
        "another_dict['C']"
      ]
    },
    {
      "cell_type": "code",
      "execution_count": null,
      "metadata": {
        "id": "LKtYr176emnT"
      },
      "outputs": [],
      "source": [
        "another_dict['C'][1]"
      ]
    },
    {
      "cell_type": "code",
      "execution_count": null,
      "metadata": {
        "id": "0Rikg9N-emnT"
      },
      "outputs": [],
      "source": [
        "# Check if a dict contains a certain key\n",
        "1 in dict_two"
      ]
    },
    {
      "cell_type": "code",
      "execution_count": null,
      "metadata": {
        "id": "f7uvOS4JemnT"
      },
      "outputs": [],
      "source": [
        "1 in another_dict"
      ]
    },
    {
      "cell_type": "markdown",
      "metadata": {
        "id": "_ATMnyakemnT"
      },
      "source": [
        "Dictionaries can also be constructed from a sequences of 2-tuples or built up from an empty dictionary."
      ]
    },
    {
      "cell_type": "code",
      "execution_count": null,
      "metadata": {
        "id": "0rpcBjrRemnT"
      },
      "outputs": [],
      "source": [
        "tups = (('Dog','Bark'), ('Duck','Quack'), ('Cow','Moo'), ('Cat','Meow'))\n",
        "tups"
      ]
    },
    {
      "cell_type": "code",
      "execution_count": null,
      "metadata": {
        "id": "oPADLDzaemnU"
      },
      "outputs": [],
      "source": [
        "dict(tups)"
      ]
    },
    {
      "cell_type": "code",
      "execution_count": null,
      "metadata": {
        "id": "-RaF-MMyemnU"
      },
      "outputs": [],
      "source": [
        "d = {}\n",
        "d"
      ]
    },
    {
      "cell_type": "code",
      "execution_count": null,
      "metadata": {
        "id": "IJkS4sXyemnU"
      },
      "outputs": [],
      "source": [
        "# Built from empty\n",
        "d = {}\n",
        "d['Dog'] = 'Bark'\n",
        "d['Duck'] = 'Quack'\n",
        "d"
      ]
    },
    {
      "cell_type": "markdown",
      "metadata": {
        "id": "VK7OjiBsemnU"
      },
      "source": [
        "It is somewhat common to build up a dictionary in a loop. For example, let's build a dictionary that takes a list of words and categorizes them alphabetically."
      ]
    },
    {
      "cell_type": "code",
      "execution_count": null,
      "metadata": {
        "id": "zyy-E9akemnU"
      },
      "outputs": [],
      "source": [
        "list_of_words = ['blue', 'red', 'Read', 'apple', 'Baseball', 'bear', 'car']"
      ]
    },
    {
      "cell_type": "code",
      "execution_count": null,
      "metadata": {
        "id": "3E09spRYemnU"
      },
      "outputs": [],
      "source": [
        "d = {}\n",
        "for word in list_of_words:\n",
        "    first_letter = word[0].lower()\n",
        "    if first_letter in d:\n",
        "        d[first_letter].append(word)\n",
        "    else:\n",
        "        d[first_letter] = [word]\n",
        "\n",
        "d"
      ]
    },
    {
      "cell_type": "code",
      "source": [
        "#you can also 'zip' iterables into a dictionary\n",
        "keys = [1,2,3,4,5,6]\n",
        "values = ['a', 'b', 'c', 'd', 'e', 'f']\n",
        "d= dict(zip(keys, values))\n",
        "d"
      ],
      "metadata": {
        "id": "QgPbfLQdhLN-"
      },
      "execution_count": null,
      "outputs": []
    },
    {
      "cell_type": "markdown",
      "metadata": {
        "id": "gD4Lv4pNemnV"
      },
      "source": [
        "## Some Methods for Dictionaries"
      ]
    },
    {
      "cell_type": "code",
      "execution_count": null,
      "metadata": {
        "id": "cPxK6fLlemnV"
      },
      "outputs": [],
      "source": [
        "# return a list of keys\n",
        "d.keys()"
      ]
    },
    {
      "cell_type": "code",
      "execution_count": null,
      "metadata": {
        "id": "SCQPcYEHemnV"
      },
      "outputs": [],
      "source": [
        "# return a list of values\n",
        "d.values()"
      ]
    },
    {
      "cell_type": "code",
      "execution_count": null,
      "metadata": {
        "id": "z0XQgJYoemnV"
      },
      "outputs": [],
      "source": [
        "# return tuples of keys and values\n",
        "d.items()"
      ]
    },
    {
      "cell_type": "code",
      "execution_count": null,
      "metadata": {
        "id": "dKYW3x-0emnV"
      },
      "outputs": [],
      "source": [
        "for key, value in d.items():\n",
        "    print('key: ', key)\n",
        "    print('value: ', value)"
      ]
    },
    {
      "cell_type": "markdown",
      "metadata": {
        "id": "jNOifhGgemnV"
      },
      "source": [
        "# Sets\n",
        "\n",
        "A set is an unordered collection of unique elements.  Sets can be created with the ``set`` function or with curly braces."
      ]
    },
    {
      "cell_type": "code",
      "execution_count": null,
      "metadata": {
        "id": "vT0iQG8RemnW"
      },
      "outputs": [],
      "source": [
        "A = set([1,2,3,3,4,5])\n",
        "A"
      ]
    },
    {
      "cell_type": "code",
      "execution_count": null,
      "metadata": {
        "id": "pwUSoWIgemnW"
      },
      "outputs": [],
      "source": [
        "B = {2, 3, 2, 3, 2, 3, 4}\n",
        "B"
      ]
    },
    {
      "cell_type": "markdown",
      "metadata": {
        "id": "4M9vux5OemnW"
      },
      "source": [
        "Sets support mathematical set operations like union, intersection, difference, etc.  "
      ]
    },
    {
      "cell_type": "code",
      "execution_count": null,
      "metadata": {
        "id": "q_gOkOL5emnW"
      },
      "outputs": [],
      "source": [
        "A.union(B)"
      ]
    },
    {
      "cell_type": "code",
      "source": [
        "A | B"
      ],
      "metadata": {
        "id": "ZqDWF_7LhnZh"
      },
      "execution_count": null,
      "outputs": []
    },
    {
      "cell_type": "code",
      "execution_count": null,
      "metadata": {
        "id": "0oYXoYHTemnW"
      },
      "outputs": [],
      "source": [
        "B.intersection(A)"
      ]
    },
    {
      "cell_type": "code",
      "source": [
        "B & A"
      ],
      "metadata": {
        "id": "B-EI-Qx1hqdm"
      },
      "execution_count": null,
      "outputs": []
    },
    {
      "cell_type": "code",
      "execution_count": null,
      "metadata": {
        "id": "vzzbu_pTemnW"
      },
      "outputs": [],
      "source": [
        "A.difference(B)"
      ]
    },
    {
      "cell_type": "code",
      "source": [
        "A - B"
      ],
      "metadata": {
        "id": "mYrI1hT4hu-6"
      },
      "execution_count": null,
      "outputs": []
    },
    {
      "cell_type": "code",
      "execution_count": null,
      "metadata": {
        "id": "Bx4orvT1emnW"
      },
      "outputs": [],
      "source": [
        "B.difference(A)"
      ]
    },
    {
      "cell_type": "code",
      "source": [
        "B - A"
      ],
      "metadata": {
        "id": "tB4lLVpYhwSp"
      },
      "execution_count": null,
      "outputs": []
    },
    {
      "cell_type": "markdown",
      "metadata": {
        "id": "ntX9SLHeemnX"
      },
      "source": [
        "# List Comprehensions\n",
        "\n",
        "List comprehensions are a way to create a list from another list (or collection) that might normally need to be created with a ``for`` loop.\n",
        "\n",
        "The general form of a list comprension is\n",
        "~~~~\n",
        "[expression for val in collection if condition]\n",
        "~~~~\n",
        "and is equivalent to\n",
        "~~~~\n",
        "result = []\n",
        "for val in collection:\n",
        "    if condition:\n",
        "        result.append(expression)\n",
        "~~~~\n",
        "(the filter condition can optionally be left out if not required.)\n",
        "\n",
        "For example, find a list of numbers from 1 to 100 that are divisible by 7."
      ]
    },
    {
      "cell_type": "code",
      "execution_count": null,
      "metadata": {
        "id": "V3lXSCCGemnX"
      },
      "outputs": [],
      "source": [
        "result = []\n",
        "for num in range(1,101):\n",
        "    if num % 7 == 0:\n",
        "        result.append(num)\n",
        "result"
      ]
    },
    {
      "cell_type": "code",
      "execution_count": null,
      "metadata": {
        "id": "T5EQSyE3emnX"
      },
      "outputs": [],
      "source": [
        "# as a list comprehension\n",
        "# [expression for val in collection if condition]\n",
        "result = [num for num in range(1,100) if num % 7 == 0]\n",
        "result"
      ]
    },
    {
      "cell_type": "markdown",
      "metadata": {
        "id": "jNd4jVlDemnX"
      },
      "source": [
        "## Dictionary and Set Comprehensions\n",
        "\n",
        "Dictionary and sets can be created in a similar way.\n",
        "\n",
        "~~~~\n",
        "# dictionary comprehension\n",
        "d = {key-expression : value-expression for value in collection if condition}\n",
        "\n",
        "# set comprehesnion\n",
        "s = {expression for val in collection if condition}\n",
        "~~~~\n",
        "\n",
        "As an example, let's create a dictionary where the key is a number between 1 and 20 that is divisible by 2 and the value is a list of the square and cube of the number.   "
      ]
    },
    {
      "cell_type": "code",
      "execution_count": null,
      "metadata": {
        "id": "yFnK8uM_emnX"
      },
      "outputs": [],
      "source": [
        "d = {}\n",
        "for num in range(1,21):\n",
        "    if num % 2 == 0:\n",
        "        d[num] = [num**2, num**3]\n",
        "d"
      ]
    },
    {
      "cell_type": "code",
      "execution_count": null,
      "metadata": {
        "id": "-mq8thkyemnX"
      },
      "outputs": [],
      "source": [
        "# as a dictionary comprehension\n",
        "{num: [num**2, num**3] for num in range(1,21) if num % 2 == 0}"
      ]
    },
    {
      "cell_type": "markdown",
      "metadata": {
        "id": "OLN3PDpjemnY"
      },
      "source": [
        "# Functions\n",
        "\n",
        "A function is a way to organize and reuse code.  Functions in Python are created with the ``def`` statement and take the following form:\n",
        "\n",
        "~~~~\n",
        "def name_of_function(arg1, arg2, more_args):\n",
        "    '''\n",
        "    Docstring that describes what the function does\n",
        "    '''\n",
        "    \n",
        "    expression\n",
        "    return\n",
        "~~~~"
      ]
    },
    {
      "cell_type": "code",
      "execution_count": null,
      "metadata": {
        "id": "xr80mBOjemnY"
      },
      "outputs": [],
      "source": [
        "def long_name(name):\n",
        "    '''\n",
        "    This function takes a name as input and returns True if the name is long\n",
        "    and False if the name is short.\n",
        "    '''\n",
        "    val = 1 if len(name) > 7 else 0\n",
        "    return bool(val)\n",
        "\n",
        ""
      ]
    },
    {
      "cell_type": "code",
      "execution_count": null,
      "metadata": {
        "id": "XVFUEcn8emnY"
      },
      "outputs": [],
      "source": [
        "long_name('Jake')"
      ]
    },
    {
      "cell_type": "code",
      "execution_count": null,
      "metadata": {
        "id": "bz_HKU8wemnY"
      },
      "outputs": [],
      "source": [
        "long_name('Stephanie')"
      ]
    },
    {
      "cell_type": "code",
      "execution_count": null,
      "metadata": {
        "id": "LdfqSr6eemnY"
      },
      "outputs": [],
      "source": [
        "def long_name_n(name, n):\n",
        "    '''\n",
        "    This function returns True if name has greater than n letters and False otherwise\n",
        "    '''\n",
        "    val = 1 if len(name) > n else 0\n",
        "    return bool(val)\n"
      ]
    },
    {
      "cell_type": "code",
      "execution_count": null,
      "metadata": {
        "id": "_39MMM7temnY"
      },
      "outputs": [],
      "source": [
        "long_name_n('Jake', 3)"
      ]
    },
    {
      "cell_type": "code",
      "execution_count": null,
      "metadata": {
        "id": "B_jPkHx2emnZ"
      },
      "outputs": [],
      "source": [
        "long_name_n('Jake', 5)"
      ]
    },
    {
      "cell_type": "code",
      "execution_count": null,
      "metadata": {
        "id": "bsnngEpeemnZ"
      },
      "outputs": [],
      "source": [
        "long_name_n('Frank', 5)"
      ]
    },
    {
      "cell_type": "code",
      "execution_count": null,
      "metadata": {
        "id": "_JfmqcYjemnZ"
      },
      "outputs": [],
      "source": [
        "def long_name_n(name, n=7):\n",
        "    '''\n",
        "    This function returns True if name has greater than n letters and False otherwise\n",
        "    '''\n",
        "    val = 1 if len(name) > n else 0\n",
        "    return bool(val)\n"
      ]
    },
    {
      "cell_type": "code",
      "execution_count": null,
      "metadata": {
        "id": "r6eT6WZxemnZ"
      },
      "outputs": [],
      "source": [
        "long_name_n('Jake')"
      ]
    },
    {
      "cell_type": "code",
      "execution_count": null,
      "metadata": {
        "id": "m_h_IkYqemnZ"
      },
      "outputs": [],
      "source": [
        "long_name_n('Jake', 3)"
      ]
    },
    {
      "cell_type": "markdown",
      "metadata": {
        "id": "Y1O7lS3UemnZ"
      },
      "source": [
        "# Lambda Expressions (Anonymous Functions)\n",
        "\n",
        "Lambda expressions are single statement functions that are so-called anonymous because they aren't given a name.  They are declared with the keyword ``lambda``.  Lambda expressions are of the form\n",
        "\n",
        "~~~~\n",
        "lambda argument(s) : expression\n",
        "~~~~\n",
        "\n",
        "There are some functions (two examples are the ``map`` and ``filter`` functions) that take as input another function.  A lambda expression is a way to define an input function without actually defining a formal function.  It is like a temporary function that will only be used once."
      ]
    },
    {
      "cell_type": "code",
      "execution_count": null,
      "metadata": {
        "id": "i8Ufj-qzemnZ"
      },
      "outputs": [],
      "source": [
        "my_names = ['Lewis', 'Hathaway', 'Hobson', 'Innocent']"
      ]
    },
    {
      "cell_type": "code",
      "execution_count": null,
      "metadata": {
        "id": "l535NwnfemnZ"
      },
      "outputs": [],
      "source": [
        "def reverse_name(name):\n",
        "    return name[::-1]\n",
        "\n",
        "list(map(reverse_name, my_names))"
      ]
    },
    {
      "cell_type": "code",
      "execution_count": null,
      "metadata": {
        "id": "HoMSuBa7emna"
      },
      "outputs": [],
      "source": [
        "list(map(lambda y : y[::-1], my_names))"
      ]
    },
    {
      "cell_type": "markdown",
      "source": [
        "You can also use name a lambda function and use it like any other function"
      ],
      "metadata": {
        "id": "rYcn1a2Pk8k2"
      }
    },
    {
      "cell_type": "code",
      "source": [
        "add_one = lambda x: x + 1\n",
        "add_one(100)"
      ],
      "metadata": {
        "id": "Gz_GrryClA3l"
      },
      "execution_count": null,
      "outputs": []
    },
    {
      "cell_type": "code",
      "source": [
        "def add_one(x):\n",
        "  return x + 1\n",
        "\n",
        "add_one(100)"
      ],
      "metadata": {
        "id": "Bxu408MVlGDE"
      },
      "execution_count": null,
      "outputs": []
    },
    {
      "cell_type": "markdown",
      "metadata": {
        "id": "CneSCQtRemna"
      },
      "source": [
        "# Classes\n",
        "\n",
        "\n",
        "Python is an object oriented programming language. Almost everything in python is an object with attributes and methods.\n",
        "\n",
        "A class is like an object constructor or a \"blueprint\" for creating objects."
      ]
    },
    {
      "cell_type": "code",
      "execution_count": null,
      "metadata": {
        "id": "dkpiEiPWemna"
      },
      "outputs": [],
      "source": [
        "class Car:\n",
        "    def __init__(self, make, model, year): # Called when a instance of the class is created\n",
        "        self.make = make\n",
        "        self.model = model\n",
        "        self.year = year\n",
        "        self.speed = 0\n",
        "\n",
        "    def accelerate(self, increment):\n",
        "        self.speed += increment\n",
        "\n",
        "    def brake(self, decrement):\n",
        "        if self.speed >= decrement:\n",
        "            self.speed -= decrement\n",
        "        else:\n",
        "            self.speed = 0\n",
        "\n",
        "    def get_speed(self):\n",
        "        return self.speed\n",
        "\n",
        "# Create an instance of the Car class\n",
        "car1 = Car(\"Toyota\", \"Camry\", 2022)\n",
        "car1.accelerate(20)\n",
        "print(\"Current Speed:\", car1.get_speed())\n",
        "car1.brake(10)\n",
        "print(\"Current Speed:\", car1.get_speed())\n"
      ]
    },
    {
      "cell_type": "markdown",
      "source": [
        "**Activity**\n",
        "\n",
        "Define a cell phone class with attribute contacts, which is a dictionary mapping names to numbers. The numbers don't have to be 7 digits long. Add a method to the class called add_contact which takes as input a name and a number and adds that contact to the contact dictionary. Add a method called remove contact which takes as input a name and removes that contact from the contact dictionary if it exists."
      ],
      "metadata": {
        "id": "cob6c94YmPSZ"
      }
    },
    {
      "cell_type": "code",
      "source": [],
      "metadata": {
        "id": "8QtTWmLxlnPm"
      },
      "execution_count": null,
      "outputs": []
    }
  ],
  "metadata": {
    "kernelspec": {
      "display_name": "Python 3 (ipykernel)",
      "language": "python",
      "name": "python3"
    },
    "language_info": {
      "codemirror_mode": {
        "name": "ipython",
        "version": 3
      },
      "file_extension": ".py",
      "mimetype": "text/x-python",
      "name": "python",
      "nbconvert_exporter": "python",
      "pygments_lexer": "ipython3",
      "version": "3.11.4"
    },
    "colab": {
      "provenance": []
    }
  },
  "nbformat": 4,
  "nbformat_minor": 0
}